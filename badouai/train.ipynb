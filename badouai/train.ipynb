{
 "cells": [
  {
   "cell_type": "code",
   "execution_count": 1,
   "id": "c66cbd78-386e-455f-abfb-8f35ffcb83e9",
   "metadata": {
    "ExecutionIndicator": {
     "show": true
    },
    "execution": {
     "iopub.execute_input": "2024-07-28T11:31:10.734267Z",
     "iopub.status.busy": "2024-07-28T11:31:10.734024Z",
     "iopub.status.idle": "2024-07-28T11:31:15.730934Z",
     "shell.execute_reply": "2024-07-28T11:31:15.730406Z",
     "shell.execute_reply.started": "2024-07-28T11:31:10.734239Z"
    },
    "tags": []
   },
   "outputs": [
    {
     "name": "stderr",
     "output_type": "stream",
     "text": [
      "/opt/conda/lib/python3.8/site-packages/tqdm/auto.py:21: TqdmWarning: IProgress not found. Please update jupyter and ipywidgets. See https://ipywidgets.readthedocs.io/en/stable/user_install.html\n",
      "  from .autonotebook import tqdm as notebook_tqdm\n",
      "2024-07-28 19:31:14,410 - __main__ - INFO - gpu可以使用，迁移模型至gpu\n"
     ]
    }
   ],
   "source": [
    "import torch\n",
    "import os\n",
    "import random\n",
    "import os\n",
    "import numpy as np\n",
    "import logging\n",
    "from config import Config\n",
    "from model import TorchModel, choose_optimizer\n",
    "from evaluate import Evaluator\n",
    "from loader import load_data2\n",
    "#[DEBUG, INFO, WARNING, ERROR, CRITICAL]\n",
    "logging.basicConfig(level=logging.INFO, format = '%(asctime)s - %(name)s - %(levelname)s - %(message)s')\n",
    "logger = logging.getLogger(__name__)\n",
    "seed = Config[\"seed\"] \n",
    "random.seed(seed)\n",
    "np.random.seed(seed)\n",
    "torch.manual_seed(seed)\n",
    "torch.cuda.manual_seed_all(seed)\n",
    "\"\"\"\n",
    "模型训练主程序\n",
    "\"\"\"\n",
    "config = Config\n",
    "#创建保存模型的目录\n",
    "if not os.path.isdir(config[\"model_path\"]):\n",
    "    os.mkdir(config[\"model_path\"])\n",
    "#加载训练数据\n",
    "train_data = load_data2(config[\"train_data_path\"], config)\n",
    "#加载模型\n",
    "model = TorchModel(config)\n",
    "# 标识是否使用gpu\n",
    "cuda_flag = torch.cuda.is_available()\n",
    "if cuda_flag:\n",
    "    logger.info(\"gpu可以使用，迁移模型至gpu\")\n",
    "    model = model.cuda()"
   ]
  },
  {
   "cell_type": "code",
   "execution_count": null,
   "id": "71558f4d-4236-4365-af70-05c0c6a89b9b",
   "metadata": {
    "tags": []
   },
   "outputs": [],
   "source": [
    "#加载优化器\n",
    "optimizer = choose_optimizer(config, model)\n",
    "#加载效果测试类\n",
    "evaluator = Evaluator(config, model, logger)\n",
    "#训练\n",
    "for epoch in range(config[\"epoch\"]):\n",
    "    epoch += 1\n",
    "    model.train()\n",
    "    logger.info(\"epoch %d begin\" % epoch)\n",
    "    train_loss = []\n",
    "    for index, batch_data in enumerate(train_data):\n",
    "        if cuda_flag:\n",
    "            batch_data = [d.cuda() for d in batch_data]\n",
    "\n",
    "        optimizer.zero_grad()\n",
    "        input_ids, labels = batch_data   #输入变化时这里需要修改，比如多输入，多输出的情况\n",
    "        loss = model(input_ids, labels)\n",
    "        loss.backward()\n",
    "        optimizer.step()\n",
    "\n",
    "        train_loss.append(loss.item())\n",
    "        if index % int(len(train_data) / 2) == 0:\n",
    "            logger.info(\"batch loss %f\" % loss)\n",
    "    logger.info(\"epoch average loss: %f\" % np.mean(train_loss))\n",
    "    acc = evaluator.eval(epoch)"
   ]
  },
  {
   "cell_type": "code",
   "execution_count": 2,
   "id": "7c47c113-6a24-439e-8481-27cac0a63a6e",
   "metadata": {
    "ExecutionIndicator": {
     "show": true
    },
    "execution": {
     "iopub.execute_input": "2024-07-28T12:03:05.862363Z",
     "iopub.status.busy": "2024-07-28T12:03:05.862057Z",
     "iopub.status.idle": "2024-07-28T12:03:07.376984Z",
     "shell.execute_reply": "2024-07-28T12:03:07.376433Z",
     "shell.execute_reply.started": "2024-07-28T12:03:05.862341Z"
    },
    "tags": []
   },
   "outputs": [
    {
     "name": "stderr",
     "output_type": "stream",
     "text": [
      "/opt/conda/lib/python3.8/site-packages/tqdm/auto.py:21: TqdmWarning: IProgress not found. Please update jupyter and ipywidgets. See https://ipywidgets.readthedocs.io/en/stable/user_install.html\n",
      "  from .autonotebook import tqdm as notebook_tqdm\n"
     ]
    }
   ],
   "source": [
    "import torch\n",
    "import os\n",
    "import random\n",
    "import os\n",
    "import numpy as np\n",
    "import logging\n",
    "from config import Config\n",
    "from model import TorchModel, choose_optimizer\n",
    "from evaluate import Evaluator\n",
    "from loader import load_data2\n",
    "#[DEBUG, INFO, WARNING, ERROR, CRITICAL]\n",
    "logging.basicConfig(level=logging.INFO, format = '%(asctime)s - %(name)s - %(levelname)s - %(message)s')\n",
    "logger = logging.getLogger(__name__)\n",
    "seed = Config[\"seed\"] \n",
    "random.seed(seed)\n",
    "np.random.seed(seed)\n",
    "torch.manual_seed(seed)\n",
    "torch.cuda.manual_seed_all(seed)\n",
    "def main(config):\n",
    "    \"\"\"\n",
    "    模型训练主程序\n",
    "    \"\"\"\n",
    "    config = Config\n",
    "    #创建保存模型的目录\n",
    "    if not os.path.isdir(config[\"model_path\"]):\n",
    "        os.mkdir(config[\"model_path\"])\n",
    "    #加载训练数据\n",
    "    train_data = load_data2(config[\"train_data_path\"], config)\n",
    "    #加载模型\n",
    "    model = TorchModel(config)\n",
    "    # 标识是否使用gpu\n",
    "    cuda_flag = torch.cuda.is_available()\n",
    "    if cuda_flag:\n",
    "        logger.info(\"gpu可以使用，迁移模型至gpu\")\n",
    "        model = model.cuda()\n",
    "        #加载优化器\n",
    "    optimizer = choose_optimizer(config, model)\n",
    "    #加载效果测试类\n",
    "    evaluator = Evaluator(config, model, logger)\n",
    "    #训练\n",
    "    acc_max = []\n",
    "    for epoch in range(config[\"epoch\"]):\n",
    "        epoch += 1\n",
    "        model.train()\n",
    "        logger.info(\"epoch %d begin\" % epoch)\n",
    "        train_loss = []\n",
    "        for index, batch_data in enumerate(train_data):\n",
    "            if cuda_flag:\n",
    "                batch_data = [d.cuda() for d in batch_data]\n",
    "\n",
    "            optimizer.zero_grad()\n",
    "            input_ids, labels = batch_data   #输入变化时这里需要修改，比如多输入，多输出的情况\n",
    "            loss = model(input_ids, labels)\n",
    "            loss.backward()\n",
    "            optimizer.step()\n",
    "\n",
    "            train_loss.append(loss.item())\n",
    "            if index % int(len(train_data) / 2) == 0:\n",
    "                logger.info(\"batch loss %f\" % loss)\n",
    "        logger.info(\"epoch average loss: %f\" % np.mean(train_loss))\n",
    "        acc = evaluator.eval(epoch)\n",
    "        acc_max.append(acc_max)\n",
    "    print('最大值:', np.max(acc_max))\n",
    "    return None"
   ]
  },
  {
   "cell_type": "code",
   "execution_count": null,
   "id": "7aa6df44-e4b8-4d68-9b4f-bc90658260dd",
   "metadata": {
    "execution": {
     "iopub.execute_input": "2024-07-28T11:47:39.446356Z",
     "iopub.status.busy": "2024-07-28T11:47:39.445956Z"
    },
    "scrolled": true,
    "tags": []
   },
   "outputs": [
    {
     "name": "stderr",
     "output_type": "stream",
     "text": [
      "2024-07-28 19:47:42,026 - __main__ - INFO - gpu可以使用，迁移模型至gpu\n",
      "2024-07-28 19:47:45,668 - __main__ - INFO - epoch 1 begin\n",
      "2024-07-28 19:47:47,634 - __main__ - INFO - batch loss 0.717829\n",
      "2024-07-28 19:48:07,102 - __main__ - INFO - batch loss 0.274572\n",
      "2024-07-28 19:48:26,681 - __main__ - INFO - epoch average loss: 0.342351\n",
      "2024-07-28 19:48:26,682 - __main__ - INFO - 开始测试第1轮模型效果：\n",
      "2024-07-28 19:48:38,361 - __main__ - INFO - 预测集合条目总量：5587\n",
      "2024-07-28 19:48:38,361 - __main__ - INFO - 预测正确条目：4883，预测错误条目：704\n",
      "2024-07-28 19:48:38,362 - __main__ - INFO - 预测准确率：0.873993\n",
      "2024-07-28 19:48:38,362 - __main__ - INFO - --------------------\n",
      "2024-07-28 19:48:38,364 - __main__ - INFO - epoch 2 begin\n",
      "2024-07-28 19:48:38,566 - __main__ - INFO - batch loss 0.182868\n",
      "2024-07-28 19:48:58,909 - __main__ - INFO - batch loss 0.289530\n",
      "2024-07-28 19:49:19,082 - __main__ - INFO - epoch average loss: 0.235641\n",
      "2024-07-28 19:49:19,082 - __main__ - INFO - 开始测试第2轮模型效果：\n",
      "2024-07-28 19:49:30,869 - __main__ - INFO - 预测集合条目总量：5587\n",
      "2024-07-28 19:49:30,869 - __main__ - INFO - 预测正确条目：5146，预测错误条目：441\n",
      "2024-07-28 19:49:30,870 - __main__ - INFO - 预测准确率：0.921067\n",
      "2024-07-28 19:49:30,870 - __main__ - INFO - --------------------\n",
      "2024-07-28 19:49:30,871 - __main__ - INFO - epoch 3 begin\n",
      "2024-07-28 19:49:31,072 - __main__ - INFO - batch loss 0.058758\n",
      "2024-07-28 19:49:51,182 - __main__ - INFO - batch loss 0.220271\n",
      "2024-07-28 19:50:10,989 - __main__ - INFO - epoch average loss: 0.195116\n",
      "2024-07-28 19:50:10,990 - __main__ - INFO - 开始测试第3轮模型效果：\n",
      "2024-07-28 19:50:22,630 - __main__ - INFO - 预测集合条目总量：5587\n",
      "2024-07-28 19:50:22,630 - __main__ - INFO - 预测正确条目：5096，预测错误条目：491\n",
      "2024-07-28 19:50:22,631 - __main__ - INFO - 预测准确率：0.912117\n",
      "2024-07-28 19:50:22,631 - __main__ - INFO - --------------------\n",
      "2024-07-28 19:50:22,632 - __main__ - INFO - epoch 4 begin\n",
      "2024-07-28 19:50:22,833 - __main__ - INFO - batch loss 0.091849\n",
      "2024-07-28 19:50:42,826 - __main__ - INFO - batch loss 0.191459\n",
      "2024-07-28 19:51:02,633 - __main__ - INFO - epoch average loss: 0.158034\n",
      "2024-07-28 19:51:02,634 - __main__ - INFO - 开始测试第4轮模型效果：\n",
      "2024-07-28 19:51:14,310 - __main__ - INFO - 预测集合条目总量：5587\n",
      "2024-07-28 19:51:14,311 - __main__ - INFO - 预测正确条目：5042，预测错误条目：545\n",
      "2024-07-28 19:51:14,311 - __main__ - INFO - 预测准确率：0.902452\n",
      "2024-07-28 19:51:14,312 - __main__ - INFO - --------------------\n",
      "2024-07-28 19:51:14,313 - __main__ - INFO - epoch 5 begin\n",
      "2024-07-28 19:51:14,515 - __main__ - INFO - batch loss 0.315734\n",
      "2024-07-28 19:51:34,545 - __main__ - INFO - batch loss 0.017545\n",
      "2024-07-28 19:51:54,359 - __main__ - INFO - epoch average loss: 0.126318\n",
      "2024-07-28 19:51:54,360 - __main__ - INFO - 开始测试第5轮模型效果：\n",
      "2024-07-28 19:52:06,039 - __main__ - INFO - 预测集合条目总量：5587\n",
      "2024-07-28 19:52:06,040 - __main__ - INFO - 预测正确条目：4913，预测错误条目：674\n",
      "2024-07-28 19:52:06,040 - __main__ - INFO - 预测准确率：0.879363\n"
     ]
    }
   ],
   "source": [
    "Config[\"learning_rate\"] = 1e-5\n",
    "Config[\"batch_size\"] = 32\n",
    "Config[\"pooling_style\"] = \"max\"\n",
    "main(Config)"
   ]
  },
  {
   "cell_type": "code",
   "execution_count": null,
   "id": "a03083e9-d886-4b00-8577-8702c90ccf2a",
   "metadata": {
    "execution": {
     "iopub.execute_input": "2024-07-28T11:53:23.473122Z",
     "iopub.status.busy": "2024-07-28T11:53:23.472717Z"
    },
    "scrolled": true,
    "tags": []
   },
   "outputs": [
    {
     "name": "stderr",
     "output_type": "stream",
     "text": [
      "2024-07-28 19:53:25,641 - __main__ - INFO - gpu可以使用，迁移模型至gpu\n",
      "2024-07-28 19:53:28,187 - __main__ - INFO - epoch 1 begin\n",
      "2024-07-28 19:53:29,273 - __main__ - INFO - batch loss 0.717829\n",
      "2024-07-28 19:53:48,999 - __main__ - INFO - batch loss 0.693204\n",
      "2024-07-28 19:54:08,872 - __main__ - INFO - epoch average loss: 0.723530\n",
      "2024-07-28 19:54:08,873 - __main__ - INFO - 开始测试第1轮模型效果：\n",
      "2024-07-28 19:54:20,416 - __main__ - INFO - 预测集合条目总量：5587\n",
      "2024-07-28 19:54:20,417 - __main__ - INFO - 预测正确条目：811，预测错误条目：4776\n",
      "2024-07-28 19:54:20,418 - __main__ - INFO - 预测准确率：0.145158\n",
      "2024-07-28 19:54:20,418 - __main__ - INFO - --------------------\n",
      "2024-07-28 19:54:20,419 - __main__ - INFO - epoch 2 begin\n",
      "2024-07-28 19:54:20,624 - __main__ - INFO - batch loss 0.677666\n",
      "2024-07-28 19:54:40,921 - __main__ - INFO - batch loss 0.730521\n",
      "2024-07-28 19:55:00,845 - __main__ - INFO - epoch average loss: 0.701788\n",
      "2024-07-28 19:55:00,845 - __main__ - INFO - 开始测试第2轮模型效果：\n",
      "2024-07-28 19:55:12,190 - __main__ - INFO - 预测集合条目总量：5587\n",
      "2024-07-28 19:55:12,191 - __main__ - INFO - 预测正确条目：811，预测错误条目：4776\n",
      "2024-07-28 19:55:12,191 - __main__ - INFO - 预测准确率：0.145158\n",
      "2024-07-28 19:55:12,192 - __main__ - INFO - --------------------\n",
      "2024-07-28 19:55:12,194 - __main__ - INFO - epoch 3 begin\n",
      "2024-07-28 19:55:12,395 - __main__ - INFO - batch loss 0.699071\n",
      "2024-07-28 19:55:32,384 - __main__ - INFO - batch loss 0.735983\n",
      "2024-07-28 19:55:52,178 - __main__ - INFO - epoch average loss: 0.700435\n",
      "2024-07-28 19:55:52,178 - __main__ - INFO - 开始测试第3轮模型效果：\n",
      "2024-07-28 19:56:03,479 - __main__ - INFO - 预测集合条目总量：5587\n",
      "2024-07-28 19:56:03,479 - __main__ - INFO - 预测正确条目：811，预测错误条目：4776\n",
      "2024-07-28 19:56:03,480 - __main__ - INFO - 预测准确率：0.145158\n",
      "2024-07-28 19:56:03,480 - __main__ - INFO - --------------------\n",
      "2024-07-28 19:56:03,481 - __main__ - INFO - epoch 4 begin\n",
      "2024-07-28 19:56:03,683 - __main__ - INFO - batch loss 0.728207\n",
      "2024-07-28 19:56:23,670 - __main__ - INFO - batch loss 0.732189\n",
      "2024-07-28 19:56:43,466 - __main__ - INFO - epoch average loss: 0.701398\n",
      "2024-07-28 19:56:43,467 - __main__ - INFO - 开始测试第4轮模型效果：\n",
      "2024-07-28 19:56:54,813 - __main__ - INFO - 预测集合条目总量：5587\n",
      "2024-07-28 19:56:54,813 - __main__ - INFO - 预测正确条目：811，预测错误条目：4776\n",
      "2024-07-28 19:56:54,814 - __main__ - INFO - 预测准确率：0.145158\n",
      "2024-07-28 19:56:54,814 - __main__ - INFO - --------------------\n",
      "2024-07-28 19:56:54,815 - __main__ - INFO - epoch 5 begin\n",
      "2024-07-28 19:56:55,018 - __main__ - INFO - batch loss 0.730853\n",
      "2024-07-28 19:57:15,013 - __main__ - INFO - batch loss 0.695714\n",
      "2024-07-28 19:57:34,808 - __main__ - INFO - epoch average loss: 0.697309\n",
      "2024-07-28 19:57:34,809 - __main__ - INFO - 开始测试第5轮模型效果：\n",
      "2024-07-28 19:57:46,152 - __main__ - INFO - 预测集合条目总量：5587\n",
      "2024-07-28 19:57:46,153 - __main__ - INFO - 预测正确条目：811，预测错误条目：4776\n",
      "2024-07-28 19:57:46,153 - __main__ - INFO - 预测准确率：0.145158\n",
      "2024-07-28 19:57:46,153 - __main__ - INFO - --------------------\n"
     ]
    }
   ],
   "source": [
    "Config[\"learning_rate\"] = 1e-3\n",
    "Config[\"batch_size\"] = 32\n",
    "Config[\"pooling_style\"] = \"max\"\n",
    "main(Config)"
   ]
  },
  {
   "cell_type": "code",
   "execution_count": null,
   "id": "6f76b742-66e7-4a1d-9b05-cd35b1cd7f6f",
   "metadata": {
    "execution": {
     "iopub.execute_input": "2024-07-28T11:58:50.285675Z",
     "iopub.status.busy": "2024-07-28T11:58:50.285127Z"
    },
    "scrolled": true,
    "tags": []
   },
   "outputs": [
    {
     "name": "stderr",
     "output_type": "stream",
     "text": [
      "2024-07-28 19:58:52,405 - __main__ - INFO - gpu可以使用，迁移模型至gpu\n",
      "2024-07-28 19:58:54,949 - __main__ - INFO - epoch 1 begin\n",
      "2024-07-28 19:58:56,447 - __main__ - INFO - batch loss 0.711806\n",
      "2024-07-28 19:59:13,318 - __main__ - INFO - batch loss 0.318248\n",
      "2024-07-28 19:59:29,789 - __main__ - INFO - epoch average loss: 0.428631\n",
      "2024-07-28 19:59:29,789 - __main__ - INFO - 开始测试第1轮模型效果：\n",
      "2024-07-28 19:59:40,846 - __main__ - INFO - 预测集合条目总量：5587\n",
      "2024-07-28 19:59:40,847 - __main__ - INFO - 预测正确条目：5127，预测错误条目：460\n",
      "2024-07-28 19:59:40,847 - __main__ - INFO - 预测准确率：0.917666\n",
      "2024-07-28 19:59:40,847 - __main__ - INFO - --------------------\n",
      "2024-07-28 19:59:40,849 - __main__ - INFO - epoch 2 begin\n",
      "2024-07-28 19:59:41,546 - __main__ - INFO - batch loss 0.229748\n",
      "2024-07-28 19:59:59,093 - __main__ - INFO - batch loss 0.313779\n",
      "2024-07-28 20:00:15,893 - __main__ - INFO - epoch average loss: 0.272037\n",
      "2024-07-28 20:00:15,894 - __main__ - INFO - 开始测试第2轮模型效果：\n",
      "2024-07-28 20:00:26,948 - __main__ - INFO - 预测集合条目总量：5587\n",
      "2024-07-28 20:00:26,949 - __main__ - INFO - 预测正确条目：5153，预测错误条目：434\n",
      "2024-07-28 20:00:26,949 - __main__ - INFO - 预测准确率：0.922320\n",
      "2024-07-28 20:00:26,950 - __main__ - INFO - --------------------\n",
      "2024-07-28 20:00:26,951 - __main__ - INFO - epoch 3 begin\n",
      "2024-07-28 20:00:27,642 - __main__ - INFO - batch loss 0.172775\n",
      "2024-07-28 20:00:44,919 - __main__ - INFO - batch loss 0.250346\n",
      "2024-07-28 20:01:01,438 - __main__ - INFO - epoch average loss: 0.233708\n",
      "2024-07-28 20:01:01,439 - __main__ - INFO - 开始测试第3轮模型效果：\n",
      "2024-07-28 20:01:12,367 - __main__ - INFO - 预测集合条目总量：5587\n",
      "2024-07-28 20:01:12,368 - __main__ - INFO - 预测正确条目：5076，预测错误条目：511\n",
      "2024-07-28 20:01:12,368 - __main__ - INFO - 预测准确率：0.908538\n",
      "2024-07-28 20:01:12,369 - __main__ - INFO - --------------------\n",
      "2024-07-28 20:01:12,370 - __main__ - INFO - epoch 4 begin\n",
      "2024-07-28 20:01:13,054 - __main__ - INFO - batch loss 0.247088\n",
      "2024-07-28 20:01:30,260 - __main__ - INFO - batch loss 0.232769\n",
      "2024-07-28 20:01:46,789 - __main__ - INFO - epoch average loss: 0.213022\n",
      "2024-07-28 20:01:46,790 - __main__ - INFO - 开始测试第4轮模型效果：\n",
      "2024-07-28 20:01:57,740 - __main__ - INFO - 预测集合条目总量：5587\n",
      "2024-07-28 20:01:57,741 - __main__ - INFO - 预测正确条目：5179，预测错误条目：408\n",
      "2024-07-28 20:01:57,741 - __main__ - INFO - 预测准确率：0.926973\n",
      "2024-07-28 20:01:57,742 - __main__ - INFO - --------------------\n",
      "2024-07-28 20:01:57,743 - __main__ - INFO - epoch 5 begin\n",
      "2024-07-28 20:01:58,428 - __main__ - INFO - batch loss 0.205042\n",
      "2024-07-28 20:02:15,670 - __main__ - INFO - batch loss 0.161549\n",
      "2024-07-28 20:02:32,223 - __main__ - INFO - epoch average loss: 0.187375\n",
      "2024-07-28 20:02:32,224 - __main__ - INFO - 开始测试第5轮模型效果：\n",
      "2024-07-28 20:02:43,189 - __main__ - INFO - 预测集合条目总量：5587\n",
      "2024-07-28 20:02:43,190 - __main__ - INFO - 预测正确条目：5073，预测错误条目：514\n",
      "2024-07-28 20:02:43,190 - __main__ - INFO - 预测准确率：0.908001\n",
      "2024-07-28 20:02:43,191 - __main__ - INFO - --------------------\n"
     ]
    }
   ],
   "source": [
    "Config[\"learning_rate\"] = 1e-5\n",
    "Config[\"batch_size\"] = 128\n",
    "Config[\"pooling_style\"] = \"max\"\n",
    "main(Config)"
   ]
  },
  {
   "cell_type": "code",
   "execution_count": null,
   "id": "5fe27554-f987-4a91-945c-c2c2f1ed0c1c",
   "metadata": {
    "execution": {
     "iopub.execute_input": "2024-07-28T12:03:14.557812Z",
     "iopub.status.busy": "2024-07-28T12:03:14.557389Z"
    },
    "tags": []
   },
   "outputs": [
    {
     "name": "stderr",
     "output_type": "stream",
     "text": [
      "2024-07-28 20:03:16,718 - __main__ - INFO - gpu可以使用，迁移模型至gpu\n",
      "2024-07-28 20:03:19,297 - __main__ - INFO - epoch 1 begin\n",
      "2024-07-28 20:03:20,928 - __main__ - INFO - batch loss 0.759782\n",
      "2024-07-28 20:03:37,963 - __main__ - INFO - batch loss 0.300041\n",
      "2024-07-28 20:03:54,625 - __main__ - INFO - epoch average loss: 0.410912\n",
      "2024-07-28 20:03:54,626 - __main__ - INFO - 开始测试第1轮模型效果：\n",
      "2024-07-28 20:04:05,840 - __main__ - INFO - 预测集合条目总量：5587\n",
      "2024-07-28 20:04:05,840 - __main__ - INFO - 预测正确条目：4968，预测错误条目：619\n",
      "2024-07-28 20:04:05,841 - __main__ - INFO - 预测准确率：0.889207\n",
      "2024-07-28 20:04:05,841 - __main__ - INFO - --------------------\n",
      "2024-07-28 20:04:05,843 - __main__ - INFO - epoch 2 begin\n",
      "2024-07-28 20:04:06,545 - __main__ - INFO - batch loss 0.205989\n",
      "2024-07-28 20:04:24,033 - __main__ - INFO - batch loss 0.307683\n",
      "2024-07-28 20:04:40,703 - __main__ - INFO - epoch average loss: 0.266886\n",
      "2024-07-28 20:04:40,704 - __main__ - INFO - 开始测试第2轮模型效果：\n",
      "2024-07-28 20:04:51,687 - __main__ - INFO - 预测集合条目总量：5587\n",
      "2024-07-28 20:04:51,687 - __main__ - INFO - 预测正确条目：5152，预测错误条目：435\n",
      "2024-07-28 20:04:51,688 - __main__ - INFO - 预测准确率：0.922141\n",
      "2024-07-28 20:04:51,688 - __main__ - INFO - --------------------\n",
      "2024-07-28 20:04:51,690 - __main__ - INFO - epoch 3 begin\n",
      "2024-07-28 20:04:52,377 - __main__ - INFO - batch loss 0.176647\n",
      "2024-07-28 20:05:09,587 - __main__ - INFO - batch loss 0.227120\n",
      "2024-07-28 20:05:26,076 - __main__ - INFO - epoch average loss: 0.227430\n",
      "2024-07-28 20:05:26,077 - __main__ - INFO - 开始测试第3轮模型效果：\n",
      "2024-07-28 20:05:36,990 - __main__ - INFO - 预测集合条目总量：5587\n",
      "2024-07-28 20:05:36,990 - __main__ - INFO - 预测正确条目：5041，预测错误条目：546\n",
      "2024-07-28 20:05:36,991 - __main__ - INFO - 预测准确率：0.902273\n",
      "2024-07-28 20:05:36,991 - __main__ - INFO - --------------------\n",
      "2024-07-28 20:05:36,993 - __main__ - INFO - epoch 4 begin\n",
      "2024-07-28 20:05:37,685 - __main__ - INFO - batch loss 0.256069\n",
      "2024-07-28 20:05:54,897 - __main__ - INFO - batch loss 0.220690\n",
      "2024-07-28 20:06:11,432 - __main__ - INFO - epoch average loss: 0.200013\n",
      "2024-07-28 20:06:11,433 - __main__ - INFO - 开始测试第4轮模型效果：\n",
      "2024-07-28 20:06:22,409 - __main__ - INFO - 预测集合条目总量：5587\n",
      "2024-07-28 20:06:22,410 - __main__ - INFO - 预测正确条目：5100，预测错误条目：487\n",
      "2024-07-28 20:06:22,411 - __main__ - INFO - 预测准确率：0.912833\n",
      "2024-07-28 20:06:22,411 - __main__ - INFO - --------------------\n",
      "2024-07-28 20:06:22,412 - __main__ - INFO - epoch 5 begin\n",
      "2024-07-28 20:06:23,098 - __main__ - INFO - batch loss 0.210312\n",
      "2024-07-28 20:06:40,350 - __main__ - INFO - batch loss 0.178696\n",
      "2024-07-28 20:06:56,917 - __main__ - INFO - epoch average loss: 0.178705\n",
      "2024-07-28 20:06:56,918 - __main__ - INFO - 开始测试第5轮模型效果：\n",
      "2024-07-28 20:07:07,906 - __main__ - INFO - 预测集合条目总量：5587\n",
      "2024-07-28 20:07:07,906 - __main__ - INFO - 预测正确条目：5149，预测错误条目：438\n",
      "2024-07-28 20:07:07,907 - __main__ - INFO - 预测准确率：0.921604\n",
      "2024-07-28 20:07:07,907 - __main__ - INFO - --------------------\n"
     ]
    }
   ],
   "source": [
    "Config[\"learning_rate\"] = 1e-5\n",
    "Config[\"batch_size\"] = 128\n",
    "Config[\"pooling_style\"] = \"avg\"\n",
    "main(Config)"
   ]
  }
 ],
 "metadata": {
  "kernelspec": {
   "display_name": "Python 3 (ipykernel)",
   "language": "python",
   "name": "python3"
  },
  "language_info": {
   "codemirror_mode": {
    "name": "ipython",
    "version": 3
   },
   "file_extension": ".py",
   "mimetype": "text/x-python",
   "name": "python",
   "nbconvert_exporter": "python",
   "pygments_lexer": "ipython3",
   "version": "3.8.16"
  }
 },
 "nbformat": 4,
 "nbformat_minor": 5
}
