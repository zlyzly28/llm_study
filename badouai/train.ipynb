{
 "cells": [
  {
   "cell_type": "code",
   "execution_count": 1,
   "id": "c66cbd78-386e-455f-abfb-8f35ffcb83e9",
   "metadata": {
    "ExecutionIndicator": {
     "show": true
    },
    "execution": {
     "iopub.execute_input": "2024-07-28T10:27:57.398656Z",
     "iopub.status.busy": "2024-07-28T10:27:57.398197Z",
     "iopub.status.idle": "2024-07-28T10:28:00.194612Z",
     "shell.execute_reply": "2024-07-28T10:28:00.194123Z",
     "shell.execute_reply.started": "2024-07-28T10:27:57.398639Z"
    },
    "tags": []
   },
   "outputs": [
    {
     "name": "stderr",
     "output_type": "stream",
     "text": [
      "/opt/conda/lib/python3.8/site-packages/bitsandbytes/cextension.py:34: UserWarning: The installed version of bitsandbytes was compiled without GPU support. 8-bit optimizers, 8-bit multiplication, and GPU quantization are unavailable.\n",
      "  warn(\"The installed version of bitsandbytes was compiled without GPU support. \"\n"
     ]
    },
    {
     "name": "stdout",
     "output_type": "stream",
     "text": [
      "/opt/conda/lib/python3.8/site-packages/bitsandbytes/libbitsandbytes_cpu.so: undefined symbol: cadam32bit_grad_fp32\n",
      "[2024-07-28 18:27:59,147] [INFO] [real_accelerator.py:133:get_accelerator] Setting ds_accelerator to cuda (auto detect)\n"
     ]
    },
    {
     "data": {
      "text/plain": [
       "'\\n模型训练主程序\\n'"
      ]
     },
     "execution_count": 1,
     "metadata": {},
     "output_type": "execute_result"
    }
   ],
   "source": [
    "import torch\n",
    "import os\n",
    "import random\n",
    "import os\n",
    "import numpy as np\n",
    "import logging\n",
    "from config import Config\n",
    "from model import TorchModel, choose_optimizer\n",
    "from evaluate import Evaluator\n",
    "from loader import load_data2\n",
    "#[DEBUG, INFO, WARNING, ERROR, CRITICAL]\n",
    "logging.basicConfig(level=logging.INFO, format = '%(asctime)s - %(name)s - %(levelname)s - %(message)s')\n",
    "logger = logging.getLogger(__name__)\n",
    "\n",
    "\"\"\"\n",
    "模型训练主程序\n",
    "\"\"\""
   ]
  },
  {
   "cell_type": "code",
   "execution_count": 2,
   "id": "08027916-ff61-4f54-90f8-1a31907ceda9",
   "metadata": {
    "ExecutionIndicator": {
     "show": true
    },
    "execution": {
     "iopub.execute_input": "2024-07-28T10:28:00.195661Z",
     "iopub.status.busy": "2024-07-28T10:28:00.195276Z",
     "iopub.status.idle": "2024-07-28T10:28:03.117825Z",
     "shell.execute_reply": "2024-07-28T10:28:03.117320Z",
     "shell.execute_reply.started": "2024-07-28T10:28:00.195643Z"
    },
    "tags": []
   },
   "outputs": [
    {
     "name": "stderr",
     "output_type": "stream",
     "text": [
      "Some weights of the model checkpoint at /mnt/workspace/.cache/modelscope/langboat/mengzi-bert-base were not used when initializing BertModel: ['sop.cls.weight', 'cls.predictions.decoder.weight', 'sop.cls.bias', 'cls.predictions.transform.LayerNorm.bias', 'cls.predictions.transform.dense.weight', 'cls.predictions.decoder.bias', 'cls.predictions.bias', 'cls.predictions.transform.dense.bias', 'cls.predictions.transform.LayerNorm.weight']\n",
      "- This IS expected if you are initializing BertModel from the checkpoint of a model trained on another task or with another architecture (e.g. initializing a BertForSequenceClassification model from a BertForPreTraining model).\n",
      "- This IS NOT expected if you are initializing BertModel from the checkpoint of a model that you expect to be exactly identical (initializing a BertForSequenceClassification model from a BertForSequenceClassification model).\n"
     ]
    }
   ],
   "source": [
    "config = Config\n",
    "#创建保存模型的目录\n",
    "if not os.path.isdir(config[\"model_path\"]):\n",
    "    os.mkdir(config[\"model_path\"])\n",
    "#加载训练数据\n",
    "train_data = load_data2(config[\"train_data_path\"], config)\n",
    "#加载模型\n",
    "model = TorchModel(config)\n",
    "# 标识是否使用gpu\n",
    "cuda_flag = torch.cuda.is_available()\n",
    "if cuda_flag:\n",
    "    logger.info(\"gpu可以使用，迁移模型至gpu\")\n",
    "    model = model.cuda()"
   ]
  },
  {
   "cell_type": "code",
   "execution_count": null,
   "id": "71558f4d-4236-4365-af70-05c0c6a89b9b",
   "metadata": {
    "execution": {
     "iopub.execute_input": "2024-07-28T10:28:03.118758Z",
     "iopub.status.busy": "2024-07-28T10:28:03.118495Z"
    },
    "tags": []
   },
   "outputs": [
    {
     "name": "stderr",
     "output_type": "stream",
     "text": [
      "2024-07-28 18:28:03,638 - __main__ - INFO - epoch 1 begin\n",
      "2024-07-28 18:28:53,202 - __main__ - INFO - batch loss 1.049476\n"
     ]
    }
   ],
   "source": [
    "#加载优化器\n",
    "optimizer = choose_optimizer(config, model)\n",
    "#加载效果测试类\n",
    "evaluator = Evaluator(config, model, logger)\n",
    "#训练\n",
    "for epoch in range(config[\"epoch\"]):\n",
    "    epoch += 1\n",
    "    model.train()\n",
    "    logger.info(\"epoch %d begin\" % epoch)\n",
    "    train_loss = []\n",
    "    for index, batch_data in enumerate(train_data):\n",
    "        if cuda_flag:\n",
    "            batch_data = [d.cuda() for d in batch_data]\n",
    "\n",
    "        optimizer.zero_grad()\n",
    "        input_ids, labels = batch_data   #输入变化时这里需要修改，比如多输入，多输出的情况\n",
    "        loss = model(input_ids, labels)\n",
    "        loss.backward()\n",
    "        optimizer.step()\n",
    "\n",
    "        train_loss.append(loss.item())\n",
    "        if index % int(len(train_data) / 2) == 0:\n",
    "            logger.info(\"batch loss %f\" % loss)\n",
    "    logger.info(\"epoch average loss: %f\" % np.mean(train_loss))\n",
    "    acc = evaluator.eval(epoch)\n",
    "    print(acc)"
   ]
  }
 ],
 "metadata": {
  "kernelspec": {
   "display_name": "Python 3 (ipykernel)",
   "language": "python",
   "name": "python3"
  },
  "language_info": {
   "codemirror_mode": {
    "name": "ipython",
    "version": 3
   },
   "file_extension": ".py",
   "mimetype": "text/x-python",
   "name": "python",
   "nbconvert_exporter": "python",
   "pygments_lexer": "ipython3",
   "version": "3.8.16"
  }
 },
 "nbformat": 4,
 "nbformat_minor": 5
}
