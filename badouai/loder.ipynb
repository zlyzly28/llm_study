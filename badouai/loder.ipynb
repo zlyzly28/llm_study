{
 "cells": [
  {
   "cell_type": "code",
   "execution_count": null,
   "id": "e3ad7ebd-562f-47a9-a549-406c9fec69db",
   "metadata": {
    "ExecutionIndicator": {
     "show": true
    },
    "tags": []
   },
   "outputs": [],
   "source": [
    "import csv\n",
    "import random\n",
    "import numpy as np\n",
    "def read_csv_to_dict(file_path):\n",
    "    data = []\n",
    "    with open(file_path, mode='r', encoding='utf-8') as file:\n",
    "        reader = csv.reader(file)\n",
    "        for row in reader:\n",
    "            # 跳过空行\n",
    "\n",
    "            if not row or row[0] == 'label':\n",
    "                continue\n",
    "            # 检查每行是否至少包含两列\n",
    "            label, content = row[0], row[1]\n",
    "            data.append({\"Label\":int(label), \"Content\": content})\n",
    "\n",
    "    # random.shuffle(data)\n",
    "    return data\n",
    "\n",
    "# 使用方法\n",
    "file_path = '文本分类练习.csv'  # 替换为实际的文件路径\n",
    "data_dicts = read_csv_to_dict(file_path)\n",
    "print(data_dicts)"
   ]
  },
  {
   "cell_type": "code",
   "execution_count": 18,
   "id": "9b45d2cc-36b8-4683-8dbc-c082b353320f",
   "metadata": {
    "execution": {
     "iopub.execute_input": "2024-07-28T10:59:13.926445Z",
     "iopub.status.busy": "2024-07-28T10:59:13.926141Z",
     "iopub.status.idle": "2024-07-28T10:59:13.932523Z",
     "shell.execute_reply": "2024-07-28T10:59:13.931986Z",
     "shell.execute_reply.started": "2024-07-28T10:59:13.926428Z"
    },
    "tags": []
   },
   "outputs": [
    {
     "data": {
      "text/plain": [
       "(array([0, 1]), array([7987, 4000]))"
      ]
     },
     "execution_count": 18,
     "metadata": {},
     "output_type": "execute_result"
    }
   ],
   "source": [
    "s = []\n",
    "for i in data_dicts:\n",
    "    s.append(i['Label'])\n",
    "np.unique(s, return_counts=True)"
   ]
  },
  {
   "cell_type": "code",
   "execution_count": 20,
   "id": "43925c1a-0a11-4c0e-b5f6-487bd08e405f",
   "metadata": {
    "ExecutionIndicator": {
     "show": true
    },
    "execution": {
     "iopub.execute_input": "2024-07-28T10:59:54.054877Z",
     "iopub.status.busy": "2024-07-28T10:59:54.054551Z",
     "iopub.status.idle": "2024-07-28T10:59:54.058300Z",
     "shell.execute_reply": "2024-07-28T10:59:54.057850Z",
     "shell.execute_reply.started": "2024-07-28T10:59:54.054858Z"
    },
    "tags": []
   },
   "outputs": [
    {
     "data": {
      "text/plain": [
       "3987"
      ]
     },
     "execution_count": 20,
     "metadata": {},
     "output_type": "execute_result"
    }
   ],
   "source": [
    "7987 - 4000"
   ]
  },
  {
   "cell_type": "code",
   "execution_count": 12,
   "id": "15599a04-c091-4ac7-b35c-afbb02712555",
   "metadata": {
    "ExecutionIndicator": {
     "show": true
    },
    "execution": {
     "iopub.execute_input": "2024-07-28T09:43:37.925867Z",
     "iopub.status.busy": "2024-07-28T09:43:37.925528Z",
     "iopub.status.idle": "2024-07-28T09:43:37.935654Z",
     "shell.execute_reply": "2024-07-28T09:43:37.935195Z",
     "shell.execute_reply.started": "2024-07-28T09:43:37.925850Z"
    },
    "tags": []
   },
   "outputs": [
    {
     "data": {
      "text/plain": [
       "69.0"
      ]
     },
     "execution_count": 12,
     "metadata": {},
     "output_type": "execute_result"
    }
   ],
   "source": [
    "s = []\n",
    "for i in data_dicts:\n",
    "    s.append(len(i['Content']))\n",
    "np.percentile(s, 95)"
   ]
  },
  {
   "cell_type": "code",
   "execution_count": 25,
   "id": "6600c5ba-114d-4d0d-98fb-f4a0acb3eba3",
   "metadata": {
    "ExecutionIndicator": {
     "show": true
    },
    "execution": {
     "iopub.execute_input": "2024-07-28T11:02:23.849411Z",
     "iopub.status.busy": "2024-07-28T11:02:23.849106Z",
     "iopub.status.idle": "2024-07-28T11:02:23.896200Z",
     "shell.execute_reply": "2024-07-28T11:02:23.895684Z",
     "shell.execute_reply.started": "2024-07-28T11:02:23.849393Z"
    },
    "tags": []
   },
   "outputs": [],
   "source": [
    "import json\n",
    "import random\n",
    "\n",
    "def split_and_save_json(data_list, output_file_80, output_file_20):\n",
    "    # 随机打乱列表以确保数据的随机性\n",
    "    # random.shuffle(data_list)\n",
    "    spi_data_list = data_list[:-3987]\n",
    "    # 计算分割点\n",
    "    split_point = int(len(spi_data_list) * 0.8)\n",
    "    random.shuffle(spi_data_list)\n",
    "    # 分割数据\n",
    "    train_data = spi_data_list[:split_point]\n",
    "    test_data = spi_data_list[split_point:] + data_list[-3987:]\n",
    "\n",
    "    # 保存数据到JSON文件\n",
    "    with open(output_file_80, 'w', encoding='utf-8') as f_train:\n",
    "        json.dump(train_data, f_train, ensure_ascii=False, indent=4)\n",
    "\n",
    "    with open(output_file_20, 'w', encoding='utf-8') as f_test:\n",
    "        json.dump(test_data, f_test, ensure_ascii=False, indent=4)\n",
    "\n",
    "# 假设您已经有了一个字典列表\n",
    "# 指定输出文件路径\n",
    "output_file_80 = 'data/train_data.json'\n",
    "output_file_20 = 'data/test_data.json'\n",
    "\n",
    "# 调用函数\n",
    "split_and_save_json(data_dicts, output_file_80, output_file_20)"
   ]
  },
  {
   "cell_type": "code",
   "execution_count": 15,
   "id": "1f512acc-85eb-4353-949b-511700f18844",
   "metadata": {
    "ExecutionIndicator": {
     "show": false
    },
    "execution": {
     "iopub.execute_input": "2024-07-28T10:14:02.823785Z",
     "iopub.status.busy": "2024-07-28T10:14:02.823428Z",
     "iopub.status.idle": "2024-07-28T10:14:03.365008Z",
     "shell.execute_reply": "2024-07-28T10:14:03.364500Z",
     "shell.execute_reply.started": "2024-07-28T10:14:02.823767Z"
    },
    "tags": []
   },
   "outputs": [
    {
     "name": "stdout",
     "output_type": "stream",
     "text": [
      "[tensor([ 101, 4157,  749, 2523,  719, 2798, 6843, 3341, 8024, 5445,  684, 4157,\n",
      "        4638, 4156, 6996, 7481, 1789, 4638,  679, 2768, 3416, 2094,  100,  100,\n",
      "        2345, 6397, 8013,  102,    0,    0,    0,    0,    0,    0,    0,    0,\n",
      "           0,    0,    0,    0,    0,    0,    0,    0,    0,    0,    0,    0,\n",
      "           0,    0,    0,    0,    0,    0,    0,    0,    0,    0,    0,    0,\n",
      "           0,    0,    0,    0,    0,    0,    0,    0,    0,    0,    0,    0,\n",
      "           0,    0,    0,    0,    0,    0,    0,    0,    0,    0,    0,    0,\n",
      "           0,    0,    0,    0,    0,    0,    0,    0,    0,    0,    0,    0,\n",
      "           0,    0,    0,    0]), tensor([0])]\n"
     ]
    }
   ],
   "source": [
    "# -*- coding: utf-8 -*-\n",
    "\n",
    "import json\n",
    "import re\n",
    "import os\n",
    "import torch\n",
    "import numpy as np\n",
    "from torch.utils.data import Dataset, DataLoader\n",
    "from transformers import BertTokenizer\n",
    "\"\"\"\n",
    "数据加载\n",
    "\"\"\"\n",
    "\n",
    "class DataGenerator2:\n",
    "    def __init__(self, data_path, config):\n",
    "        self.config = config\n",
    "        self.path = data_path\n",
    "        self.index_to_label = {0: '负向', 1: '正向'}\n",
    "        self.label_to_index = dict((y, x) for x, y in self.index_to_label.items())\n",
    "        self.config[\"class_num\"] = len(self.index_to_label)\n",
    "        if self.config[\"model_type\"] == \"bert\":\n",
    "            self.tokenizer = BertTokenizer.from_pretrained(config[\"pretrain_model_path\"])\n",
    "        self.vocab = load_vocab(config[\"vocab_path\"])\n",
    "        self.config[\"vocab_size\"] = len(self.vocab)\n",
    "        self.load()\n",
    "\n",
    "\n",
    "    def load(self):\n",
    "        self.data = []\n",
    "        with open(self.path, encoding=\"utf8\") as f:\n",
    "            data = json.load(f)\n",
    "            # print(data)\n",
    "            for line in data:\n",
    "   \n",
    "                label = line[\"Label\"]\n",
    "                title = line[\"Content\"]\n",
    "                if self.config[\"model_type\"] == \"bert\":\n",
    "                    input_id = self.tokenizer.encode(title, max_length=self.config[\"max_length\"], padding='max_length', truncation=True,)\n",
    "                else:\n",
    "                    input_id = self.encode_sentence(title)\n",
    "                input_id = torch.LongTensor(input_id)\n",
    "                label_index = torch.LongTensor([label])\n",
    "                self.data.append([input_id, label_index])\n",
    "        return\n",
    "\n",
    "    def encode_sentence(self, text):\n",
    "        input_id = []\n",
    "        for char in text:\n",
    "            input_id.append(self.vocab.get(char, self.vocab[\"[UNK]\"]))\n",
    "        input_id = self.padding(input_id)\n",
    "        return input_id\n",
    "\n",
    "    #补齐或截断输入的序列，使其可以在一个batch内运算\n",
    "    def padding(self, input_id):\n",
    "        input_id = input_id[:self.config[\"max_length\"]]\n",
    "        input_id += [0] * (self.config[\"max_length\"] - len(input_id))\n",
    "        return input_id\n",
    "\n",
    "    def __len__(self):\n",
    "        return len(self.data)\n",
    "\n",
    "    def __getitem__(self, index):\n",
    "        return self.data[index]\n",
    "\n",
    "def load_vocab(vocab_path):\n",
    "    token_dict = {}\n",
    "    with open(vocab_path, encoding=\"utf8\") as f:\n",
    "        for index, line in enumerate(f):\n",
    "            token = line.strip()\n",
    "            token_dict[token] = index + 1  #0留给padding位置，所以从1开始\n",
    "    return token_dict\n",
    "\n",
    "def load_json(file_path):\n",
    "    with open(file_path, 'r', encoding='utf-8') as file:\n",
    "        data = json.load(file)\n",
    "    return data\n",
    "#用torch自带的DataLoader类封装数据\n",
    "def load_data(data_path, config, shuffle=True):\n",
    "    dg = DataGenerator2(data_path, config)\n",
    "    dl = DataLoader(dg, batch_size=config[\"batch_size\"], shuffle=shuffle)\n",
    "    return dl\n",
    "\n",
    "if __name__ == \"__main__\":\n",
    "    from config import Config\n",
    "    dg = DataGenerator2(\"data/test_data.json\", Config)\n",
    "    print(dg[1])\n"
   ]
  },
  {
   "cell_type": "code",
   "execution_count": 26,
   "id": "c09a5412-df4a-4186-aada-25d6eb8e4375",
   "metadata": {
    "ExecutionIndicator": {
     "show": true
    },
    "execution": {
     "iopub.execute_input": "2024-07-28T11:02:26.490760Z",
     "iopub.status.busy": "2024-07-28T11:02:26.490427Z",
     "iopub.status.idle": "2024-07-28T11:02:26.500446Z",
     "shell.execute_reply": "2024-07-28T11:02:26.500014Z",
     "shell.execute_reply.started": "2024-07-28T11:02:26.490741Z"
    },
    "tags": []
   },
   "outputs": [
    {
     "data": {
      "text/plain": [
       "(array([0, 1]), array([4776,  811]))"
      ]
     },
     "execution_count": 26,
     "metadata": {},
     "output_type": "execute_result"
    }
   ],
   "source": [
    "import json\n",
    "file_path = \"data/test_data.json\"\n",
    "with open(file_path, 'r', encoding='utf-8') as file:\n",
    "    data = json.load(file)\n",
    "import numpy as np\n",
    "s = []\n",
    "for i in data:\n",
    "    s.append(i['Label'])\n",
    "np.unique(s, return_counts=True)"
   ]
  },
  {
   "cell_type": "code",
   "execution_count": 27,
   "id": "459af861-8dd7-4f0c-b112-9100932ad283",
   "metadata": {
    "ExecutionIndicator": {
     "show": true
    },
    "execution": {
     "iopub.execute_input": "2024-07-28T11:02:28.385855Z",
     "iopub.status.busy": "2024-07-28T11:02:28.385534Z",
     "iopub.status.idle": "2024-07-28T11:02:28.395886Z",
     "shell.execute_reply": "2024-07-28T11:02:28.395383Z",
     "shell.execute_reply.started": "2024-07-28T11:02:28.385835Z"
    },
    "tags": []
   },
   "outputs": [
    {
     "data": {
      "text/plain": [
       "(array([0, 1]), array([3211, 3189]))"
      ]
     },
     "execution_count": 27,
     "metadata": {},
     "output_type": "execute_result"
    }
   ],
   "source": [
    "import json\n",
    "file_path = \"data/train_data.json\"\n",
    "with open(file_path, 'r', encoding='utf-8') as file:\n",
    "    data = json.load(file)\n",
    "import numpy as np\n",
    "s = []\n",
    "for i in data:\n",
    "    s.append(i['Label'])\n",
    "np.unique(s, return_counts=True)"
   ]
  }
 ],
 "metadata": {
  "kernelspec": {
   "display_name": "Python 3 (ipykernel)",
   "language": "python",
   "name": "python3"
  },
  "language_info": {
   "codemirror_mode": {
    "name": "ipython",
    "version": 3
   },
   "file_extension": ".py",
   "mimetype": "text/x-python",
   "name": "python",
   "nbconvert_exporter": "python",
   "pygments_lexer": "ipython3",
   "version": "3.8.16"
  }
 },
 "nbformat": 4,
 "nbformat_minor": 5
}
