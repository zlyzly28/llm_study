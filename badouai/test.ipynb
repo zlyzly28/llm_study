{
 "cells": [
  {
   "cell_type": "code",
   "execution_count": 1,
   "id": "b82ce282-bfee-43c3-9e09-f9575417bf1d",
   "metadata": {
    "execution": {
     "iopub.execute_input": "2024-07-28T14:00:21.224175Z",
     "iopub.status.busy": "2024-07-28T14:00:21.223860Z",
     "iopub.status.idle": "2024-07-28T14:00:27.927937Z",
     "shell.execute_reply": "2024-07-28T14:00:27.927341Z",
     "shell.execute_reply.started": "2024-07-28T14:00:21.224140Z"
    },
    "tags": []
   },
   "outputs": [
    {
     "name": "stderr",
     "output_type": "stream",
     "text": [
      "2024-07-28 22:00:22,786 - modelscope - INFO - PyTorch version 2.0.1+cu118 Found.\n",
      "2024-07-28 22:00:22,788 - modelscope - INFO - TensorFlow version 2.13.0 Found.\n",
      "2024-07-28 22:00:22,788 - modelscope - INFO - Loading ast index from /mnt/workspace/.cache/modelscope/ast_indexer\n",
      "2024-07-28 22:00:22,789 - modelscope - INFO - No valid ast index found from /mnt/workspace/.cache/modelscope/ast_indexer, generating ast index from prebuilt!\n",
      "2024-07-28 22:00:22,931 - modelscope - INFO - Loading done! Current index file version is 1.9.5, with md5 e096d041fdba41d8d7d7331b3f469288 and a total number of 945 components indexed\n",
      "2024-07-28 22:00:23,576 - modelscope - WARNING - Model revision not specified, use revision: v1.0.0\n",
      "Downloading: 100%|██████████| 849/849 [00:00<00:00, 116kB/s]\n",
      "Downloading: 100%|██████████| 180/180 [00:00<00:00, 28.4kB/s]\n",
      "Downloading: 100%|██████████| 196M/196M [00:00<00:00, 276MB/s] \n",
      "Downloading: 100%|██████████| 3.05k/3.05k [00:00<00:00, 469kB/s]\n",
      "Downloading: 100%|██████████| 263k/263k [00:00<00:00, 22.5MB/s]\n",
      "Downloading: 100%|██████████| 107k/107k [00:00<00:00, 24.5MB/s]"
     ]
    },
    {
     "name": "stdout",
     "output_type": "stream",
     "text": [
      "/mnt/workspace/.cache/modelscope/langboat/mengzi-bert-base\n"
     ]
    },
    {
     "name": "stderr",
     "output_type": "stream",
     "text": [
      "\n"
     ]
    }
   ],
   "source": [
    "#模型下载\n",
    "from modelscope import snapshot_download\n",
    "model_dir = snapshot_download('langboat/mengzi-bert-base')\n",
    "print(model_dir)"
   ]
  }
 ],
 "metadata": {
  "kernelspec": {
   "display_name": "Python 3 (ipykernel)",
   "language": "python",
   "name": "python3"
  },
  "language_info": {
   "codemirror_mode": {
    "name": "ipython",
    "version": 3
   },
   "file_extension": ".py",
   "mimetype": "text/x-python",
   "name": "python",
   "nbconvert_exporter": "python",
   "pygments_lexer": "ipython3",
   "version": "3.8.16"
  }
 },
 "nbformat": 4,
 "nbformat_minor": 5
}
