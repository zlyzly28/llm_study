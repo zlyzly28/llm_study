{
 "cells": [
  {
   "cell_type": "code",
   "execution_count": null,
   "id": "e0a27737-6660-4e46-b2ea-6611187420fd",
   "metadata": {},
   "outputs": [],
   "source": [
    "# 1.加拿大(英语/法语:ca082，首都湿太华，位于北美洲北部。东临大西洋，西凝太平洋，西北部邻美国阿拉斯加州，南接美国本士，北集北冰洋。气保大部分为亚嘉带针叶状气修和深国大陆件气修，北部极地区域为极地长案气很。\n",
    "# 2.《琅琊榜》是由山东影视传媒集团、山东影视制作有限公司、北京儒意欣欣影业投资有限公司北京和颂天地影视文化有限公司、北京圣基影业有限公司.\n",
    "# 3.《满江红》是由张艺谋执导，沈路、易烊千玺、张译、雷佳音、岳云醋、王佳愉领衔主演，酒龙、余磊主演，郭京飞、欧豪友情出演，魏翔、张驰、黄炎特别出演，许静雅、蒋楼字、林博洋、飞凡、任思诺、陈永陆出演的是疑喜\n",
    "# 4.布官诺斯艾利斯(BN80s Air5;华人常简称为布官诺斯)是际根延共和国(the &e0mplicof rpentinau &enmlica Apentima)的首都却最大城市，位干拉普拉惨河南岸、南美洲东南部、河对岸为乌拉去东岸共和国。\n",
    "# 5.张译(原名张毅)，1978年2月17日出生于黑龙江省哈尔滨市，中国内地男演员。1997年至2006年服役于北京军区政治部战友话剧团。2086年，主演军事励志题材电视剧《士兵突击》。"
   ]
  },
  {
   "cell_type": "code",
   "execution_count": null,
   "id": "5007d013-1dc5-4d40-873e-48339a3c4d2d",
   "metadata": {},
   "outputs": [],
   "source": [
    "import uvicorn\n",
    "import os\n",
    "import gradio as gr\n",
    "# from utils.inference import predict\n",
    "from pydantic import BaseModel\n",
    "from dotenv import load_dotenv\n",
    "from fastapi import FastAPI\n",
    "from enum import Enum\n",
    "import os\n",
    "from openai import OpenAI\n",
    "from fastapi import FastAPI, HTTPException\n",
    "history_openai_format = []\n",
    "\n",
    "\n",
    "\n",
    "\n",
    "client = OpenAI(\n",
    "    api_key=os.getenv(\"api_key\"),\n",
    "    base_url=os.getenv(\"base_url\"),\n",
    ")\n",
    "prompt = \"\"\n",
    "history_openai_format.append({\"role\": \"user\", \"content\": prompt})\n",
    "response = client.chat.completions.create(model=\"qwen-plus\",\n",
    "                                          messages=history_openai_format,\n",
    "                                          temperature=1.0,)\n",
    "                                          # stream=True)\n",
    "\n",
    "print(response.choices[0].message.content)"
   ]
  }
 ],
 "metadata": {
  "kernelspec": {
   "display_name": "Python 3 (ipykernel)",
   "language": "python",
   "name": "python3"
  },
  "language_info": {
   "codemirror_mode": {
    "name": "ipython",
    "version": 3
   },
   "file_extension": ".py",
   "mimetype": "text/x-python",
   "name": "python",
   "nbconvert_exporter": "python",
   "pygments_lexer": "ipython3",
   "version": "3.10.14"
  }
 },
 "nbformat": 4,
 "nbformat_minor": 5
}
