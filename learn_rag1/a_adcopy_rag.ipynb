{
 "cells": [
  {
   "cell_type": "code",
   "execution_count": 5,
   "id": "9f584c13-5c5a-48c4-942f-6d0c1d922fb9",
   "metadata": {
    "ExecutionIndicator": {
     "show": true
    },
    "execution": {
     "iopub.execute_input": "2024-07-08T07:02:09.903447Z",
     "iopub.status.busy": "2024-07-08T07:02:09.903128Z",
     "iopub.status.idle": "2024-07-08T07:02:26.554778Z",
     "shell.execute_reply": "2024-07-08T07:02:26.554243Z",
     "shell.execute_reply.started": "2024-07-08T07:02:09.903427Z"
    },
    "tags": []
   },
   "outputs": [
    {
     "name": "stdout",
     "output_type": "stream",
     "text": [
      "dict_keys(['id', 'source', 'page', 'question', 'ground_truth', 'context'])\n"
     ]
    }
   ],
   "source": [
    "from langchain_chroma import Chroma\n",
    "from langchain.schema import Document\n",
    "from langchain_community.embeddings import HuggingFaceBgeEmbeddings\n",
    "import pandas as pd\n",
    "import json\n",
    "from tqdm import tqdm, trange\n",
    "from retiever_eval_list import get_result_retrieva, get_retriever_res_list\n",
    "import os\n",
    "import shutil\n",
    "from transformers import AutoModelForSequenceClassification, AutoTokenizer\n",
    "import torch\n",
    "\n",
    "df = pd.read_excel('soybean_q_gt_609.xlsx', sheet_name='Sheet1')\n",
    "\n",
    "# 修改\n",
    "folder_path = 'Result/a_adcopy_rag/'\n",
    "retriever_filename = \"Result/a_adcopy_rag/retriever_result.json\"\n",
    "save_info_result_filename = \"Result/a_adcopy_rag/save_info_result.json\"\n",
    "top_k = 20\n",
    "s_index = 10\n",
    "copy_info = 4\n",
    "\n",
    "model_name = '/mnt/workspace/.cache/modelscope/hub/maple77/zpoint_large_embedding_zh'\n",
    "model_kwargs = {'device': 'cpu'}\n",
    "encode_kwargs = {'normalize_embeddings': True}\n",
    "hf = HuggingFaceBgeEmbeddings(\n",
    "    model_name=model_name,\n",
    "    model_kwargs=model_kwargs,\n",
    "    encode_kwargs=encode_kwargs\n",
    ")\n",
    "vectorstore = Chroma(persist_directory=\"soybean_db2\", embedding_function=hf)\n",
    "retriever = vectorstore.as_retriever(\n",
    "    search_type=\"similarity\",\n",
    "    search_kwargs={\"k\": top_k}\n",
    ")\n",
    "\n",
    "tokenizer = AutoTokenizer.from_pretrained('/mnt/workspace/.cache/modelscope/hub/Xorbits/bge-reranker-base')\n",
    "rerank_model = AutoModelForSequenceClassification.from_pretrained('/mnt/workspace/.cache/modelscope/hub/Xorbits/bge-reranker-base')\n",
    "\n",
    "\n",
    "\n",
    "def create_folder_if_not_exists(folder_path):\n",
    "    # 检查文件夹是否存在\n",
    "    if os.path.exists(folder_path):\n",
    "        # 如果存在，则删除原文件夹及其中内容\n",
    "        shutil.rmtree(folder_path)\n",
    "        print(f\"Folder '{folder_path}' existed and has been removed.\")\n",
    "    # 创建新文件夹\n",
    "    os.makedirs(folder_path)\n",
    "    print(f\"Folder '{folder_path}' has been created.\")\n",
    "\n",
    "# 打印DataFrame的内容\n",
    "column_lists = {col: df[col].tolist() for col in df.columns}\n",
    "print(column_lists.keys())"
   ]
  },
  {
   "cell_type": "code",
   "execution_count": 11,
   "id": "72647c4d-41e2-4093-bde1-3d30fdfe7d34",
   "metadata": {
    "ExecutionIndicator": {
     "show": true
    },
    "execution": {
     "iopub.execute_input": "2024-07-08T07:03:31.105358Z",
     "iopub.status.busy": "2024-07-08T07:03:31.105035Z",
     "iopub.status.idle": "2024-07-08T07:09:24.914113Z",
     "shell.execute_reply": "2024-07-08T07:09:24.913566Z",
     "shell.execute_reply.started": "2024-07-08T07:03:31.105339Z"
    },
    "tags": []
   },
   "outputs": [
    {
     "name": "stderr",
     "output_type": "stream",
     "text": [
      "Get retriever result: 100%|██████████| 10/10 [05:53<00:00, 35.38s/it]\n"
     ]
    }
   ],
   "source": [
    "retriever_result = []\n",
    "for tmp_q in tqdm(range(len(column_lists['question'][:s_index])), desc='Get retriever result'):\n",
    "    # print(tmp_q)\n",
    "    query_ = column_lists['question'][tmp_q] * copy_info\n",
    "    retriever_result.append(retriever.invoke(query_))"
   ]
  },
  {
   "cell_type": "code",
   "execution_count": 12,
   "id": "8532ebb9-9fce-48bf-844c-7f4a4f6e84ec",
   "metadata": {
    "execution": {
     "iopub.execute_input": "2024-07-08T07:09:24.915315Z",
     "iopub.status.busy": "2024-07-08T07:09:24.915067Z",
     "iopub.status.idle": "2024-07-08T07:13:07.317338Z",
     "shell.execute_reply": "2024-07-08T07:13:07.316792Z",
     "shell.execute_reply.started": "2024-07-08T07:09:24.915297Z"
    }
   },
   "outputs": [
    {
     "name": "stderr",
     "output_type": "stream",
     "text": [
      "Rerank result: 100%|██████████| 10/10 [03:42<00:00, 22.24s/it]\n"
     ]
    }
   ],
   "source": [
    "question_rerank_result = []\n",
    "for query_idx in trange(len(column_lists['question'][:s_index]), desc='Rerank result'):\n",
    "    pairs = []\n",
    "    for idx in range(len(retriever_result[query_idx])):\n",
    "        pairs.append([column_lists['question'][:s_index][query_idx], retriever_result[query_idx][idx].page_content])\n",
    "\n",
    "    with torch.no_grad():\n",
    "        inputs = tokenizer(pairs, padding=True, truncation=True, return_tensors='pt', max_length=512)\n",
    "        scores = rerank_model(**inputs, return_dict=True).logits.view(-1, ).float()\n",
    "    combined = sorted(zip(scores, retriever_result[query_idx]), reverse=True)\n",
    "    scores_rerank_list, retri_rerank_list = zip(*combined)\n",
    "    # print(scores_rerank_list, retri_rerank_list)\n",
    "    question_rerank_result.append(retri_rerank_list)"
   ]
  },
  {
   "cell_type": "code",
   "execution_count": 13,
   "id": "f8b4b60f-0410-49b2-981a-f78892b4bf2d",
   "metadata": {
    "execution": {
     "iopub.execute_input": "2024-07-08T07:13:07.318356Z",
     "iopub.status.busy": "2024-07-08T07:13:07.318100Z",
     "iopub.status.idle": "2024-07-08T07:13:07.324744Z",
     "shell.execute_reply": "2024-07-08T07:13:07.324285Z",
     "shell.execute_reply.started": "2024-07-08T07:13:07.318336Z"
    }
   },
   "outputs": [
    {
     "name": "stdout",
     "output_type": "stream",
     "text": [
      "Folder 'Result/a_adcopy_rag/' has been created.\n",
      "完成!\n"
     ]
    }
   ],
   "source": [
    "col_id = column_lists['id'][:s_index]\n",
    "rerank_result = get_result_retrieva(col_id, question_rerank_result, topk=top_k)\n",
    "# 用你想要的路径替换'your_folder_path'\n",
    "create_folder_if_not_exists(folder_path)\n",
    "# 对结果进行保存\n",
    "# 指定你想要保存的文件名\n",
    "# 使用json.dump()将字典保存为json文件\n",
    "with open(retriever_filename, 'w', encoding='utf-8') as f:\n",
    "    json.dump(rerank_result, f, ensure_ascii=False, indent=4)\n",
    "print('完成!')"
   ]
  },
  {
   "cell_type": "code",
   "execution_count": 14,
   "id": "c4bed2b2-84fc-4cfc-8a7a-7a1c1dadee40",
   "metadata": {
    "execution": {
     "iopub.execute_input": "2024-07-08T07:13:07.325925Z",
     "iopub.status.busy": "2024-07-08T07:13:07.325647Z",
     "iopub.status.idle": "2024-07-08T07:13:07.330358Z",
     "shell.execute_reply": "2024-07-08T07:13:07.329933Z",
     "shell.execute_reply.started": "2024-07-08T07:13:07.325909Z"
    },
    "tags": []
   },
   "outputs": [
    {
     "name": "stdout",
     "output_type": "stream",
     "text": [
      "完成!\n"
     ]
    }
   ],
   "source": [
    "# dict_keys(['id', 'source', 'page', 'question', 'ground_truth', 'context'])\n",
    "# column_lists['context'][:s_index]\n",
    "save_info_result = {}\n",
    "save_info_result['id'] = column_lists['id'][:s_index]\n",
    "save_info_result['source'] = column_lists['source'][:s_index]\n",
    "save_info_result['page'] = column_lists['page'][:s_index]\n",
    "save_info_result['question'] = column_lists['question'][:s_index]\n",
    "save_info_result['ground_truth'] = column_lists['ground_truth'][:s_index]\n",
    "save_info_result['context'] = column_lists['context'][:s_index]\n",
    "save_info_result['retriever_result_list'] = get_retriever_res_list(retriever_result, top_k)\n",
    "\n",
    "# 使用json.dump()将字典保存为json文件\n",
    "with open(save_info_result_filename, 'w', encoding='utf-8') as f:\n",
    "    json.dump(save_info_result, f, ensure_ascii=False, indent=4)\n",
    "\n",
    "print('完成!')"
   ]
  }
 ],
 "metadata": {
  "kernelspec": {
   "display_name": "Python 3 (ipykernel)",
   "language": "python",
   "name": "python3"
  },
  "language_info": {
   "codemirror_mode": {
    "name": "ipython",
    "version": 3
   },
   "file_extension": ".py",
   "mimetype": "text/x-python",
   "name": "python",
   "nbconvert_exporter": "python",
   "pygments_lexer": "ipython3",
   "version": "3.10.14"
  }
 },
 "nbformat": 4,
 "nbformat_minor": 5
}
