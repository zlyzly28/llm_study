{
 "cells": [
  {
   "cell_type": "code",
   "execution_count": 1,
   "id": "9195d6ca-35db-4034-a96e-98c940be6f56",
   "metadata": {
    "execution": {
     "iopub.execute_input": "2024-07-03T10:05:44.649087Z",
     "iopub.status.busy": "2024-07-03T10:05:44.648892Z",
     "iopub.status.idle": "2024-07-03T10:05:46.565716Z",
     "shell.execute_reply": "2024-07-03T10:05:46.565157Z",
     "shell.execute_reply.started": "2024-07-03T10:05:44.649071Z"
    },
    "tags": []
   },
   "outputs": [],
   "source": [
    "from langchain.document_loaders import PyPDFLoader\n",
    "from langchain_community.document_loaders import TextLoader\n",
    "from langchain_community.vectorstores import FAISS\n",
    "from langchain_openai import OpenAIEmbeddings\n",
    "from langchain_text_splitters import RecursiveCharacterTextSplitter\n",
    "\n",
    "documents = []\n",
    "dc_name = [\"soybean_konw.pdf\", \"soybean2.pdf\"]\n",
    "for tmp_name in dc_name:\n",
    "    # print(len(PyPDFLoader(tmp_name).load()))\n",
    "    documents += PyPDFLoader(tmp_name).load()\n",
    "\n",
    "text_splitter = RecursiveCharacterTextSplitter(chunk_size=500, chunk_overlap=200)\n",
    "texts = text_splitter.split_documents(documents[:])\n",
    "for idx, text in enumerate(texts):\n",
    "    text.metadata[\"id\"] = idx\n"
   ]
  },
  {
   "cell_type": "code",
   "execution_count": 2,
   "id": "d678d1ff-0def-4703-a866-18a0201ff37c",
   "metadata": {
    "ExecutionIndicator": {
     "show": true
    },
    "execution": {
     "iopub.execute_input": "2024-07-03T10:05:48.895467Z",
     "iopub.status.busy": "2024-07-03T10:05:48.895056Z",
     "iopub.status.idle": "2024-07-03T10:06:04.280739Z",
     "shell.execute_reply": "2024-07-03T10:06:04.279824Z",
     "shell.execute_reply.started": "2024-07-03T10:05:48.895445Z"
    },
    "tags": []
   },
   "outputs": [
    {
     "name": "stderr",
     "output_type": "stream",
     "text": [
      "/usr/local/lib/python3.10/site-packages/sentence_transformers/cross_encoder/CrossEncoder.py:11: TqdmExperimentalWarning: Using `tqdm.autonotebook.tqdm` in notebook mode. Use `tqdm.tqdm` instead to force console mode (e.g. in jupyter console)\n",
      "  from tqdm.autonotebook import tqdm, trange\n"
     ]
    }
   ],
   "source": [
    "from langchain_chroma import Chroma\n",
    "from langchain.schema import Document\n",
    "from langchain_community.embeddings import HuggingFaceBgeEmbeddings\n",
    "\n",
    "top_k = 10\n",
    "\n",
    "model_name = '/mnt/workspace/.cache/modelscope/hub/maple77/zpoint_large_embedding_zh'\n",
    "model_kwargs = {'device': 'cpu'}\n",
    "encode_kwargs = {'normalize_embeddings': True}\n",
    "hf = HuggingFaceBgeEmbeddings(\n",
    "    model_name=model_name,\n",
    "    model_kwargs=model_kwargs,\n",
    "    encode_kwargs=encode_kwargs\n",
    ")\n",
    "vectorstore = Chroma(persist_directory=\"soybean_db2\", embedding_function=hf)\n",
    "retriever = vectorstore.as_retriever(\n",
    "    search_type=\"similarity\",\n",
    "    search_kwargs={\"k\": top_k}\n",
    ")"
   ]
  },
  {
   "cell_type": "code",
   "execution_count": 3,
   "id": "76a4d1c5-a530-4119-ae47-d190313c47b4",
   "metadata": {
    "execution": {
     "iopub.execute_input": "2024-07-03T10:06:11.143073Z",
     "iopub.status.busy": "2024-07-03T10:06:11.142508Z",
     "iopub.status.idle": "2024-07-03T10:06:11.263563Z",
     "shell.execute_reply": "2024-07-03T10:06:11.263000Z",
     "shell.execute_reply.started": "2024-07-03T10:06:11.143049Z"
    },
    "tags": []
   },
   "outputs": [
    {
     "name": "stdout",
     "output_type": "stream",
     "text": [
      "dict_keys(['id', 'source', 'page', 'question', 'ground_truth', 'context'])\n"
     ]
    }
   ],
   "source": [
    "import pandas as pd\n",
    "\n",
    "df = pd.read_excel('soybean_q_gt_609.xlsx', sheet_name='Sheet1')\n",
    "\n",
    "# 打印DataFrame的内容\n",
    "column_lists = {col: df[col].tolist() for col in df.columns}\n",
    "print(column_lists.keys())"
   ]
  },
  {
   "cell_type": "code",
   "execution_count": 4,
   "id": "09907594-154a-485a-af18-3c195df11149",
   "metadata": {
    "ExecutionIndicator": {
     "show": true
    },
    "execution": {
     "iopub.execute_input": "2024-07-03T10:06:16.623383Z",
     "iopub.status.busy": "2024-07-03T10:06:16.622849Z",
     "iopub.status.idle": "2024-07-03T10:11:59.810143Z",
     "shell.execute_reply": "2024-07-03T10:11:59.809610Z",
     "shell.execute_reply.started": "2024-07-03T10:06:16.623361Z"
    },
    "tags": []
   },
   "outputs": [
    {
     "name": "stderr",
     "output_type": "stream",
     "text": [
      "Get retriever result: 100%|██████████| 10/10 [05:43<00:00, 34.32s/it]\n"
     ]
    }
   ],
   "source": [
    "from tqdm import tqdm, trange\n",
    "\n",
    "s_index = 10\n",
    "\n",
    "retriever_result = []\n",
    "for tmp_q in tqdm(range(len(column_lists['question'][:s_index])), desc='Get retriever result'):\n",
    "    # print(tmp_q)\n",
    "    retriever_result.append(retriever.invoke(column_lists['question'][tmp_q]))"
   ]
  },
  {
   "cell_type": "code",
   "execution_count": null,
   "id": "d27f6968-86c5-4003-90b2-4fc4bed3a212",
   "metadata": {
    "ExecutionIndicator": {
     "show": true
    },
    "tags": []
   },
   "outputs": [],
   "source": [
    "# retriever_result = retriever.batch(column_lists['question'][:100])"
   ]
  },
  {
   "cell_type": "code",
   "execution_count": 5,
   "id": "fa34ed9a-c34c-4e5e-9189-079b55a60dcb",
   "metadata": {
    "ExecutionIndicator": {
     "show": true
    },
    "execution": {
     "iopub.execute_input": "2024-07-03T10:12:10.149950Z",
     "iopub.status.busy": "2024-07-03T10:12:10.149606Z",
     "iopub.status.idle": "2024-07-03T10:12:10.157827Z",
     "shell.execute_reply": "2024-07-03T10:12:10.157380Z",
     "shell.execute_reply.started": "2024-07-03T10:12:10.149930Z"
    },
    "tags": []
   },
   "outputs": [
    {
     "data": {
      "text/plain": [
       "{'top_3': {'ht_score': 0.2,\n",
       "  'mmr_score': 0.15,\n",
       "  'soft_ht_score': 0.4,\n",
       "  'soft_mmr_score': 0.283,\n",
       "  'ndcg': 0.313},\n",
       " 'top_4': {'ht_score': 0.2,\n",
       "  'mmr_score': 0.15,\n",
       "  'soft_ht_score': 0.5,\n",
       "  'soft_mmr_score': 0.308,\n",
       "  'ndcg': 0.356},\n",
       " 'top_5': {'ht_score': 0.2,\n",
       "  'mmr_score': 0.15,\n",
       "  'soft_ht_score': 0.5,\n",
       "  'soft_mmr_score': 0.328,\n",
       "  'ndcg': 0.356},\n",
       " 'top_6': {'ht_score': 0.2,\n",
       "  'mmr_score': 0.15,\n",
       "  'soft_ht_score': 0.6,\n",
       "  'soft_mmr_score': 0.345,\n",
       "  'ndcg': 0.392},\n",
       " 'top_7': {'ht_score': 0.4,\n",
       "  'mmr_score': 0.179,\n",
       "  'soft_ht_score': 0.7,\n",
       "  'soft_mmr_score': 0.388,\n",
       "  'ndcg': 0.424},\n",
       " 'top_8': {'ht_score': 0.4,\n",
       "  'mmr_score': 0.179,\n",
       "  'soft_ht_score': 0.7,\n",
       "  'soft_mmr_score': 0.413,\n",
       "  'ndcg': 0.418},\n",
       " 'top_9': {'ht_score': 0.4,\n",
       "  'mmr_score': 0.179,\n",
       "  'soft_ht_score': 0.7,\n",
       "  'soft_mmr_score': 0.413,\n",
       "  'ndcg': 0.418},\n",
       " 'top_10': {'ht_score': 0.4,\n",
       "  'mmr_score': 0.179,\n",
       "  'soft_ht_score': 0.7,\n",
       "  'soft_mmr_score': 0.413,\n",
       "  'ndcg': 0.418}}"
      ]
     },
     "execution_count": 5,
     "metadata": {},
     "output_type": "execute_result"
    }
   ],
   "source": [
    "from retiever_eval_list import get_result_retrieva\n",
    "col_id = column_lists['id'][:s_index]\n",
    "retriever_re = get_result_retrieva(col_id, retriever_result)\n",
    "retriever_re"
   ]
  },
  {
   "cell_type": "code",
   "execution_count": 6,
   "id": "d67c3c17-2255-4ede-b355-0e983361b805",
   "metadata": {
    "execution": {
     "iopub.execute_input": "2024-07-03T10:12:16.604353Z",
     "iopub.status.busy": "2024-07-03T10:12:16.604040Z",
     "iopub.status.idle": "2024-07-03T10:12:23.729118Z",
     "shell.execute_reply": "2024-07-03T10:12:23.728532Z",
     "shell.execute_reply.started": "2024-07-03T10:12:16.604335Z"
    },
    "tags": []
   },
   "outputs": [],
   "source": [
    "from transformers import AutoModelForSequenceClassification, AutoTokenizer\n",
    "tokenizer = AutoTokenizer.from_pretrained('/mnt/workspace/.cache/modelscope/hub/Xorbits/bge-reranker-base')\n",
    "rerank_model = AutoModelForSequenceClassification.from_pretrained('/mnt/workspace/.cache/modelscope/hub/Xorbits/bge-reranker-base')"
   ]
  },
  {
   "cell_type": "code",
   "execution_count": 7,
   "id": "c07c6783-4646-4b75-8ce3-12f0b38d7bcf",
   "metadata": {
    "execution": {
     "iopub.execute_input": "2024-07-03T10:12:26.892298Z",
     "iopub.status.busy": "2024-07-03T10:12:26.891831Z",
     "iopub.status.idle": "2024-07-03T10:16:15.797320Z",
     "shell.execute_reply": "2024-07-03T10:16:15.796777Z",
     "shell.execute_reply.started": "2024-07-03T10:12:26.892256Z"
    },
    "tags": []
   },
   "outputs": [
    {
     "name": "stderr",
     "output_type": "stream",
     "text": [
      "Rerank result: 100%|██████████| 10/10 [03:48<00:00, 22.89s/it]\n"
     ]
    }
   ],
   "source": [
    "import torch\n",
    "question_rerank_result = []\n",
    "for query_idx in trange(len(column_lists['question'][:s_index]), desc='Rerank result'):\n",
    "    pairs = []\n",
    "    for idx in range(len(retriever_result[query_idx])):\n",
    "        pairs.append([column_lists['question'][:s_index][query_idx], retriever_result[query_idx][idx].page_content])\n",
    "\n",
    "    with torch.no_grad():\n",
    "        inputs = tokenizer(pairs, padding=True, truncation=True, return_tensors='pt', max_length=512)\n",
    "        scores = rerank_model(**inputs, return_dict=True).logits.view(-1, ).float()\n",
    "    combined = sorted(zip(scores, retriever_result[query_idx]), reverse=True)\n",
    "    scores_rerank_list, retri_rerank_list = zip(*combined)\n",
    "    # print(scores_rerank_list, retri_rerank_list)\n",
    "    question_rerank_result.append(retri_rerank_list)"
   ]
  },
  {
   "cell_type": "code",
   "execution_count": 8,
   "id": "e2ef376c-f24e-474f-be86-657b2d1848f4",
   "metadata": {
    "ExecutionIndicator": {
     "show": true
    },
    "execution": {
     "iopub.execute_input": "2024-07-03T10:16:15.798407Z",
     "iopub.status.busy": "2024-07-03T10:16:15.798169Z",
     "iopub.status.idle": "2024-07-03T10:16:15.803209Z",
     "shell.execute_reply": "2024-07-03T10:16:15.802727Z",
     "shell.execute_reply.started": "2024-07-03T10:16:15.798390Z"
    },
    "tags": []
   },
   "outputs": [
    {
     "data": {
      "text/plain": [
       "{'top_3': {'ht_score': 0.3,\n",
       "  'mmr_score': 0.2,\n",
       "  'soft_ht_score': 0.6,\n",
       "  'soft_mmr_score': 0.6,\n",
       "  'ndcg': 0.543},\n",
       " 'top_4': {'ht_score': 0.3,\n",
       "  'mmr_score': 0.2,\n",
       "  'soft_ht_score': 0.6,\n",
       "  'soft_mmr_score': 0.6,\n",
       "  'ndcg': 0.543},\n",
       " 'top_5': {'ht_score': 0.3,\n",
       "  'mmr_score': 0.2,\n",
       "  'soft_ht_score': 0.6,\n",
       "  'soft_mmr_score': 0.6,\n",
       "  'ndcg': 0.543},\n",
       " 'top_6': {'ht_score': 0.3,\n",
       "  'mmr_score': 0.2,\n",
       "  'soft_ht_score': 0.6,\n",
       "  'soft_mmr_score': 0.6,\n",
       "  'ndcg': 0.543},\n",
       " 'top_7': {'ht_score': 0.3,\n",
       "  'mmr_score': 0.2,\n",
       "  'soft_ht_score': 0.6,\n",
       "  'soft_mmr_score': 0.6,\n",
       "  'ndcg': 0.543},\n",
       " 'top_8': {'ht_score': 0.4,\n",
       "  'mmr_score': 0.212,\n",
       "  'soft_ht_score': 0.7,\n",
       "  'soft_mmr_score': 0.625,\n",
       "  'ndcg': 0.562},\n",
       " 'top_9': {'ht_score': 0.4,\n",
       "  'mmr_score': 0.212,\n",
       "  'soft_ht_score': 0.7,\n",
       "  'soft_mmr_score': 0.636,\n",
       "  'ndcg': 0.567},\n",
       " 'top_10': {'ht_score': 0.4,\n",
       "  'mmr_score': 0.212,\n",
       "  'soft_ht_score': 0.7,\n",
       "  'soft_mmr_score': 0.656,\n",
       "  'ndcg': 0.564}}"
      ]
     },
     "execution_count": 8,
     "metadata": {},
     "output_type": "execute_result"
    }
   ],
   "source": [
    "col_id = column_lists['id'][:s_index]\n",
    "rerank_result = get_result_retrieva(col_id, question_rerank_result)\n",
    "rerank_result"
   ]
  }
 ],
 "metadata": {
  "kernelspec": {
   "display_name": "Python 3 (ipykernel)",
   "language": "python",
   "name": "python3"
  },
  "language_info": {
   "codemirror_mode": {
    "name": "ipython",
    "version": 3
   },
   "file_extension": ".py",
   "mimetype": "text/x-python",
   "name": "python",
   "nbconvert_exporter": "python",
   "pygments_lexer": "ipython3",
   "version": "3.10.14"
  }
 },
 "nbformat": 4,
 "nbformat_minor": 5
}
