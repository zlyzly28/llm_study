{
 "cells": [
  {
   "cell_type": "code",
   "execution_count": 1,
   "id": "9195d6ca-35db-4034-a96e-98c940be6f56",
   "metadata": {
    "execution": {
     "iopub.execute_input": "2024-07-04T07:39:16.467834Z",
     "iopub.status.busy": "2024-07-04T07:39:16.467491Z",
     "iopub.status.idle": "2024-07-04T07:39:18.708394Z",
     "shell.execute_reply": "2024-07-04T07:39:18.707878Z",
     "shell.execute_reply.started": "2024-07-04T07:39:16.467814Z"
    },
    "tags": []
   },
   "outputs": [],
   "source": [
    "from langchain.document_loaders import PyPDFLoader\n",
    "from langchain_community.document_loaders import TextLoader\n",
    "from langchain_community.vectorstores import FAISS\n",
    "from langchain_openai import OpenAIEmbeddings\n",
    "from langchain_text_splitters import RecursiveCharacterTextSplitter\n",
    "\n",
    "documents = []\n",
    "dc_name = [\"soybean_konw.pdf\", \"soybean2.pdf\"]\n",
    "for tmp_name in dc_name:\n",
    "    # print(len(PyPDFLoader(tmp_name).load()))\n",
    "    documents += PyPDFLoader(tmp_name).load()\n",
    "\n",
    "text_splitter = RecursiveCharacterTextSplitter(chunk_size=500, chunk_overlap=200)\n",
    "texts = text_splitter.split_documents(documents[:])\n",
    "for idx, text in enumerate(texts):\n",
    "    text.metadata[\"id\"] = idx\n"
   ]
  },
  {
   "cell_type": "code",
   "execution_count": 2,
   "id": "d678d1ff-0def-4703-a866-18a0201ff37c",
   "metadata": {
    "ExecutionIndicator": {
     "show": true
    },
    "execution": {
     "iopub.execute_input": "2024-07-04T07:39:20.707953Z",
     "iopub.status.busy": "2024-07-04T07:39:20.707426Z",
     "iopub.status.idle": "2024-07-04T07:39:38.864832Z",
     "shell.execute_reply": "2024-07-04T07:39:38.864300Z",
     "shell.execute_reply.started": "2024-07-04T07:39:20.707924Z"
    },
    "tags": []
   },
   "outputs": [
    {
     "name": "stderr",
     "output_type": "stream",
     "text": [
      "/usr/local/lib/python3.10/site-packages/sentence_transformers/cross_encoder/CrossEncoder.py:11: TqdmExperimentalWarning: Using `tqdm.autonotebook.tqdm` in notebook mode. Use `tqdm.tqdm` instead to force console mode (e.g. in jupyter console)\n",
      "  from tqdm.autonotebook import tqdm, trange\n"
     ]
    }
   ],
   "source": [
    "from langchain_chroma import Chroma\n",
    "from langchain.schema import Document\n",
    "from langchain_community.embeddings import HuggingFaceBgeEmbeddings\n",
    "\n",
    "top_k = 10\n",
    "\n",
    "model_name = '/mnt/workspace/.cache/modelscope/hub/maple77/zpoint_large_embedding_zh'\n",
    "model_kwargs = {'device': 'cpu'}\n",
    "encode_kwargs = {'normalize_embeddings': True}\n",
    "hf = HuggingFaceBgeEmbeddings(\n",
    "    model_name=model_name,\n",
    "    model_kwargs=model_kwargs,\n",
    "    encode_kwargs=encode_kwargs\n",
    ")\n",
    "vectorstore = Chroma(persist_directory=\"soybean_db2\", embedding_function=hf)\n",
    "retriever = vectorstore.as_retriever(\n",
    "    search_type=\"similarity\",\n",
    "    search_kwargs={\"k\": top_k}\n",
    ")"
   ]
  },
  {
   "cell_type": "code",
   "execution_count": 3,
   "id": "76a4d1c5-a530-4119-ae47-d190313c47b4",
   "metadata": {
    "execution": {
     "iopub.execute_input": "2024-07-04T07:39:41.794679Z",
     "iopub.status.busy": "2024-07-04T07:39:41.793991Z",
     "iopub.status.idle": "2024-07-04T07:39:42.086532Z",
     "shell.execute_reply": "2024-07-04T07:39:42.085017Z",
     "shell.execute_reply.started": "2024-07-04T07:39:41.794643Z"
    },
    "tags": []
   },
   "outputs": [
    {
     "name": "stdout",
     "output_type": "stream",
     "text": [
      "dict_keys(['id', 'source', 'page', 'question', 'ground_truth', 'context'])\n"
     ]
    }
   ],
   "source": [
    "import pandas as pd\n",
    "\n",
    "df = pd.read_excel('soybean_q_gt_609.xlsx', sheet_name='Sheet1')\n",
    "\n",
    "# 打印DataFrame的内容\n",
    "column_lists = {col: df[col].tolist() for col in df.columns}\n",
    "print(column_lists.keys())"
   ]
  },
  {
   "cell_type": "code",
   "execution_count": 4,
   "id": "09907594-154a-485a-af18-3c195df11149",
   "metadata": {
    "ExecutionIndicator": {
     "show": true
    },
    "execution": {
     "iopub.execute_input": "2024-07-04T07:39:44.362633Z",
     "iopub.status.busy": "2024-07-04T07:39:44.362122Z",
     "iopub.status.idle": "2024-07-04T07:45:58.910377Z",
     "shell.execute_reply": "2024-07-04T07:45:58.909725Z",
     "shell.execute_reply.started": "2024-07-04T07:39:44.362609Z"
    },
    "tags": []
   },
   "outputs": [
    {
     "name": "stderr",
     "output_type": "stream",
     "text": [
      "Get retriever result: 100%|██████████| 10/10 [06:14<00:00, 37.45s/it]\n"
     ]
    }
   ],
   "source": [
    "from tqdm import tqdm, trange\n",
    "\n",
    "s_index = 10\n",
    "\n",
    "retriever_result = []\n",
    "for tmp_q in tqdm(range(len(column_lists['question'][:s_index])), desc='Get retriever result'):\n",
    "    # print(tmp_q)\n",
    "    retriever_result.append(retriever.invoke(column_lists['question'][tmp_q]))"
   ]
  },
  {
   "cell_type": "code",
   "execution_count": null,
   "id": "d27f6968-86c5-4003-90b2-4fc4bed3a212",
   "metadata": {
    "ExecutionIndicator": {
     "show": true
    },
    "tags": []
   },
   "outputs": [],
   "source": [
    "# retriever_result = retriever.batch(column_lists['question'][:100])"
   ]
  },
  {
   "cell_type": "code",
   "execution_count": 5,
   "id": "fa34ed9a-c34c-4e5e-9189-079b55a60dcb",
   "metadata": {
    "ExecutionIndicator": {
     "show": true
    },
    "execution": {
     "iopub.execute_input": "2024-07-04T07:45:58.911669Z",
     "iopub.status.busy": "2024-07-04T07:45:58.911291Z",
     "iopub.status.idle": "2024-07-04T07:45:58.920075Z",
     "shell.execute_reply": "2024-07-04T07:45:58.919602Z",
     "shell.execute_reply.started": "2024-07-04T07:45:58.911649Z"
    },
    "tags": []
   },
   "outputs": [
    {
     "data": {
      "text/plain": [
       "{'top_3': {'ht_score': 0.2,\n",
       "  'mmr_score': 0.15,\n",
       "  'soft_ht_score': 0.4,\n",
       "  'soft_mmr_score': 0.283,\n",
       "  'ndcg': 0.313},\n",
       " 'top_4': {'ht_score': 0.2,\n",
       "  'mmr_score': 0.15,\n",
       "  'soft_ht_score': 0.5,\n",
       "  'soft_mmr_score': 0.308,\n",
       "  'ndcg': 0.356},\n",
       " 'top_5': {'ht_score': 0.2,\n",
       "  'mmr_score': 0.15,\n",
       "  'soft_ht_score': 0.5,\n",
       "  'soft_mmr_score': 0.328,\n",
       "  'ndcg': 0.356},\n",
       " 'top_6': {'ht_score': 0.2,\n",
       "  'mmr_score': 0.15,\n",
       "  'soft_ht_score': 0.6,\n",
       "  'soft_mmr_score': 0.345,\n",
       "  'ndcg': 0.392},\n",
       " 'top_7': {'ht_score': 0.3,\n",
       "  'mmr_score': 0.164,\n",
       "  'soft_ht_score': 0.6,\n",
       "  'soft_mmr_score': 0.374,\n",
       "  'ndcg': 0.391},\n",
       " 'top_8': {'ht_score': 0.4,\n",
       "  'mmr_score': 0.177,\n",
       "  'soft_ht_score': 0.7,\n",
       "  'soft_mmr_score': 0.399,\n",
       "  'ndcg': 0.414},\n",
       " 'top_9': {'ht_score': 0.4,\n",
       "  'mmr_score': 0.177,\n",
       "  'soft_ht_score': 0.7,\n",
       "  'soft_mmr_score': 0.399,\n",
       "  'ndcg': 0.414},\n",
       " 'top_10': {'ht_score': 0.4,\n",
       "  'mmr_score': 0.177,\n",
       "  'soft_ht_score': 0.7,\n",
       "  'soft_mmr_score': 0.399,\n",
       "  'ndcg': 0.414}}"
      ]
     },
     "execution_count": 5,
     "metadata": {},
     "output_type": "execute_result"
    }
   ],
   "source": [
    "from retiever_eval_list import get_result_retrieva\n",
    "col_id = column_lists['id'][:s_index]\n",
    "retriever_re = get_result_retrieva(col_id, retriever_result)\n",
    "retriever_re"
   ]
  },
  {
   "cell_type": "code",
   "execution_count": 1,
   "id": "d67c3c17-2255-4ede-b355-0e983361b805",
   "metadata": {
    "execution": {
     "iopub.execute_input": "2024-07-08T09:00:28.260603Z",
     "iopub.status.busy": "2024-07-08T09:00:28.260250Z",
     "iopub.status.idle": "2024-07-08T09:00:39.553655Z",
     "shell.execute_reply": "2024-07-08T09:00:39.553012Z",
     "shell.execute_reply.started": "2024-07-08T09:00:28.260574Z"
    },
    "tags": []
   },
   "outputs": [],
   "source": [
    "from transformers import AutoModelForSequenceClassification, AutoTokenizer\n",
    "tokenizer = AutoTokenizer.from_pretrained('/mnt/workspace/.cache/modelscope/hub/Xorbits/bge-reranker-base')\n",
    "rerank_model = AutoModelForSequenceClassification.from_pretrained('/mnt/workspace/.cache/modelscope/hub/Xorbits/bge-reranker-base')"
   ]
  },
  {
   "cell_type": "code",
   "execution_count": 7,
   "id": "c07c6783-4646-4b75-8ce3-12f0b38d7bcf",
   "metadata": {
    "execution": {
     "iopub.execute_input": "2024-07-04T07:46:06.854341Z",
     "iopub.status.busy": "2024-07-04T07:46:06.854110Z",
     "iopub.status.idle": "2024-07-04T07:50:32.589076Z",
     "shell.execute_reply": "2024-07-04T07:50:32.587864Z",
     "shell.execute_reply.started": "2024-07-04T07:46:06.854323Z"
    },
    "tags": []
   },
   "outputs": [
    {
     "name": "stderr",
     "output_type": "stream",
     "text": [
      "Rerank result: 100%|██████████| 10/10 [04:25<00:00, 26.57s/it]\n"
     ]
    }
   ],
   "source": [
    "import torch\n",
    "question_rerank_result = []\n",
    "for query_idx in trange(len(column_lists['question'][:s_index]), desc='Rerank result'):\n",
    "    pairs = []\n",
    "    for idx in range(len(retriever_result[query_idx])):\n",
    "        pairs.append([column_lists['question'][:s_index][query_idx], retriever_result[query_idx][idx].page_content])\n",
    "\n",
    "    with torch.no_grad():\n",
    "        inputs = tokenizer(pairs, padding=True, truncation=True, return_tensors='pt', max_length=512)\n",
    "        scores = rerank_model(**inputs, return_dict=True).logits.view(-1, ).float()\n",
    "    combined = sorted(zip(scores, retriever_result[query_idx]), reverse=True)\n",
    "    scores_rerank_list, retri_rerank_list = zip(*combined)\n",
    "    # print(scores_rerank_list, retri_rerank_list)\n",
    "    question_rerank_result.append(retri_rerank_list)"
   ]
  },
  {
   "cell_type": "code",
   "execution_count": 8,
   "id": "e2ef376c-f24e-474f-be86-657b2d1848f4",
   "metadata": {
    "ExecutionIndicator": {
     "show": true
    },
    "execution": {
     "iopub.execute_input": "2024-07-04T07:50:32.590717Z",
     "iopub.status.busy": "2024-07-04T07:50:32.590252Z",
     "iopub.status.idle": "2024-07-04T07:50:32.601112Z",
     "shell.execute_reply": "2024-07-04T07:50:32.600228Z",
     "shell.execute_reply.started": "2024-07-04T07:50:32.590687Z"
    },
    "tags": []
   },
   "outputs": [
    {
     "data": {
      "text/plain": [
       "{'top_3': {'ht_score': 0.3,\n",
       "  'mmr_score': 0.25,\n",
       "  'soft_ht_score': 0.6,\n",
       "  'soft_mmr_score': 0.55,\n",
       "  'ndcg': 0.563},\n",
       " 'top_4': {'ht_score': 0.3,\n",
       "  'mmr_score': 0.25,\n",
       "  'soft_ht_score': 0.6,\n",
       "  'soft_mmr_score': 0.55,\n",
       "  'ndcg': 0.563},\n",
       " 'top_5': {'ht_score': 0.3,\n",
       "  'mmr_score': 0.25,\n",
       "  'soft_ht_score': 0.6,\n",
       "  'soft_mmr_score': 0.55,\n",
       "  'ndcg': 0.563},\n",
       " 'top_6': {'ht_score': 0.3,\n",
       "  'mmr_score': 0.25,\n",
       "  'soft_ht_score': 0.6,\n",
       "  'soft_mmr_score': 0.55,\n",
       "  'ndcg': 0.563},\n",
       " 'top_7': {'ht_score': 0.3,\n",
       "  'mmr_score': 0.25,\n",
       "  'soft_ht_score': 0.6,\n",
       "  'soft_mmr_score': 0.55,\n",
       "  'ndcg': 0.563},\n",
       " 'top_8': {'ht_score': 0.4,\n",
       "  'mmr_score': 0.263,\n",
       "  'soft_ht_score': 0.7,\n",
       "  'soft_mmr_score': 0.575,\n",
       "  'ndcg': 0.583},\n",
       " 'top_9': {'ht_score': 0.4,\n",
       "  'mmr_score': 0.263,\n",
       "  'soft_ht_score': 0.7,\n",
       "  'soft_mmr_score': 0.586,\n",
       "  'ndcg': 0.587},\n",
       " 'top_10': {'ht_score': 0.4,\n",
       "  'mmr_score': 0.263,\n",
       "  'soft_ht_score': 0.7,\n",
       "  'soft_mmr_score': 0.606,\n",
       "  'ndcg': 0.584}}"
      ]
     },
     "execution_count": 8,
     "metadata": {},
     "output_type": "execute_result"
    }
   ],
   "source": [
    "col_id = column_lists['id'][:s_index]\n",
    "rerank_result = get_result_retrieva(col_id, question_rerank_result)\n",
    "rerank_result"
   ]
  },
  {
   "cell_type": "code",
   "execution_count": 11,
   "id": "9c54e375-ec7d-4f95-b327-ec3c00a7d4d6",
   "metadata": {
    "ExecutionIndicator": {
     "show": true
    },
    "execution": {
     "iopub.execute_input": "2024-07-04T08:03:11.394159Z",
     "iopub.status.busy": "2024-07-04T08:03:11.393605Z",
     "iopub.status.idle": "2024-07-04T08:03:11.400080Z",
     "shell.execute_reply": "2024-07-04T08:03:11.398605Z",
     "shell.execute_reply.started": "2024-07-04T08:03:11.394129Z"
    },
    "tags": []
   },
   "outputs": [
    {
     "data": {
      "text/plain": [
       "(10, 10, 10, 10)"
      ]
     },
     "execution_count": 11,
     "metadata": {},
     "output_type": "execute_result"
    }
   ],
   "source": [
    "len(question_rerank_result), len(question_rerank_result[0]), len(column_lists['question'][:s_index]), len(column_lists['ground_truth'][:s_index])"
   ]
  },
  {
   "cell_type": "code",
   "execution_count": 12,
   "id": "03911864-9e4a-4804-bff6-8da16cfd65d4",
   "metadata": {
    "execution": {
     "iopub.execute_input": "2024-07-04T08:03:14.172906Z",
     "iopub.status.busy": "2024-07-04T08:03:14.171792Z",
     "iopub.status.idle": "2024-07-04T08:03:14.359119Z",
     "shell.execute_reply": "2024-07-04T08:03:14.358566Z",
     "shell.execute_reply.started": "2024-07-04T08:03:14.172853Z"
    },
    "tags": []
   },
   "outputs": [
    {
     "name": "stderr",
     "output_type": "stream",
     "text": [
      "/usr/local/lib/python3.10/site-packages/langchain_core/_api/deprecation.py:139: LangChainDeprecationWarning: The class `ChatOpenAI` was deprecated in LangChain 0.0.10 and will be removed in 0.3.0. An updated version of the class exists in the langchain-openai package and should be used instead. To use it run `pip install -U langchain-openai` and import as `from langchain_openai import ChatOpenAI`.\n",
      "  warn_deprecated(\n"
     ]
    }
   ],
   "source": [
    "from ragas.llms import LangchainLLMWrapper\n",
    "from ragas.embeddings import LangchainEmbeddingsWrapper\n",
    "from langchain.schema.runnable import RunnablePassthrough\n",
    "from langchain.schema.output_parser import StrOutputParser\n",
    "from langchain.chat_models import ChatOpenAI\n",
    "from langchain_chroma import Chroma\n",
    "from langchain.schema import Document\n",
    "from langchain_community.embeddings import HuggingFaceBgeEmbeddings\n",
    "from ragas import evaluate\n",
    "from ragas.metrics import (\n",
    "    faithfulness,\n",
    "    answer_relevancy,\n",
    "    context_relevancy,\n",
    "    context_recall,\n",
    "    context_precision,\n",
    ")\n",
    "\n",
    "llm = ChatOpenAI(\n",
    "    temperature=0.6,\n",
    "    model=\"glm-4-0520\",\n",
    "    openai_api_key=\"661a7aa0aeb8ca129eb4647461123230.bl9w581QKpnMfBvs\",\n",
    "    openai_api_base=\"https://open.bigmodel.cn/api/paas/v4/\"\n",
    ")"
   ]
  },
  {
   "cell_type": "code",
   "execution_count": 13,
   "id": "65b9d2eb-3956-4ce7-935c-443d91160e5d",
   "metadata": {
    "execution": {
     "iopub.execute_input": "2024-07-04T08:03:22.684604Z",
     "iopub.status.busy": "2024-07-04T08:03:22.684063Z",
     "iopub.status.idle": "2024-07-04T08:03:22.690740Z",
     "shell.execute_reply": "2024-07-04T08:03:22.689217Z",
     "shell.execute_reply.started": "2024-07-04T08:03:22.684556Z"
    },
    "tags": []
   },
   "outputs": [
    {
     "name": "stdout",
     "output_type": "stream",
     "text": [
      "input_variables=['context', 'question'] template=\"You are an assistant for question-answering tasks. \\nUse the following pieces of retrieved context to answer the question. \\nIf you don't know the answer, just say that you don't know. \\n\\nQuestion: {question} \\n\\nContext: {context} \\n\\nAnswer:\\n\"\n"
     ]
    }
   ],
   "source": [
    "from langchain import PromptTemplate\n",
    "\n",
    "template = \"\"\"You are an assistant for question-answering tasks. \n",
    "Use the following pieces of retrieved context to answer the question. \n",
    "If you don't know the answer, just say that you don't know. \n",
    "\n",
    "Question: {question} \n",
    "\n",
    "Context: {context} \n",
    "\n",
    "Answer:\n",
    "\"\"\"\n",
    "\n",
    "prompt = PromptTemplate(\n",
    "    template=template, \n",
    "    input_variables=[\"context\",\"question\"]\n",
    "  )\n",
    "\n",
    "print(prompt)"
   ]
  },
  {
   "cell_type": "code",
   "execution_count": 16,
   "id": "72338ca6-f679-4490-8c46-d9b5475caf38",
   "metadata": {
    "execution": {
     "iopub.execute_input": "2024-07-04T08:05:30.024937Z",
     "iopub.status.busy": "2024-07-04T08:05:30.024590Z",
     "iopub.status.idle": "2024-07-04T08:05:30.028593Z",
     "shell.execute_reply": "2024-07-04T08:05:30.028030Z",
     "shell.execute_reply.started": "2024-07-04T08:05:30.024918Z"
    },
    "tags": []
   },
   "outputs": [],
   "source": [
    "from langchain.schema.runnable import RunnablePassthrough\n",
    "from langchain.schema.output_parser import StrOutputParser\n",
    "from langchain.chat_models import ChatOpenAI\n",
    "\n",
    "# llm = ChatOpenAI(model_name=\"gpt-3.5-turbo\", temperature=0)\n",
    "rag_chain = (\n",
    "    {\"context\": RunnablePassthrough(),  \"question\": RunnablePassthrough()} \n",
    "    | prompt \n",
    "    | llm\n",
    "    | StrOutputParser() \n",
    ")"
   ]
  },
  {
   "cell_type": "code",
   "execution_count": 26,
   "id": "70e75a28-5228-40dc-ab1c-d15ff12a2f26",
   "metadata": {
    "ExecutionIndicator": {
     "show": true
    },
    "execution": {
     "iopub.execute_input": "2024-07-04T08:22:50.217785Z",
     "iopub.status.busy": "2024-07-04T08:22:50.217440Z",
     "iopub.status.idle": "2024-07-04T08:23:37.030121Z",
     "shell.execute_reply": "2024-07-04T08:23:37.029554Z",
     "shell.execute_reply.started": "2024-07-04T08:22:50.217765Z"
    },
    "tags": []
   },
   "outputs": [
    {
     "name": "stderr",
     "output_type": "stream",
     "text": [
      "Get answer: 100%|██████████| 10/10 [00:46<00:00,  4.68s/it]\n"
     ]
    }
   ],
   "source": [
    "answers = []\n",
    "context_list = []\n",
    "rerank_top_k = 3\n",
    "\n",
    "for i in trange(len(column_lists['question'][:s_index]), desc='Get answer'):\n",
    "    query_tmp = column_lists['question'][i]\n",
    "    context_tmp = ''.join(qr.page_content for qr in question_rerank_result[i][:rerank_top_k])\n",
    "    inputs = {\"context\": context_tmp, \"question\": query_tmp}\n",
    "    answers.append(rag_chain.invoke(inputs))\n",
    "    context_list.append([docs.page_content for docs in question_rerank_result[i][:rerank_top_k]])"
   ]
  },
  {
   "cell_type": "code",
   "execution_count": 27,
   "id": "ae1ebf10-5382-43f1-af1e-537a7437cb82",
   "metadata": {
    "ExecutionIndicator": {
     "show": true
    },
    "execution": {
     "iopub.execute_input": "2024-07-04T08:23:42.576510Z",
     "iopub.status.busy": "2024-07-04T08:23:42.575951Z",
     "iopub.status.idle": "2024-07-04T08:23:42.596133Z",
     "shell.execute_reply": "2024-07-04T08:23:42.594923Z",
     "shell.execute_reply.started": "2024-07-04T08:23:42.576467Z"
    },
    "tags": []
   },
   "outputs": [
    {
     "data": {
      "text/plain": [
       "Dataset({\n",
       "    features: ['question', 'answer', 'contexts', 'ground_truth'],\n",
       "    num_rows: 10\n",
       "})"
      ]
     },
     "execution_count": 27,
     "metadata": {},
     "output_type": "execute_result"
    }
   ],
   "source": [
    "from datasets import Dataset\n",
    "from langchain_community.chat_models import ChatZhipuAI\n",
    "import os\n",
    "# 构建数据\n",
    "data = {\n",
    "    \"question\": column_lists['question'][:s_index],\n",
    "    \"answer\": answers,\n",
    "    \"contexts\": context_list,\n",
    "    \"ground_truth\": column_lists['ground_truth'][:s_index]\n",
    "}\n",
    "dataset = Dataset.from_dict(data)\n",
    "dataset"
   ]
  },
  {
   "cell_type": "code",
   "execution_count": 28,
   "id": "f8bf58c0-75f9-48c6-8aa8-97d357a2e2a7",
   "metadata": {
    "execution": {
     "iopub.execute_input": "2024-07-04T08:23:46.783611Z",
     "iopub.status.busy": "2024-07-04T08:23:46.782847Z",
     "iopub.status.idle": "2024-07-04T08:23:46.789150Z",
     "shell.execute_reply": "2024-07-04T08:23:46.788310Z",
     "shell.execute_reply.started": "2024-07-04T08:23:46.783564Z"
    },
    "tags": []
   },
   "outputs": [],
   "source": [
    "import json\n",
    "# 指定你想要保存的文件名\n",
    "filename = \"my_data.json\"\n",
    "\n",
    "# 使用json.dump()将字典保存为json文件\n",
    "with open(filename, 'w', encoding='utf-8') as f:\n",
    "    json.dump(data, f, ensure_ascii=False, indent=4)"
   ]
  },
  {
   "cell_type": "code",
   "execution_count": null,
   "id": "c49f94cd-b4e6-401d-9da2-9f0bf662f3cb",
   "metadata": {
    "tags": []
   },
   "outputs": [],
   "source": [
    "# 指定之前保存的文件名\n",
    "filename = \"my_data.json\"\n",
    "\n",
    "# 使用json.load()从json文件加载数据到字典\n",
    "with open(filename, 'r', encoding='utf-8') as f:\n",
    "    loaded_dict = json.load(f)\n",
    "\n",
    "print(loaded_dict)  # 输出加载的字典内容"
   ]
  },
  {
   "cell_type": "code",
   "execution_count": 30,
   "id": "64019072-8abf-4e9b-beac-813427020508",
   "metadata": {
    "ExecutionIndicator": {
     "show": true
    },
    "execution": {
     "iopub.execute_input": "2024-07-04T08:23:54.680112Z",
     "iopub.status.busy": "2024-07-04T08:23:54.679221Z",
     "iopub.status.idle": "2024-07-04T08:23:54.687857Z",
     "shell.execute_reply": "2024-07-04T08:23:54.686889Z",
     "shell.execute_reply.started": "2024-07-04T08:23:54.680047Z"
    },
    "tags": []
   },
   "outputs": [],
   "source": [
    "# !pip install --upgrade httpx httpx-sse PyJWT\n",
    "os.environ[\"ZHIPUAI_API_KEY\"] = \"661a7aa0aeb8ca129eb4647461123230.bl9w581QKpnMfBvs\"\n",
    "chat = ChatZhipuAI(\n",
    "    model=\"glm-4-0520\",\n",
    "    temperature=0.5,\n",
    ")\n",
    "metrics = [\n",
    "    faithfulness,\n",
    "    answer_relevancy,\n",
    "    context_recall,\n",
    "    context_precision\n",
    "]\n",
    "langchain_embeddings = LangchainEmbeddingsWrapper(hf)"
   ]
  },
  {
   "cell_type": "code",
   "execution_count": 31,
   "id": "6ecf62c7-0627-4ba7-8ae2-87cf552a6bfe",
   "metadata": {
    "execution": {
     "iopub.execute_input": "2024-07-04T08:23:57.134030Z",
     "iopub.status.busy": "2024-07-04T08:23:57.133702Z",
     "iopub.status.idle": "2024-07-04T08:23:57.137456Z",
     "shell.execute_reply": "2024-07-04T08:23:57.136969Z",
     "shell.execute_reply.started": "2024-07-04T08:23:57.134012Z"
    },
    "tags": []
   },
   "outputs": [
    {
     "data": {
      "text/plain": [
       "Dataset({\n",
       "    features: ['question', 'answer', 'contexts', 'ground_truth'],\n",
       "    num_rows: 10\n",
       "})"
      ]
     },
     "execution_count": 31,
     "metadata": {},
     "output_type": "execute_result"
    }
   ],
   "source": [
    "dataset"
   ]
  },
  {
   "cell_type": "code",
   "execution_count": 32,
   "id": "db046458-0aed-4fb3-afc0-31eb4153b093",
   "metadata": {
    "ExecutionIndicator": {
     "show": true
    },
    "execution": {
     "iopub.execute_input": "2024-07-04T08:23:59.366772Z",
     "iopub.status.busy": "2024-07-04T08:23:59.366429Z",
     "iopub.status.idle": "2024-07-04T08:25:41.452827Z",
     "shell.execute_reply": "2024-07-04T08:25:41.452283Z",
     "shell.execute_reply.started": "2024-07-04T08:23:59.366752Z"
    },
    "tags": []
   },
   "outputs": [
    {
     "data": {
      "application/vnd.jupyter.widget-view+json": {
       "model_id": "fb9f0b17ad624126a078c5430e91263c",
       "version_major": 2,
       "version_minor": 0
      },
      "text/plain": [
       "Evaluating:   0%|          | 0/40 [00:00<?, ?it/s]"
      ]
     },
     "metadata": {},
     "output_type": "display_data"
    },
    {
     "name": "stderr",
     "output_type": "stream",
     "text": [
      "Failed to parse output. Returning None.\n"
     ]
    },
    {
     "data": {
      "text/plain": [
       "{'faithfulness': 0.7395, 'answer_relevancy': 0.6588, 'context_recall': 0.5000, 'context_precision': 0.5583}"
      ]
     },
     "execution_count": 32,
     "metadata": {},
     "output_type": "execute_result"
    }
   ],
   "source": [
    "results = evaluate(dataset = dataset, metrics=metrics, llm=chat, embeddings=langchain_embeddings)\n",
    "results"
   ]
  },
  {
   "cell_type": "code",
   "execution_count": 33,
   "id": "d793004b-0eca-4fb4-a767-102310d5b8a0",
   "metadata": {
    "execution": {
     "iopub.execute_input": "2024-07-04T08:25:41.466138Z",
     "iopub.status.busy": "2024-07-04T08:25:41.465914Z",
     "iopub.status.idle": "2024-07-04T08:25:41.489257Z",
     "shell.execute_reply": "2024-07-04T08:25:41.487970Z",
     "shell.execute_reply.started": "2024-07-04T08:25:41.466122Z"
    },
    "tags": []
   },
   "outputs": [
    {
     "data": {
      "text/html": [
       "<div>\n",
       "<style scoped>\n",
       "    .dataframe tbody tr th:only-of-type {\n",
       "        vertical-align: middle;\n",
       "    }\n",
       "\n",
       "    .dataframe tbody tr th {\n",
       "        vertical-align: top;\n",
       "    }\n",
       "\n",
       "    .dataframe thead th {\n",
       "        text-align: right;\n",
       "    }\n",
       "</style>\n",
       "<table border=\"1\" class=\"dataframe\">\n",
       "  <thead>\n",
       "    <tr style=\"text-align: right;\">\n",
       "      <th></th>\n",
       "      <th>question</th>\n",
       "      <th>answer</th>\n",
       "      <th>contexts</th>\n",
       "      <th>ground_truth</th>\n",
       "      <th>faithfulness</th>\n",
       "      <th>answer_relevancy</th>\n",
       "      <th>context_recall</th>\n",
       "      <th>context_precision</th>\n",
       "    </tr>\n",
       "  </thead>\n",
       "  <tbody>\n",
       "    <tr>\n",
       "      <th>0</th>\n",
       "      <td>请简述本文的发表时间。</td>\n",
       "      <td>本文的发表时间为2021年11月15日。</td>\n",
       "      <td>[fpls-12-719706 November 9, 2021 Time: 12:48 #...</td>\n",
       "      <td>2021年11月15日</td>\n",
       "      <td>1.000000</td>\n",
       "      <td>0.864029</td>\n",
       "      <td>1.0</td>\n",
       "      <td>1.000000</td>\n",
       "    </tr>\n",
       "    <tr>\n",
       "      <th>1</th>\n",
       "      <td>本文第一作者的工作单位是什么？</td>\n",
       "      <td>本文第一作者的工作单位是BASF Corporation或其子公司。</td>\n",
       "      <td>[achieving the goal of using precision breedin...</td>\n",
       "      <td>BASF</td>\n",
       "      <td>0.500000</td>\n",
       "      <td>0.899457</td>\n",
       "      <td>0.0</td>\n",
       "      <td>1.000000</td>\n",
       "    </tr>\n",
       "    <tr>\n",
       "      <th>2</th>\n",
       "      <td>该文章发表在哪个期刊的哪个部分？</td>\n",
       "      <td>该文章发表在期刊《Frontiers in Plant Science》的“Crop and...</td>\n",
       "      <td>[Heart, Italy\\n*Correspondence:\\nJonathan T. V...</td>\n",
       "      <td>Frontiers in Plant Science的Crop and Product Ph...</td>\n",
       "      <td>1.000000</td>\n",
       "      <td>0.886989</td>\n",
       "      <td>1.0</td>\n",
       "      <td>1.000000</td>\n",
       "    </tr>\n",
       "    <tr>\n",
       "      <th>3</th>\n",
       "      <td>《大豆产量形成生理学》一文的发表时间是什么时候？</td>\n",
       "      <td>《大豆产量形成生理学》一文的发表时间是2021年11月15日。</td>\n",
       "      <td>[This article was submitted to\\nCrop and Produ...</td>\n",
       "      <td>2021年</td>\n",
       "      <td>0.000000</td>\n",
       "      <td>0.787779</td>\n",
       "      <td>1.0</td>\n",
       "      <td>1.000000</td>\n",
       "    </tr>\n",
       "    <tr>\n",
       "      <th>4</th>\n",
       "      <td>作者们致力于什么方面的作物改良？</td>\n",
       "      <td>作者们致力于作物产量的持续改良，特别是通过基因组编辑和精准育种方法改善作物生长速率、叶面积持...</td>\n",
       "      <td>[altered fruit size, inﬂorescence branching, a...</td>\n",
       "      <td>提高作物产量</td>\n",
       "      <td>1.000000</td>\n",
       "      <td>0.787484</td>\n",
       "      <td>1.0</td>\n",
       "      <td>0.583333</td>\n",
       "    </tr>\n",
       "    <tr>\n",
       "      <th>5</th>\n",
       "      <td>植物育种家提高作物产量的方法是什么？</td>\n",
       "      <td>植物育种家提高作物产量的方法是通过对作物的遗传改良，选择和培育具有更高产量的品种。这通常涉及...</td>\n",
       "      <td>[Improvement\\nJonathan T. Vogel *, Weidong Liu...</td>\n",
       "      <td>表现型选择</td>\n",
       "      <td>NaN</td>\n",
       "      <td>0.765126</td>\n",
       "      <td>0.0</td>\n",
       "      <td>0.000000</td>\n",
       "    </tr>\n",
       "    <tr>\n",
       "      <th>6</th>\n",
       "      <td>分子机制如何影响植物生理过程？</td>\n",
       "      <td>分子机制通过影响植物体内的基因和生物化学途径，进而影响植物的各种生理过程。具体来说，分子、遗...</td>\n",
       "      <td>[based selection, without speciﬁc knowledge of...</td>\n",
       "      <td>通过影响与生理过程相关的基因和途径。</td>\n",
       "      <td>1.000000</td>\n",
       "      <td>0.826295</td>\n",
       "      <td>1.0</td>\n",
       "      <td>1.000000</td>\n",
       "    </tr>\n",
       "    <tr>\n",
       "      <th>7</th>\n",
       "      <td>哪些基因和途径对产量潜力有贡献？</td>\n",
       "      <td>哪些基因和途径对产量潜力有贡献？\\n\\n对于大豆产量潜力的贡献，相关研究提到了遗传技术和育种...</td>\n",
       "      <td>[1281663\\nSpecht, J. E., and Williams, J. H. (...</td>\n",
       "      <td>许多生理过程的基因和途径</td>\n",
       "      <td>0.555556</td>\n",
       "      <td>0.000000</td>\n",
       "      <td>0.0</td>\n",
       "      <td>0.000000</td>\n",
       "    </tr>\n",
       "    <tr>\n",
       "      <th>8</th>\n",
       "      <td>作物产量生理学的基础分子机制是什么？</td>\n",
       "      <td>作物产量生理学的基础分子机制指的是影响作物产量形成的生理过程中的分子层面的作用机制。具体到基...</td>\n",
       "      <td>[Each phase plays a role in yield formation th...</td>\n",
       "      <td>基础分子机制是指影响作物产量的分子层面的过程和结构。</td>\n",
       "      <td>0.600000</td>\n",
       "      <td>0.000000</td>\n",
       "      <td>0.0</td>\n",
       "      <td>0.000000</td>\n",
       "    </tr>\n",
       "    <tr>\n",
       "      <th>9</th>\n",
       "      <td>作物生理与产量限制过程分子机制是什么？</td>\n",
       "      <td>作物生理与产量限制过程的分子机制涉及到影响作物生长和发育的生理过程中的生化路径和基因表达。文...</td>\n",
       "      <td>[biochemical knowledge to improve the physiolo...</td>\n",
       "      <td>作物生理、育种、遗传和分子知识的整合可确定相关产量性状的精准育种目标。</td>\n",
       "      <td>1.000000</td>\n",
       "      <td>0.771089</td>\n",
       "      <td>0.0</td>\n",
       "      <td>0.000000</td>\n",
       "    </tr>\n",
       "  </tbody>\n",
       "</table>\n",
       "</div>"
      ],
      "text/plain": [
       "                   question  \\\n",
       "0               请简述本文的发表时间。   \n",
       "1           本文第一作者的工作单位是什么？   \n",
       "2          该文章发表在哪个期刊的哪个部分？   \n",
       "3  《大豆产量形成生理学》一文的发表时间是什么时候？   \n",
       "4          作者们致力于什么方面的作物改良？   \n",
       "5        植物育种家提高作物产量的方法是什么？   \n",
       "6           分子机制如何影响植物生理过程？   \n",
       "7          哪些基因和途径对产量潜力有贡献？   \n",
       "8        作物产量生理学的基础分子机制是什么？   \n",
       "9       作物生理与产量限制过程分子机制是什么？   \n",
       "\n",
       "                                              answer  \\\n",
       "0                               本文的发表时间为2021年11月15日。   \n",
       "1                 本文第一作者的工作单位是BASF Corporation或其子公司。   \n",
       "2  该文章发表在期刊《Frontiers in Plant Science》的“Crop and...   \n",
       "3                    《大豆产量形成生理学》一文的发表时间是2021年11月15日。   \n",
       "4  作者们致力于作物产量的持续改良，特别是通过基因组编辑和精准育种方法改善作物生长速率、叶面积持...   \n",
       "5  植物育种家提高作物产量的方法是通过对作物的遗传改良，选择和培育具有更高产量的品种。这通常涉及...   \n",
       "6  分子机制通过影响植物体内的基因和生物化学途径，进而影响植物的各种生理过程。具体来说，分子、遗...   \n",
       "7  哪些基因和途径对产量潜力有贡献？\\n\\n对于大豆产量潜力的贡献，相关研究提到了遗传技术和育种...   \n",
       "8  作物产量生理学的基础分子机制指的是影响作物产量形成的生理过程中的分子层面的作用机制。具体到基...   \n",
       "9  作物生理与产量限制过程的分子机制涉及到影响作物生长和发育的生理过程中的生化路径和基因表达。文...   \n",
       "\n",
       "                                            contexts  \\\n",
       "0  [fpls-12-719706 November 9, 2021 Time: 12:48 #...   \n",
       "1  [achieving the goal of using precision breedin...   \n",
       "2  [Heart, Italy\\n*Correspondence:\\nJonathan T. V...   \n",
       "3  [This article was submitted to\\nCrop and Produ...   \n",
       "4  [altered fruit size, inﬂorescence branching, a...   \n",
       "5  [Improvement\\nJonathan T. Vogel *, Weidong Liu...   \n",
       "6  [based selection, without speciﬁc knowledge of...   \n",
       "7  [1281663\\nSpecht, J. E., and Williams, J. H. (...   \n",
       "8  [Each phase plays a role in yield formation th...   \n",
       "9  [biochemical knowledge to improve the physiolo...   \n",
       "\n",
       "                                        ground_truth  faithfulness  \\\n",
       "0                                        2021年11月15日      1.000000   \n",
       "1                                               BASF      0.500000   \n",
       "2  Frontiers in Plant Science的Crop and Product Ph...      1.000000   \n",
       "3                                              2021年      0.000000   \n",
       "4                                             提高作物产量      1.000000   \n",
       "5                                              表现型选择           NaN   \n",
       "6                                 通过影响与生理过程相关的基因和途径。      1.000000   \n",
       "7                                       许多生理过程的基因和途径      0.555556   \n",
       "8                         基础分子机制是指影响作物产量的分子层面的过程和结构。      0.600000   \n",
       "9                作物生理、育种、遗传和分子知识的整合可确定相关产量性状的精准育种目标。      1.000000   \n",
       "\n",
       "   answer_relevancy  context_recall  context_precision  \n",
       "0          0.864029             1.0           1.000000  \n",
       "1          0.899457             0.0           1.000000  \n",
       "2          0.886989             1.0           1.000000  \n",
       "3          0.787779             1.0           1.000000  \n",
       "4          0.787484             1.0           0.583333  \n",
       "5          0.765126             0.0           0.000000  \n",
       "6          0.826295             1.0           1.000000  \n",
       "7          0.000000             0.0           0.000000  \n",
       "8          0.000000             0.0           0.000000  \n",
       "9          0.771089             0.0           0.000000  "
      ]
     },
     "execution_count": 33,
     "metadata": {},
     "output_type": "execute_result"
    }
   ],
   "source": [
    "results.to_pandas()"
   ]
  }
 ],
 "metadata": {
  "kernelspec": {
   "display_name": "Python 3 (ipykernel)",
   "language": "python",
   "name": "python3"
  },
  "language_info": {
   "codemirror_mode": {
    "name": "ipython",
    "version": 3
   },
   "file_extension": ".py",
   "mimetype": "text/x-python",
   "name": "python",
   "nbconvert_exporter": "python",
   "pygments_lexer": "ipython3",
   "version": "3.10.14"
  }
 },
 "nbformat": 4,
 "nbformat_minor": 5
}
