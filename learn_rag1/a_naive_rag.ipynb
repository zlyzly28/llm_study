{
 "cells": [
  {
   "cell_type": "code",
   "execution_count": 6,
   "id": "700d7883-b6a2-4d7c-8151-170be66aaeaf",
   "metadata": {
    "ExecutionIndicator": {
     "show": false
    },
    "execution": {
     "iopub.execute_input": "2024-07-05T06:38:52.396502Z",
     "iopub.status.busy": "2024-07-05T06:38:52.396168Z",
     "iopub.status.idle": "2024-07-05T06:39:04.005976Z",
     "shell.execute_reply": "2024-07-05T06:39:04.005253Z",
     "shell.execute_reply.started": "2024-07-05T06:38:52.396483Z"
    },
    "tags": []
   },
   "outputs": [
    {
     "name": "stdout",
     "output_type": "stream",
     "text": [
      "dict_keys(['id', 'source', 'page', 'question', 'ground_truth', 'context'])\n"
     ]
    }
   ],
   "source": [
    "from langchain_chroma import Chroma\n",
    "from langchain.schema import Document\n",
    "from langchain_community.embeddings import HuggingFaceBgeEmbeddings\n",
    "import pandas as pd\n",
    "import json\n",
    "from tqdm import tqdm, trange\n",
    "from retiever_eval_list import get_result_retrieva, get_retriever_res_list\n",
    "import os\n",
    "import shutil\n",
    "\n",
    "\n",
    "df = pd.read_excel('soybean_q_gt_609.xlsx', sheet_name='Sheet1')\n",
    "\n",
    "# 修改\n",
    "folder_path = 'Result/a_naive_rag/'\n",
    "retriever_filename = \"Result/a_naive_rag/retriever_result.json\"\n",
    "save_info_result_filename = \"Result/a_naive_rag/save_info_result.json\"\n",
    "top_k = 20\n",
    "s_index = 10\n",
    "\n",
    "model_name = '/mnt/workspace/.cache/modelscope/hub/maple77/zpoint_large_embedding_zh'\n",
    "model_kwargs = {'device': 'cpu'}\n",
    "encode_kwargs = {'normalize_embeddings': True}\n",
    "hf = HuggingFaceBgeEmbeddings(\n",
    "    model_name=model_name,\n",
    "    model_kwargs=model_kwargs,\n",
    "    encode_kwargs=encode_kwargs\n",
    ")\n",
    "vectorstore = Chroma(persist_directory=\"soybean_db2\", embedding_function=hf)\n",
    "retriever = vectorstore.as_retriever(\n",
    "    search_type=\"similarity\",\n",
    "    search_kwargs={\"k\": top_k}\n",
    ")\n",
    "\n",
    "def create_folder_if_not_exists(folder_path):\n",
    "    # 检查文件夹是否存在\n",
    "    if os.path.exists(folder_path):\n",
    "        # 如果存在，则删除原文件夹及其中内容\n",
    "        shutil.rmtree(folder_path)\n",
    "        print(f\"Folder '{folder_path}' existed and has been removed.\")\n",
    "    # 创建新文件夹\n",
    "    os.makedirs(folder_path)\n",
    "    print(f\"Folder '{folder_path}' has been created.\")\n",
    "\n",
    "# 打印DataFrame的内容\n",
    "column_lists = {col: df[col].tolist() for col in df.columns}\n",
    "print(column_lists.keys())"
   ]
  },
  {
   "cell_type": "code",
   "execution_count": 2,
   "id": "af7edd1c-e7e7-4cd2-8db9-b7d07b21fac0",
   "metadata": {
    "ExecutionIndicator": {
     "show": false
    },
    "execution": {
     "iopub.execute_input": "2024-07-05T06:31:34.508343Z",
     "iopub.status.busy": "2024-07-05T06:31:34.507918Z",
     "iopub.status.idle": "2024-07-05T06:38:15.589906Z",
     "shell.execute_reply": "2024-07-05T06:38:15.588216Z",
     "shell.execute_reply.started": "2024-07-05T06:31:34.508325Z"
    },
    "tags": []
   },
   "outputs": [
    {
     "name": "stderr",
     "output_type": "stream",
     "text": [
      "Get retriever result: 100%|██████████| 10/10 [06:41<00:00, 40.11s/it]\n"
     ]
    }
   ],
   "source": [
    "retriever_result = []\n",
    "for tmp_q in tqdm(range(len(column_lists['question'][:s_index])), desc='Get retriever result'):\n",
    "    # print(tmp_q)\n",
    "    retriever_result.append(retriever.invoke(column_lists['question'][tmp_q]))"
   ]
  },
  {
   "cell_type": "code",
   "execution_count": 5,
   "id": "e3d452ee-4fe0-4198-ba9f-1a91248076fd",
   "metadata": {
    "ExecutionIndicator": {
     "show": false
    },
    "execution": {
     "iopub.execute_input": "2024-07-05T06:38:43.301502Z",
     "iopub.status.busy": "2024-07-05T06:38:43.301066Z",
     "iopub.status.idle": "2024-07-05T06:38:43.305889Z",
     "shell.execute_reply": "2024-07-05T06:38:43.305254Z",
     "shell.execute_reply.started": "2024-07-05T06:38:43.301473Z"
    },
    "tags": []
   },
   "outputs": [],
   "source": [
    "col_id = column_lists['id'][:s_index]\n",
    "retriever_re = get_result_retrieva(col_id, retriever_result, topk=top_k)\n",
    "# 用你想要的路径替换'your_folder_path'\n",
    "create_folder_if_not_exists(folder_path)\n",
    "# 对结果进行保存\n",
    "# 指定你想要保存的文件名\n",
    "# 使用json.dump()将字典保存为json文件\n",
    "with open(retriever_filename, 'w', encoding='utf-8') as f:\n",
    "    json.dump(retriever_re, f, ensure_ascii=False, indent=4)\n",
    "print('完成!')"
   ]
  },
  {
   "cell_type": "code",
   "execution_count": 17,
   "id": "73eadae0-27cd-4392-be0e-03ed05167ea8",
   "metadata": {
    "ExecutionIndicator": {
     "show": false
    },
    "execution": {
     "iopub.execute_input": "2024-07-05T06:47:21.872600Z",
     "iopub.status.busy": "2024-07-05T06:47:21.872126Z",
     "iopub.status.idle": "2024-07-05T06:47:21.878173Z",
     "shell.execute_reply": "2024-07-05T06:47:21.877478Z",
     "shell.execute_reply.started": "2024-07-05T06:47:21.872568Z"
    },
    "tags": []
   },
   "outputs": [],
   "source": [
    "# dict_keys(['id', 'source', 'page', 'question', 'ground_truth', 'context'])\n",
    "# column_lists['context'][:s_index]\n",
    "save_info_result = {}\n",
    "save_info_result['id'] = column_lists['id'][:s_index]\n",
    "save_info_result['source'] = column_lists['source'][:s_index]\n",
    "save_info_result['page'] = column_lists['page'][:s_index]\n",
    "save_info_result['question'] = column_lists['question'][:s_index]\n",
    "save_info_result['ground_truth'] = column_lists['ground_truth'][:s_index]\n",
    "save_info_result['context'] = column_lists['context'][:s_index]\n",
    "save_info_result['retriever_result_list'] = get_retriever_res_list(retriever_result, top_k)\n",
    "\n",
    "# 使用json.dump()将字典保存为json文件\n",
    "with open(save_info_result_filename, 'w', encoding='utf-8') as f:\n",
    "    json.dump(save_info_result, f, ensure_ascii=False, indent=4)\n",
    "\n",
    "print('完成!')"
   ]
  }
 ],
 "metadata": {
  "kernelspec": {
   "display_name": "Python 3 (ipykernel)",
   "language": "python",
   "name": "python3"
  },
  "language_info": {
   "codemirror_mode": {
    "name": "ipython",
    "version": 3
   },
   "file_extension": ".py",
   "mimetype": "text/x-python",
   "name": "python",
   "nbconvert_exporter": "python",
   "pygments_lexer": "ipython3",
   "version": "3.10.14"
  }
 },
 "nbformat": 4,
 "nbformat_minor": 5
}
