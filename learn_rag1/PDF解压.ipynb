{
 "cells": [
  {
   "cell_type": "code",
   "execution_count": null,
   "id": "f8eff4fa-f158-4f66-bebe-a3783abc402a",
   "metadata": {
    "ExecutionIndicator": {
     "show": true
    },
    "tags": []
   },
   "outputs": [],
   "source": [
    "!unzip ../learn_rag1/soybean_data/knowledge_.zip"
   ]
  },
  {
   "cell_type": "code",
   "execution_count": 12,
   "id": "74ee64ca-af4d-4116-bcc6-e6777554844b",
   "metadata": {
    "execution": {
     "iopub.execute_input": "2024-07-12T03:02:31.281876Z",
     "iopub.status.busy": "2024-07-12T03:02:31.281534Z",
     "iopub.status.idle": "2024-07-12T03:02:31.284884Z",
     "shell.execute_reply": "2024-07-12T03:02:31.284390Z",
     "shell.execute_reply.started": "2024-07-12T03:02:31.281857Z"
    },
    "tags": []
   },
   "outputs": [],
   "source": [
    "import glob\n",
    "dc_name = glob.glob(\"knowledge_/*.pdf\")"
   ]
  },
  {
   "cell_type": "code",
   "execution_count": 16,
   "id": "19b0c5f2-f99a-4f07-9be7-1460034060d3",
   "metadata": {
    "execution": {
     "iopub.execute_input": "2024-07-12T03:03:27.073088Z",
     "iopub.status.busy": "2024-07-12T03:03:27.072758Z",
     "iopub.status.idle": "2024-07-12T03:05:42.965561Z",
     "shell.execute_reply": "2024-07-12T03:05:42.965013Z",
     "shell.execute_reply.started": "2024-07-12T03:03:27.073066Z"
    },
    "tags": []
   },
   "outputs": [
    {
     "name": "stderr",
     "output_type": "stream",
     "text": [
      "Advanced encoding [] not implemented yet\n",
      "Advanced encoding [] not implemented yet\n",
      "Advanced encoding [] not implemented yet\n",
      "Advanced encoding [] not implemented yet\n",
      "Advanced encoding [] not implemented yet\n",
      "Advanced encoding [] not implemented yet\n",
      "Advanced encoding [] not implemented yet\n",
      "Advanced encoding [] not implemented yet\n",
      "Advanced encoding [] not implemented yet\n",
      "Advanced encoding [] not implemented yet\n"
     ]
    }
   ],
   "source": [
    "from langchain.document_loaders import PyPDFLoader\n",
    "from langchain_community.document_loaders import TextLoader\n",
    "from langchain_community.vectorstores import FAISS\n",
    "from langchain_openai import OpenAIEmbeddings\n",
    "from langchain_text_splitters import RecursiveCharacterTextSplitter\n",
    "\n",
    "documents = []\n",
    "# dc_name = [\"soybean_konw.pdf\", \"soybean2.pdf\"]\n",
    "for tmp_name in dc_name:\n",
    "    # print(len(PyPDFLoader(tmp_name).load()))\n",
    "    documents += PyPDFLoader(tmp_name).load()\n",
    "\n",
    "text_splitter = RecursiveCharacterTextSplitter(chunk_size=500, chunk_overlap=0)\n",
    "texts = text_splitter.split_documents(documents[:])\n",
    "for idx, text in enumerate(texts):\n",
    "    text.metadata[\"id\"] = idx"
   ]
  },
  {
   "cell_type": "code",
   "execution_count": 25,
   "id": "eebe5f82-c1a3-41fe-85d6-6edceaf1bed4",
   "metadata": {
    "execution": {
     "iopub.execute_input": "2024-07-12T03:12:14.816797Z",
     "iopub.status.busy": "2024-07-12T03:12:14.816423Z",
     "iopub.status.idle": "2024-07-12T03:12:14.945554Z",
     "shell.execute_reply": "2024-07-12T03:12:14.945029Z",
     "shell.execute_reply.started": "2024-07-12T03:12:14.816777Z"
    },
    "tags": []
   },
   "outputs": [
    {
     "name": "stderr",
     "output_type": "stream",
     "text": [
      "/usr/local/lib/python3.10/site-packages/langchain_core/_api/deprecation.py:139: LangChainDeprecationWarning: The class `ChatOpenAI` was deprecated in LangChain 0.0.10 and will be removed in 0.3.0. An updated version of the class exists in the langchain-openai package and should be used instead. To use it run `pip install -U langchain-openai` and import as `from langchain_openai import ChatOpenAI`.\n",
      "  warn_deprecated(\n"
     ]
    }
   ],
   "source": [
    "from langchain.schema.runnable import RunnablePassthrough\n",
    "from langchain.schema.output_parser import StrOutputParser\n",
    "from langchain.chat_models import ChatOpenAI\n",
    "\n",
    "llm = ChatOpenAI(\n",
    "    temperature=0.6,\n",
    "    model=\"glm-4-0520\",\n",
    "    openai_api_key=\"661a7aa0aeb8ca129eb4647461123230.bl9w581QKpnMfBvs\",\n",
    "    openai_api_base=\"https://open.bigmodel.cn/api/paas/v4/\"\n",
    ")\n"
   ]
  },
  {
   "cell_type": "code",
   "execution_count": 53,
   "id": "86af4a0a-0239-40e0-a8d8-e5a3415ca268",
   "metadata": {
    "execution": {
     "iopub.execute_input": "2024-07-12T03:32:43.028891Z",
     "iopub.status.busy": "2024-07-12T03:32:43.028549Z",
     "iopub.status.idle": "2024-07-12T03:32:43.033130Z",
     "shell.execute_reply": "2024-07-12T03:32:43.032664Z",
     "shell.execute_reply.started": "2024-07-12T03:32:43.028872Z"
    },
    "tags": []
   },
   "outputs": [],
   "source": [
    "from typing import List\n",
    "from typing import Literal, Optional, Tuple\n",
    "from langchain_core.output_parsers import PydanticOutputParser\n",
    "from langchain_core.prompts import ChatPromptTemplate\n",
    "from langchain_core.pydantic_v1 import BaseModel, Field\n",
    "\n",
    "\n",
    "class Soybean_Q_GT(BaseModel):\n",
    "\n",
    "    question: str = Field(\n",
    "        ..., description=\"Given contextual information, not prior knowledge. Generate questions based only on the following queries.\"\n",
    "    )\n",
    "    ground_truth: str = Field(\n",
    "        ..., description=\"Given contextual information, not prior knowledge. Give the corresponding answers only according to the questions generated above.\"\n",
    "    )\n",
    "\n",
    "# Set up a parser\n",
    "parser = PydanticOutputParser(pydantic_object=Soybean_Q_GT)"
   ]
  },
  {
   "cell_type": "code",
   "execution_count": 54,
   "id": "0a0625a0-d26e-464a-930c-afd179891068",
   "metadata": {
    "ExecutionIndicator": {
     "show": true
    },
    "execution": {
     "iopub.execute_input": "2024-07-12T03:32:44.320246Z",
     "iopub.status.busy": "2024-07-12T03:32:44.319890Z",
     "iopub.status.idle": "2024-07-12T03:32:44.324735Z",
     "shell.execute_reply": "2024-07-12T03:32:44.324266Z",
     "shell.execute_reply.started": "2024-07-12T03:32:44.320225Z"
    },
    "tags": []
   },
   "outputs": [],
   "source": [
    "from langchain import PromptTemplate\n",
    "# Prompt\n",
    "prompt = ChatPromptTemplate.from_messages(\n",
    "    [\n",
    "        (\n",
    "            \"system\",\n",
    "            \"Answer the user query. Wrap the output in `json` tags\\n{format_instructions}\",\n",
    "        ),\n",
    "        (\n",
    "            \"human\", \n",
    "            \"\"\"\n",
    "            Context information is below.\n",
    "            ---------------------\n",
    "            {context}\n",
    "            ---------------------\n",
    "            Given contextual information, not prior knowledge. Ask questions and find out the truth in the context below. You're a college professor. Your task is to write questions for the upcoming exam and give the corresponding standard answers. The questions should be varied throughout the exam.\n",
    "            Questions must be written in Chinese. The questions should be abstract, no more than 30 Chinese characters. The standard answers should be as varied and varied as possible, with slightly more words, under 100 words.\n",
    "            Punctuation such as \"this\", \"that\", \"according\" and \"according\" should not be used. Acronyms can be used for titles and technical terms. \n",
    "            \"\"\"\n",
    "        ),\n",
    "    ]\n",
    ").partial(format_instructions=parser.get_format_instructions())\n"
   ]
  },
  {
   "cell_type": "code",
   "execution_count": 55,
   "id": "05350618-ebfc-4800-bbf4-7f99dec89d49",
   "metadata": {
    "execution": {
     "iopub.execute_input": "2024-07-12T03:32:46.291500Z",
     "iopub.status.busy": "2024-07-12T03:32:46.291147Z",
     "iopub.status.idle": "2024-07-12T03:32:46.294414Z",
     "shell.execute_reply": "2024-07-12T03:32:46.293953Z",
     "shell.execute_reply.started": "2024-07-12T03:32:46.291462Z"
    },
    "tags": []
   },
   "outputs": [],
   "source": [
    "rag_chain = (\n",
    "    {\"context\": RunnablePassthrough()} \n",
    "    | prompt \n",
    "    | llm\n",
    "    | parser \n",
    ")"
   ]
  },
  {
   "cell_type": "code",
   "execution_count": 47,
   "id": "8734fb4b-997f-4573-941f-6df7c83bff34",
   "metadata": {
    "execution": {
     "iopub.execute_input": "2024-07-12T03:30:22.033298Z",
     "iopub.status.busy": "2024-07-12T03:30:22.032944Z",
     "iopub.status.idle": "2024-07-12T03:30:26.086085Z",
     "shell.execute_reply": "2024-07-12T03:30:26.085617Z",
     "shell.execute_reply.started": "2024-07-12T03:30:22.033277Z"
    },
    "tags": []
   },
   "outputs": [
    {
     "data": {
      "text/plain": [
       "Soybean_Q_GT(question='北豆40是哪两个机构共同研发的？', ground_truth='北豆40是由黑龙江省农垦总局红兴隆科学研究所与黑龙江省农垦科研育种中心共同研发的产品。')"
      ]
     },
     "execution_count": 47,
     "metadata": {},
     "output_type": "execute_result"
    }
   ],
   "source": [
    "query = \"北豆40，为产于黑龙江省的大豆种子。是由黑龙江省农垦总局红兴隆科学研究所与黑龙江省农垦科研育种中心共同研发的产品。品种特性该品种平均生育期120天，长叶、紫花、亚有限结荚习性。株高85.8厘米，单株有效荚数34.4个，百粒重19.0克。籽粒圆形，种皮黄色，黄脐。接种鉴定，中抗大豆灰斑病，中抗SMVⅠ号株系，中感SMVⅢ号株系。粗蛋白质含量40.78%，粗脂肪含量21.99%。产量表现2006年参加北方春大豆中早熟组品种区域试验，亩产210.6千克，比对照绥农14增产4.0%，极显著；2007年续试，亩产181.2千克，比对照增产6.5%，极显著；两年区域试验亩产195.9千克，比对照增产5.2%。2007年生产试验，亩产166.8千克，比对照增产5.2%。栽培技术要点地温稳定通过7～8℃开始播种，适宜种植密度为每亩1.6万～1.7万株；以深秋施肥为好，每亩施纯量化肥8～10千克，氮、磷、钾比例1∶1.15～1.5∶0.8。该品种符合国家大豆品种审定标准，通过审定。适宜在黑龙江省第二积温带和第三积温带上限，吉林省东部地区春播种植。\"\n",
    "\n",
    "# print(prompt.invoke(query).to_string())\n",
    "z = rag_chain.invoke({\"context\": query})\n",
    "z"
   ]
  },
  {
   "cell_type": "code",
   "execution_count": null,
   "id": "447ffcbf-eb0f-474e-a731-5aa3b381a243",
   "metadata": {
    "ExecutionIndicator": {
     "show": true
    },
    "execution": {
     "iopub.status.busy": "2024-07-12T06:16:46.721187Z",
     "iopub.status.idle": "2024-07-12T06:16:46.721497Z",
     "shell.execute_reply": "2024-07-12T06:16:46.721392Z",
     "shell.execute_reply.started": "2024-07-12T06:16:46.721383Z"
    },
    "tags": []
   },
   "outputs": [],
   "source": [
    "import random\n",
    "\n",
    "# 定义范围\n",
    "start = 0\n",
    "end = len(texts)\n",
    "\n",
    "# 使用random.sample从范围内选择不重复的500个数字\n",
    "random_numbers = random.sample(range(start, end), 100)\n",
    "\n",
    "# 打印选出的数字（如果需要）\n",
    "print(random_numbers)"
   ]
  },
  {
   "cell_type": "code",
   "execution_count": 82,
   "id": "150615c6-06b8-4ad6-a778-9d3dcadbc3f8",
   "metadata": {
    "ExecutionIndicator": {
     "show": true
    },
    "execution": {
     "iopub.execute_input": "2024-07-12T04:11:34.557284Z",
     "iopub.status.busy": "2024-07-12T04:11:34.556934Z",
     "iopub.status.idle": "2024-07-12T04:11:34.560768Z",
     "shell.execute_reply": "2024-07-12T04:11:34.560311Z",
     "shell.execute_reply.started": "2024-07-12T04:11:34.557263Z"
    },
    "tags": []
   },
   "outputs": [],
   "source": [
    "content = [texts[i].page_content for i in random_numbers]\n",
    "idk = [texts[i].metadata['id'] for i in random_numbers]\n",
    "source = [texts[i].metadata['source'] for i in random_numbers]\n",
    "page = [texts[i].metadata['page'] for i in random_numbers]"
   ]
  },
  {
   "cell_type": "code",
   "execution_count": 83,
   "id": "734c61f6-9d84-404e-8715-539f1c4f73a5",
   "metadata": {
    "ExecutionIndicator": {
     "show": true
    },
    "execution": {
     "iopub.execute_input": "2024-07-12T04:11:36.340927Z",
     "iopub.status.busy": "2024-07-12T04:11:36.340582Z",
     "iopub.status.idle": "2024-07-12T04:11:52.168858Z",
     "shell.execute_reply": "2024-07-12T04:11:52.168316Z",
     "shell.execute_reply.started": "2024-07-12T04:11:36.340908Z"
    },
    "tags": []
   },
   "outputs": [
    {
     "name": "stdout",
     "output_type": "stream",
     "text": [
      "100\n"
     ]
    }
   ],
   "source": [
    "question_gt = rag_chain.batch(content[:])\n",
    "print(len(question_gt))\n",
    "question_list, ground_th_list = [], []\n",
    "for j in question_gt:\n",
    "    question_list.append(j.question)\n",
    "    ground_th_list.append(j.ground_truth)"
   ]
  },
  {
   "cell_type": "code",
   "execution_count": null,
   "id": "49d4389f-a7ae-41c6-9c4a-d7a5763851f8",
   "metadata": {
    "execution": {
     "iopub.status.busy": "2024-07-12T06:16:46.720196Z",
     "iopub.status.idle": "2024-07-12T06:16:46.720405Z",
     "shell.execute_reply": "2024-07-12T06:16:46.720314Z",
     "shell.execute_reply.started": "2024-07-12T06:16:46.720305Z"
    },
    "tags": []
   },
   "outputs": [],
   "source": [
    "import pandas as pd\n",
    "\n",
    "# 示例字典\n",
    "data_dict = {\n",
    "    'id': idk,\n",
    "    'source': source,\n",
    "    'page': page,\n",
    "    'question': question_list,\n",
    "    'ground_truth': ground_th_list,\n",
    "    'context': content[:]\n",
    "}\n",
    "\n",
    "# 将字典转换为Pandas DataFrame\n",
    "df = pd.DataFrame(data_dict)\n",
    "\n",
    "# 打印DataFrame\n",
    "print(df)"
   ]
  },
  {
   "cell_type": "code",
   "execution_count": 85,
   "id": "7f8623b1-77ad-4e3c-9867-276c731791ec",
   "metadata": {
    "ExecutionIndicator": {
     "show": true
    },
    "execution": {
     "iopub.execute_input": "2024-07-12T04:11:57.685831Z",
     "iopub.status.busy": "2024-07-12T04:11:57.685477Z",
     "iopub.status.idle": "2024-07-12T04:11:57.705406Z",
     "shell.execute_reply": "2024-07-12T04:11:57.704243Z",
     "shell.execute_reply.started": "2024-07-12T04:11:57.685809Z"
    },
    "tags": []
   },
   "outputs": [],
   "source": [
    "df.to_excel('soybean_q_gt_100_100_5.xlsx', index=False)"
   ]
  },
  {
   "cell_type": "code",
   "execution_count": 86,
   "id": "b09e09da-d3a8-4366-b45a-db537b4d6ea9",
   "metadata": {
    "execution": {
     "iopub.execute_input": "2024-07-12T04:15:58.729447Z",
     "iopub.status.busy": "2024-07-12T04:15:58.729077Z",
     "iopub.status.idle": "2024-07-12T06:16:46.719681Z",
     "shell.execute_reply": "2024-07-12T06:16:46.718890Z",
     "shell.execute_reply.started": "2024-07-12T04:15:58.729425Z"
    },
    "tags": []
   },
   "outputs": [
    {
     "name": "stderr",
     "output_type": "stream",
     "text": [
      "/usr/local/lib/python3.10/site-packages/sentence_transformers/cross_encoder/CrossEncoder.py:11: TqdmExperimentalWarning: Using `tqdm.autonotebook.tqdm` in notebook mode. Use `tqdm.tqdm` instead to force console mode (e.g. in jupyter console)\n",
      "  from tqdm.autonotebook import tqdm, trange\n",
      "\n",
      "KeyboardInterrupt\n",
      "\n"
     ]
    }
   ],
   "source": [
    "from langchain_chroma import Chroma\n",
    "from langchain.schema import Document\n",
    "from langchain_community.embeddings import HuggingFaceBgeEmbeddings\n",
    "\n",
    "top_k = 10\n",
    "\n",
    "model_name = '/mnt/workspace/.cache/modelscope/hub/maple77/zpoint_large_embedding_zh'\n",
    "model_kwargs = {'device': 'cpu'}\n",
    "encode_kwargs = {'normalize_embeddings': True}\n",
    "hf = HuggingFaceBgeEmbeddings(\n",
    "    model_name=model_name,\n",
    "    model_kwargs=model_kwargs,\n",
    "    encode_kwargs=encode_kwargs\n",
    ")\n",
    "vectorstore = Chroma.from_documents(documents=texts[:], embedding=hf, persist_directory=\"soybean_database\")\n",
    "retriever = vectorstore.as_retriever(\n",
    "    search_type=\"similarity\",\n",
    "    search_kwargs={\"k\": top_k}\n",
    ")"
   ]
  }
 ],
 "metadata": {
  "kernelspec": {
   "display_name": "Python 3 (ipykernel)",
   "language": "python",
   "name": "python3"
  },
  "language_info": {
   "codemirror_mode": {
    "name": "ipython",
    "version": 3
   },
   "file_extension": ".py",
   "mimetype": "text/x-python",
   "name": "python",
   "nbconvert_exporter": "python",
   "pygments_lexer": "ipython3",
   "version": "3.10.14"
  }
 },
 "nbformat": 4,
 "nbformat_minor": 5
}
