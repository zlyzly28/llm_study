{
 "cells": [
  {
   "cell_type": "code",
   "execution_count": 1,
   "id": "b3eef02b-cbb2-4032-996c-b48570a8599c",
   "metadata": {
    "execution": {
     "iopub.execute_input": "2024-07-04T08:47:47.796027Z",
     "iopub.status.busy": "2024-07-04T08:47:47.795674Z",
     "iopub.status.idle": "2024-07-04T08:48:06.261406Z",
     "shell.execute_reply": "2024-07-04T08:48:06.260886Z",
     "shell.execute_reply.started": "2024-07-04T08:47:47.796008Z"
    },
    "tags": []
   },
   "outputs": [
    {
     "name": "stderr",
     "output_type": "stream",
     "text": [
      "/usr/local/lib/python3.10/site-packages/sentence_transformers/cross_encoder/CrossEncoder.py:11: TqdmExperimentalWarning: Using `tqdm.autonotebook.tqdm` in notebook mode. Use `tqdm.tqdm` instead to force console mode (e.g. in jupyter console)\n",
      "  from tqdm.autonotebook import tqdm, trange\n"
     ]
    }
   ],
   "source": [
    "from langchain_chroma import Chroma\n",
    "from langchain.schema import Document\n",
    "from langchain_community.embeddings import HuggingFaceBgeEmbeddings\n",
    "\n",
    "top_k = 10\n",
    "\n",
    "model_name = '/mnt/workspace/.cache/modelscope/hub/maple77/zpoint_large_embedding_zh'\n",
    "model_kwargs = {'device': 'cpu'}\n",
    "encode_kwargs = {'normalize_embeddings': True}\n",
    "hf = HuggingFaceBgeEmbeddings(\n",
    "    model_name=model_name,\n",
    "    model_kwargs=model_kwargs,\n",
    "    encode_kwargs=encode_kwargs\n",
    ")\n",
    "vectorstore = Chroma(persist_directory=\"soybean_db2\", embedding_function=hf)\n",
    "retriever = vectorstore.as_retriever(\n",
    "    search_type=\"similarity\",\n",
    "    search_kwargs={\"k\": top_k}\n",
    ")"
   ]
  },
  {
   "cell_type": "code",
   "execution_count": 2,
   "id": "234d7486-a78a-4eb4-8e48-d1df94a9a559",
   "metadata": {
    "execution": {
     "iopub.execute_input": "2024-07-04T08:49:36.506359Z",
     "iopub.status.busy": "2024-07-04T08:49:36.505731Z",
     "iopub.status.idle": "2024-07-04T08:50:15.117423Z",
     "shell.execute_reply": "2024-07-04T08:50:15.116836Z",
     "shell.execute_reply.started": "2024-07-04T08:49:36.506337Z"
    },
    "tags": []
   },
   "outputs": [],
   "source": [
    "question = \"高产量的大豆在生长过程中有什么特性？\"\n",
    "retri_re = retriever.invoke(question)"
   ]
  },
  {
   "cell_type": "code",
   "execution_count": 3,
   "id": "b601aa19-c7f5-46d0-b362-5a1e9a498e78",
   "metadata": {
    "execution": {
     "iopub.execute_input": "2024-07-04T08:50:27.107323Z",
     "iopub.status.busy": "2024-07-04T08:50:27.106987Z",
     "iopub.status.idle": "2024-07-04T08:50:35.420357Z",
     "shell.execute_reply": "2024-07-04T08:50:35.419677Z",
     "shell.execute_reply.started": "2024-07-04T08:50:27.107304Z"
    },
    "tags": []
   },
   "outputs": [],
   "source": [
    "from transformers import AutoModelForSequenceClassification, AutoTokenizer\n",
    "tokenizer = AutoTokenizer.from_pretrained('/mnt/workspace/.cache/modelscope/hub/Xorbits/bge-reranker-base')\n",
    "rerank_model = AutoModelForSequenceClassification.from_pretrained('/mnt/workspace/.cache/modelscope/hub/Xorbits/bge-reranker-base')"
   ]
  },
  {
   "cell_type": "code",
   "execution_count": null,
   "id": "0d64f047-1595-4121-9560-6f1a37468523",
   "metadata": {
    "tags": []
   },
   "outputs": [],
   "source": [
    "import torch\n",
    "pairs = []\n",
    "for idx in range(len(retri_re)):\n",
    "    pairs.append([question, retri_re[idx].page_content])\n",
    "\n",
    "with torch.no_grad():\n",
    "    inputs = tokenizer(pairs, padding=True, truncation=True, return_tensors='pt', max_length=512)\n",
    "    scores = rerank_model(**inputs, return_dict=True).logits.view(-1, ).float()\n",
    "combined = sorted(zip(scores, retri_re), reverse=True)\n",
    "scores_rerank_list, retri_rerank_list = zip(*combined)\n",
    "# print(scores_rerank_list, retri_rerank_list)\n",
    "retri_rerank_list"
   ]
  },
  {
   "cell_type": "code",
   "execution_count": 14,
   "id": "25d2a956-a1e4-48d6-ab1a-b95a3901b0f9",
   "metadata": {
    "ExecutionIndicator": {
     "show": true
    },
    "execution": {
     "iopub.execute_input": "2024-07-04T09:05:30.649850Z",
     "iopub.status.busy": "2024-07-04T09:05:30.649486Z",
     "iopub.status.idle": "2024-07-04T09:05:30.757909Z",
     "shell.execute_reply": "2024-07-04T09:05:30.757210Z",
     "shell.execute_reply.started": "2024-07-04T09:05:30.649831Z"
    },
    "tags": []
   },
   "outputs": [
    {
     "name": "stdout",
     "output_type": "stream",
     "text": [
      "input_variables=['context', 'question'] template=\"\\nYou are an expert in phenomics in agronomy, and you have a very rich knowledge of agronomy and phenomics.\\nUse the context snippets retrieved below to answer the agronomy question from a phenotypic point of view.\\nIf if you don't know the answer, say you don't know.\\n\\nQuestion: {question} \\n\\nContext: {context} \\n\\nAnswer:\\n\"\n"
     ]
    }
   ],
   "source": [
    "from langchain import PromptTemplate\n",
    "from langchain.schema.runnable import RunnablePassthrough\n",
    "from langchain.schema.output_parser import StrOutputParser\n",
    "from langchain.chat_models import ChatOpenAI\n",
    "from langchain_chroma import Chroma\n",
    "from langchain.schema import Document\n",
    "from langchain_community.embeddings import HuggingFaceBgeEmbeddings\n",
    "template = \"\"\"\n",
    "You are an expert in phenomics in agronomy, and you have a very rich knowledge of agronomy and phenomics.\n",
    "Use the context snippets retrieved below to answer the agronomy question from a phenotypic point of view.\n",
    "If if you don't know the answer, say you don't know.\n",
    "\n",
    "Question: {question} \n",
    "\n",
    "Context: {context} \n",
    "\n",
    "Answer:\n",
    "\"\"\"\n",
    "llm = ChatOpenAI(\n",
    "    temperature=0.6,\n",
    "    model=\"glm-4-0520\",\n",
    "    openai_api_key=\"661a7aa0aeb8ca129eb4647461123230.bl9w581QKpnMfBvs\",\n",
    "    openai_api_base=\"https://open.bigmodel.cn/api/paas/v4/\"\n",
    ")\n",
    "prompt = PromptTemplate(\n",
    "    template=template, \n",
    "    input_variables=[\"context\",\"question\"]\n",
    "  )\n",
    "\n",
    "print(prompt)"
   ]
  },
  {
   "cell_type": "code",
   "execution_count": 25,
   "id": "dd0a55fe-a0fb-4ba3-a8c6-09964f88a38b",
   "metadata": {
    "ExecutionIndicator": {
     "show": true
    },
    "execution": {
     "iopub.execute_input": "2024-07-04T10:33:09.587118Z",
     "iopub.status.busy": "2024-07-04T10:33:09.586789Z",
     "iopub.status.idle": "2024-07-04T10:33:09.591035Z",
     "shell.execute_reply": "2024-07-04T10:33:09.590344Z",
     "shell.execute_reply.started": "2024-07-04T10:33:09.587099Z"
    },
    "tags": []
   },
   "outputs": [],
   "source": [
    "from langchain.schema.runnable import RunnablePassthrough\n",
    "from langchain.schema.output_parser import StrOutputParser\n",
    "from langchain.chat_models import ChatOpenAI\n",
    "# memory = ConversationBufferMemory(k = 5, memory_key=\"chat_history\", return_messages=True)\n",
    "# llm = ChatOpenAI(model_name=\"gpt-3.5-turbo\", temperature=0)\n",
    "rag_chain = (\n",
    "    {\"context\": RunnablePassthrough(),  \"question\": RunnablePassthrough()} \n",
    "    | prompt \n",
    "    | llm\n",
    "    | StrOutputParser() \n",
    ")"
   ]
  },
  {
   "cell_type": "code",
   "execution_count": 16,
   "id": "6c072225-63f1-4a59-8d0d-e8953b6748fb",
   "metadata": {
    "ExecutionIndicator": {
     "show": true
    },
    "execution": {
     "iopub.execute_input": "2024-07-04T09:05:34.647755Z",
     "iopub.status.busy": "2024-07-04T09:05:34.647412Z",
     "iopub.status.idle": "2024-07-04T09:05:46.380705Z",
     "shell.execute_reply": "2024-07-04T09:05:46.380077Z",
     "shell.execute_reply.started": "2024-07-04T09:05:34.647734Z"
    },
    "tags": []
   },
   "outputs": [
    {
     "name": "stdout",
     "output_type": "stream",
     "text": [
      "高产量的大豆在生长过程中的特性主要包括：\n",
      "\n",
      "1. **生长速率（R1-R5阶段）**：从生殖生长的初期（R1，即任意节位出现一朵花）到豆荚开始发育（R5，即当豆荚被挤压时可以感觉到豆子，在最高的四个节位之一有完全展开的叶子）这一阶段的作物生长速率是决定每单位面积种子数量的主要因素，因此也是与产量最相关的组成部分。\n",
      "\n",
      "2. **对胁迫的敏感性**：大豆在生殖生长阶段对干旱非常敏感。如果开花期间发生干旱，大豆会产生较少的花、豆荚和种子，主要影响豆荚的数量，而不是种子大小。\n",
      "\n",
      "3. **生物量分配**：R1-R5阶段的生物量分配对最终产量有重要影响。\n",
      "\n",
      "4. **有效填充期（EFP）**：种子生长速率（即种子干物质每日增加量）和最终种子大小（在R8，即完全成熟时测量）是决定产量的关键因素。较长的有效填充期通常与达到最大种子大小有关。\n",
      "\n",
      "5. **其他农艺性状**：如冠层或根系结构、耐淹、耐寒、耐旱性以及种子质量等性状也会影响最终产量，但这些性状的影响通常是通过影响上述产量相关组分而体现的。\n",
      "\n",
      "综上所述，高产量大豆的主要特性是在关键生长阶段（尤其是R1-R5）具有高的生长速率，以及对环境胁迫有较好的耐受性或适应性。\n"
     ]
    }
   ],
   "source": [
    "context_tmp = ''.join(qr.page_content for qr in retri_rerank_list)\n",
    "inputs = {\"context\": context_tmp, \"question\": question}\n",
    "ans = rag_chain.invoke(inputs)\n",
    "print(ans)"
   ]
  },
  {
   "cell_type": "code",
   "execution_count": 41,
   "id": "6f10f775-952d-4a1d-884a-af74cb02c4af",
   "metadata": {
    "ExecutionIndicator": {
     "show": true
    },
    "execution": {
     "iopub.execute_input": "2024-07-04T11:25:02.568210Z",
     "iopub.status.busy": "2024-07-04T11:25:02.567630Z",
     "iopub.status.idle": "2024-07-04T11:25:02.573407Z",
     "shell.execute_reply": "2024-07-04T11:25:02.572719Z",
     "shell.execute_reply.started": "2024-07-04T11:25:02.568186Z"
    },
    "tags": []
   },
   "outputs": [],
   "source": [
    "from langchain.prompts import (\n",
    "    ChatPromptTemplate,\n",
    "    MessagesPlaceholder,\n",
    "    SystemMessagePromptTemplate,\n",
    "    HumanMessagePromptTemplate,\n",
    ")\n",
    "from langchain.chains.combine_documents import create_stuff_documents_chain\n",
    "system_prompt = \"\"\"You are an expert in phenomics in agronomy, and you have a very rich knowledge of agronomy and phenomics.\n",
    "Use the context snippets retrieved below to answer the agronomy question from a phenotypic point of view.Please try to answer questions in terms of phenotype, such as growth rate, vegetation index, biomass, etc\n",
    "If if you don't know the answer, say you don't know.The following is the reference document:\\n\\n{context}\"\"\"\n",
    "chat_history = []\n",
    "qa_prompt = ChatPromptTemplate.from_messages(\n",
    "[\n",
    "(\"system\", system_prompt),\n",
    "        MessagesPlaceholder(\"chat_history\"),\n",
    "(\"human\", \"Question: {question} Answer:\"),\n",
    "]\n",
    ")\n",
    "question_answer_chain = create_stuff_documents_chain(llm, qa_prompt)"
   ]
  },
  {
   "cell_type": "code",
   "execution_count": 42,
   "id": "9bec6cb0-6f98-4e15-8d3f-31b695312cb6",
   "metadata": {
    "ExecutionIndicator": {
     "show": true
    },
    "execution": {
     "iopub.execute_input": "2024-07-04T11:25:19.589935Z",
     "iopub.status.busy": "2024-07-04T11:25:19.589399Z",
     "iopub.status.idle": "2024-07-04T11:25:34.036159Z",
     "shell.execute_reply": "2024-07-04T11:25:34.035565Z",
     "shell.execute_reply.started": "2024-07-04T11:25:19.589913Z"
    },
    "tags": []
   },
   "outputs": [
    {
     "name": "stdout",
     "output_type": "stream",
     "text": [
      "高产量大豆在生长过程中的特性可以从以下几个方面进行描述：\n",
      "\n",
      "1. **生长速率（Crop Growth Rate R1-R5）**：特别是从R1（首次开花）到R5（豆荚中的豆子开始发育）这一阶段，是决定单位面积种子数量的主要因素，因此这一阶段的生长速率是影响产量的最重要组成部分。较高的干物质积累率（以克干物质/单位土地面积/单位时间来衡量）是高产量大豆的重要特征。\n",
      "\n",
      "2. **生物量分配**：在R1-R5期间，植物生物量的分配对最终产量有显著影响。理想的分配模式应最大程度地支持种子的形成和发育。\n",
      "\n",
      "3. **对逆境的耐受性**：大豆对生殖生长阶段的干旱非常敏感。高产量的大豆品种往往表现出更好的干旱耐受性，减少因干旱导致的开花、结荚和种子数量的减少。\n",
      "\n",
      "4. **有效填充期（EFP）**：高产量大豆品种通常有较长的有效填充期，即种子线性干物质积累期较长，这通常与达到最大种子大小有关。\n",
      "\n",
      "5. **叶面积和叶面积持续时间**：较大的叶面积和较长的叶面积持续时间通常有助于提高光合同化效率，从而对生物量和产量产生积极影响。\n",
      "\n",
      "6. **冠层和根系结构**：理想的冠层结构和根系分布有助于最大化对光、水和营养资源的利用，进而影响产量相关的表型特征。\n",
      "\n",
      "7. **与产量直接相关的其他表型特征**：例如，对洪涝、寒冷的耐受性以及种子质量等，虽然这些特征对产量的影响可能通过影响R1-R5期间的生物量积累和分配来实现，但它们本身也是高产量大豆的重要表型特征。\n",
      "\n",
      "综上，高产量大豆在生长过程中的特性包括快速的生长速率、有效的生物量分配、对逆境的耐受性、较长的有效填充期、理想的冠层和根系结构以及良好的种子质量等。\n"
     ]
    }
   ],
   "source": [
    "from langchain_core.messages import AIMessage, HumanMessage\n",
    "ans = question_answer_chain.invoke({\"context\": retri_rerank_list, \"question\": question, \"chat_history\": chat_history})\n",
    "print(ans)\n",
    "chat_history.extend(\n",
    "[\n",
    "    HumanMessage(content=question),\n",
    "    AIMessage(content=ans),\n",
    "]\n",
    ")"
   ]
  },
  {
   "cell_type": "code",
   "execution_count": 44,
   "id": "68111d39-3247-4bc4-85e4-4e87f4810d01",
   "metadata": {
    "ExecutionIndicator": {
     "show": true
    },
    "execution": {
     "iopub.execute_input": "2024-07-04T11:32:19.471647Z",
     "iopub.status.busy": "2024-07-04T11:32:19.471307Z",
     "iopub.status.idle": "2024-07-04T11:32:25.661211Z",
     "shell.execute_reply": "2024-07-04T11:32:25.660365Z",
     "shell.execute_reply.started": "2024-07-04T11:32:19.471628Z"
    },
    "tags": []
   },
   "outputs": [],
   "source": [
    "ans = question_answer_chain.invoke({\"context\": retri_rerank_list, \"question\": '生长速率是什么', \"chat_history\": chat_history})"
   ]
  },
  {
   "cell_type": "code",
   "execution_count": 47,
   "id": "cba6ec53-7557-4804-878a-cea3ae3e3628",
   "metadata": {
    "ExecutionIndicator": {
     "show": true
    },
    "execution": {
     "iopub.execute_input": "2024-07-04T11:32:46.369131Z",
     "iopub.status.busy": "2024-07-04T11:32:46.368803Z",
     "iopub.status.idle": "2024-07-04T11:32:46.372810Z",
     "shell.execute_reply": "2024-07-04T11:32:46.372146Z",
     "shell.execute_reply.started": "2024-07-04T11:32:46.369113Z"
    },
    "tags": []
   },
   "outputs": [
    {
     "data": {
      "text/plain": [
       "'生长速率是指植物在单位时间内干物质的增加量，通常用来衡量植物生长的快慢。在农业生产和研究中，生长速率是一个重要的表型特征，它可以用克干物质积累每单位土地面积每单位时间（例如，每天）来表示。在特定的大豆生长阶段，例如从R1（首次开花）到R5（豆子开始发育）阶段，生长速率是决定种子数量和最终产量的关键因素。高的生长速率意味着植物在这个阶段能够快速积累干物质，有利于形成更多的种子和提高产量。'"
      ]
     },
     "execution_count": 47,
     "metadata": {},
     "output_type": "execute_result"
    }
   ],
   "source": [
    "ans"
   ]
  }
 ],
 "metadata": {
  "kernelspec": {
   "display_name": "Python 3 (ipykernel)",
   "language": "python",
   "name": "python3"
  },
  "language_info": {
   "codemirror_mode": {
    "name": "ipython",
    "version": 3
   },
   "file_extension": ".py",
   "mimetype": "text/x-python",
   "name": "python",
   "nbconvert_exporter": "python",
   "pygments_lexer": "ipython3",
   "version": "3.10.14"
  }
 },
 "nbformat": 4,
 "nbformat_minor": 5
}
