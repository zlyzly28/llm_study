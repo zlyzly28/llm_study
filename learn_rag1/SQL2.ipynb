{
 "cells": [
  {
   "cell_type": "code",
   "execution_count": 1,
   "id": "4fd44cf8-c002-4c9d-ab1c-66f48db14c7d",
   "metadata": {
    "execution": {
     "iopub.execute_input": "2024-07-11T06:36:40.075834Z",
     "iopub.status.busy": "2024-07-11T06:36:40.075481Z",
     "iopub.status.idle": "2024-07-11T06:36:40.336988Z",
     "shell.execute_reply": "2024-07-11T06:36:40.336525Z",
     "shell.execute_reply.started": "2024-07-11T06:36:40.075812Z"
    },
    "tags": []
   },
   "outputs": [
    {
     "name": "stdout",
     "output_type": "stream",
     "text": [
      "sqlite\n",
      "['Album', 'Artist', 'Customer', 'Employee', 'Genre', 'Invoice', 'InvoiceLine', 'MediaType', 'Playlist', 'PlaylistTrack', 'Track']\n"
     ]
    },
    {
     "data": {
      "text/plain": [
       "\"[(1, 'AC/DC'), (2, 'Accept'), (3, 'Aerosmith'), (4, 'Alanis Morissette'), (5, 'Alice In Chains'), (6, 'Antônio Carlos Jobim'), (7, 'Apocalyptica'), (8, 'Audioslave'), (9, 'BackBeat'), (10, 'Billy Cobham')]\""
      ]
     },
     "execution_count": 1,
     "metadata": {},
     "output_type": "execute_result"
    }
   ],
   "source": [
    "from langchain_community.utilities import SQLDatabase\n",
    "\n",
    "db = SQLDatabase.from_uri(\"sqlite:///Chinook.db\")\n",
    "print(db.dialect)\n",
    "print(db.get_usable_table_names())\n",
    "db.run(\"SELECT * FROM Artist LIMIT 10;\")"
   ]
  },
  {
   "cell_type": "code",
   "execution_count": 3,
   "id": "c74a4b8b-c465-4322-9593-5be9fa249a3b",
   "metadata": {
    "execution": {
     "iopub.execute_input": "2024-07-11T06:42:33.194600Z",
     "iopub.status.busy": "2024-07-11T06:42:33.194273Z",
     "iopub.status.idle": "2024-07-11T06:42:33.570643Z",
     "shell.execute_reply": "2024-07-11T06:42:33.570140Z",
     "shell.execute_reply.started": "2024-07-11T06:42:33.194581Z"
    },
    "tags": []
   },
   "outputs": [],
   "source": [
    "from langchain_core.prompts import ChatPromptTemplate\n",
    "from langchain_community.chat_models import ChatTongyi\n",
    "\n",
    "tongyi_chat = ChatTongyi(\n",
    "    model=\"qwen-max-0428\",\n",
    "    # top_p=\"...\",\n",
    "    api_key=\"sk-a3905c2ac95d450d954b4a397244a7d9\",\n",
    "    # other params...\n",
    ")"
   ]
  },
  {
   "cell_type": "code",
   "execution_count": 23,
   "id": "cecc1f34-ab55-4d36-a201-3dd904949f97",
   "metadata": {
    "ExecutionIndicator": {
     "show": true
    },
    "execution": {
     "iopub.execute_input": "2024-07-11T07:01:49.789205Z",
     "iopub.status.busy": "2024-07-11T07:01:49.788787Z",
     "iopub.status.idle": "2024-07-11T07:01:55.478356Z",
     "shell.execute_reply": "2024-07-11T07:01:55.477846Z",
     "shell.execute_reply.started": "2024-07-11T07:01:49.789177Z"
    },
    "tags": []
   },
   "outputs": [
    {
     "data": {
      "text/plain": [
       "'SELECT c.Country, SUM(i.Total) AS TotalSpent\\nFROM Customer c\\nJOIN Invoice i ON c.CustomerId = i.CustomerId\\nGROUP BY c.Country\\nORDER BY TotalSpent DESC\\nLIMIT 5;'"
      ]
     },
     "execution_count": 23,
     "metadata": {},
     "output_type": "execute_result"
    }
   ],
   "source": [
    "from langchain.chains import create_sql_query_chain\n",
    "chain = create_sql_query_chain(tongyi_chat, db)\n",
    "response = chain.invoke({\"question\": \"Which country's customers spent the most?\"})\n",
    "response"
   ]
  },
  {
   "cell_type": "code",
   "execution_count": 5,
   "id": "cede7b3c-df17-48cf-b6d5-bf98f6071f43",
   "metadata": {
    "execution": {
     "iopub.execute_input": "2024-07-11T06:43:15.022799Z",
     "iopub.status.busy": "2024-07-11T06:43:15.022258Z",
     "iopub.status.idle": "2024-07-11T06:43:15.027782Z",
     "shell.execute_reply": "2024-07-11T06:43:15.027200Z",
     "shell.execute_reply.started": "2024-07-11T06:43:15.022740Z"
    },
    "tags": []
   },
   "outputs": [
    {
     "data": {
      "text/plain": [
       "'[(8,)]'"
      ]
     },
     "execution_count": 5,
     "metadata": {},
     "output_type": "execute_result"
    }
   ],
   "source": [
    "db.run(response)"
   ]
  },
  {
   "cell_type": "code",
   "execution_count": null,
   "id": "f04e9cec-11d1-41a7-b317-d0efd9b05e1e",
   "metadata": {
    "tags": []
   },
   "outputs": [],
   "source": [
    "chain.get_prompts()[0].pretty_print()"
   ]
  },
  {
   "cell_type": "code",
   "execution_count": 22,
   "id": "6c39fb5a-5ee4-45cf-9ef2-3b86d841587c",
   "metadata": {
    "ExecutionIndicator": {
     "show": true
    },
    "execution": {
     "iopub.execute_input": "2024-07-11T07:01:27.738307Z",
     "iopub.status.busy": "2024-07-11T07:01:27.737954Z",
     "iopub.status.idle": "2024-07-11T07:01:32.762428Z",
     "shell.execute_reply": "2024-07-11T07:01:32.761809Z",
     "shell.execute_reply.started": "2024-07-11T07:01:27.738287Z"
    },
    "tags": []
   },
   "outputs": [
    {
     "data": {
      "text/plain": [
       "\"[('USA', 523.0600000000003), ('Canada', 303.9599999999999), ('France', 195.09999999999994), ('Brazil', 190.09999999999997), ('Germany', 156.48)]\""
      ]
     },
     "execution_count": 22,
     "metadata": {},
     "output_type": "execute_result"
    }
   ],
   "source": [
    "from langchain_community.tools.sql_database.tool import QuerySQLDataBaseTool\n",
    "execute_query = QuerySQLDataBaseTool(db=db)\n",
    "write_query = create_sql_query_chain(tongyi_chat, db)\n",
    "chain = write_query | execute_query\n",
    "chain.invoke({\"question\": \"Which country's customers spent the most?\"})"
   ]
  },
  {
   "cell_type": "code",
   "execution_count": 12,
   "id": "6aaf36d2-8557-4056-8107-26e789c08988",
   "metadata": {
    "ExecutionIndicator": {
     "show": true
    },
    "execution": {
     "iopub.execute_input": "2024-07-11T06:51:13.576492Z",
     "iopub.status.busy": "2024-07-11T06:51:13.576169Z",
     "iopub.status.idle": "2024-07-11T06:51:13.581025Z",
     "shell.execute_reply": "2024-07-11T06:51:13.580576Z",
     "shell.execute_reply.started": "2024-07-11T06:51:13.576473Z"
    },
    "tags": []
   },
   "outputs": [
    {
     "data": {
      "text/plain": [
       "RunnableAssign(mapper={\n",
       "  input: RunnableLambda(...),\n",
       "  table_info: RunnableLambda(...)\n",
       "})\n",
       "| RunnableLambda(lambda x: {k: v for (k, v) in x.items() if k not in ('question', 'table_names_to_use')})\n",
       "| PromptTemplate(input_variables=['input', 'table_info'], partial_variables={'top_k': '5'}, template='You are a SQLite expert. Given an input question, first create a syntactically correct SQLite query to run, then look at the results of the query and return the answer to the input question.\\nUnless the user specifies in the question a specific number of examples to obtain, query for at most {top_k} results using the LIMIT clause as per SQLite. You can order the results to return the most informative data in the database.\\nNever query for all columns from a table. You must query only the columns that are needed to answer the question. Wrap each column name in double quotes (\") to denote them as delimited identifiers.\\nPay attention to use only the column names you can see in the tables below. Be careful to not query for columns that do not exist. Also, pay attention to which column is in which table.\\nPay attention to use date(\\'now\\') function to get the current date, if the question involves \"today\".\\n\\nUse the following format:\\n\\nQuestion: Question here\\nSQLQuery: SQL Query to run\\nSQLResult: Result of the SQLQuery\\nAnswer: Final answer here\\n\\nOnly use the following tables:\\n{table_info}\\n\\nQuestion: {input}')\n",
       "| RunnableBinding(bound=ChatTongyi(client=<class 'dashscope.aigc.generation.Generation'>, model_name='qwen-max-0428', dashscope_api_key=SecretStr('**********')), kwargs={'stop': ['\\nSQLResult:']})\n",
       "| StrOutputParser()\n",
       "| RunnableLambda(_strip)"
      ]
     },
     "execution_count": 12,
     "metadata": {},
     "output_type": "execute_result"
    }
   ],
   "source": [
    "write_query"
   ]
  },
  {
   "cell_type": "code",
   "execution_count": 21,
   "id": "16423e43-318e-480a-910e-5b16ece9bee9",
   "metadata": {
    "ExecutionIndicator": {
     "show": true
    },
    "execution": {
     "iopub.execute_input": "2024-07-11T07:00:36.633315Z",
     "iopub.status.busy": "2024-07-11T07:00:36.632989Z",
     "iopub.status.idle": "2024-07-11T07:00:43.614436Z",
     "shell.execute_reply": "2024-07-11T07:00:43.613973Z",
     "shell.execute_reply.started": "2024-07-11T07:00:36.633296Z"
    },
    "tags": []
   },
   "outputs": [
    {
     "data": {
      "text/plain": [
       "'Customers from the USA spent the most.'"
      ]
     },
     "execution_count": 21,
     "metadata": {},
     "output_type": "execute_result"
    }
   ],
   "source": [
    "from operator import itemgetter\n",
    "from langchain_core.output_parsers import StrOutputParser\n",
    "from langchain_core.prompts import PromptTemplate\n",
    "from langchain_core.runnables import RunnablePassthrough\n",
    "answer_prompt = PromptTemplate.from_template(\n",
    "\"\"\"Given the following user question, corresponding SQL query, and SQL result, answer the user question.\n",
    "Question: {question}\n",
    "SQL Query: {query}\n",
    "SQL Result: {result}\n",
    "Answer: \"\"\"\n",
    ")\n",
    "chain = (\n",
    "    RunnablePassthrough.assign(query=write_query).assign(\n",
    "        result=itemgetter(\"query\") | execute_query\n",
    ")\n",
    "| answer_prompt\n",
    "| tongyi_chat\n",
    "| StrOutputParser()\n",
    ")\n",
    "chain.invoke({\"question\": \"Which country's customers spent the most?\"})"
   ]
  },
  {
   "cell_type": "code",
   "execution_count": 13,
   "id": "b01f3ac0-b1ef-4cca-a1b4-e41c7360d6da",
   "metadata": {
    "execution": {
     "iopub.execute_input": "2024-07-11T06:55:52.657109Z",
     "iopub.status.busy": "2024-07-11T06:55:52.656653Z",
     "iopub.status.idle": "2024-07-11T06:55:52.686751Z",
     "shell.execute_reply": "2024-07-11T06:55:52.686134Z",
     "shell.execute_reply.started": "2024-07-11T06:55:52.657074Z"
    },
    "tags": []
   },
   "outputs": [],
   "source": [
    "from langchain_community.agent_toolkits import SQLDatabaseToolkit\n",
    "toolkit = SQLDatabaseToolkit(db=db, llm=tongyi_chat)\n",
    "tools = toolkit.get_tools()"
   ]
  },
  {
   "cell_type": "code",
   "execution_count": 14,
   "id": "b903ff90-7bb2-4f65-a3f5-ced97463b320",
   "metadata": {
    "execution": {
     "iopub.execute_input": "2024-07-11T06:55:58.655963Z",
     "iopub.status.busy": "2024-07-11T06:55:58.655550Z",
     "iopub.status.idle": "2024-07-11T06:55:58.660533Z",
     "shell.execute_reply": "2024-07-11T06:55:58.660054Z",
     "shell.execute_reply.started": "2024-07-11T06:55:58.655935Z"
    },
    "tags": []
   },
   "outputs": [
    {
     "data": {
      "text/plain": [
       "[QuerySQLDataBaseTool(description=\"Input to this tool is a detailed and correct SQL query, output is a result from the database. If the query is not correct, an error message will be returned. If an error is returned, rewrite the query, check the query, and try again. If you encounter an issue with Unknown column 'xxxx' in 'field list', use sql_db_schema to query the correct table fields.\", db=<langchain_community.utilities.sql_database.SQLDatabase object at 0x7fc077d752d0>),\n",
       " InfoSQLDatabaseTool(description='Input to this tool is a comma-separated list of tables, output is the schema and sample rows for those tables. Be sure that the tables actually exist by calling sql_db_list_tables first! Example Input: table1, table2, table3', db=<langchain_community.utilities.sql_database.SQLDatabase object at 0x7fc077d752d0>),\n",
       " ListSQLDatabaseTool(db=<langchain_community.utilities.sql_database.SQLDatabase object at 0x7fc077d752d0>),\n",
       " QuerySQLCheckerTool(description='Use this tool to double check if your query is correct before executing it. Always use this tool before executing a query with sql_db_query!', db=<langchain_community.utilities.sql_database.SQLDatabase object at 0x7fc077d752d0>, llm=ChatTongyi(client=<class 'dashscope.aigc.generation.Generation'>, model_name='qwen-max-0428', dashscope_api_key=SecretStr('**********')), llm_chain=LLMChain(prompt=PromptTemplate(input_variables=['dialect', 'query'], template='\\n{query}\\nDouble check the {dialect} query above for common mistakes, including:\\n- Using NOT IN with NULL values\\n- Using UNION when UNION ALL should have been used\\n- Using BETWEEN for exclusive ranges\\n- Data type mismatch in predicates\\n- Properly quoting identifiers\\n- Using the correct number of arguments for functions\\n- Casting to the correct data type\\n- Using the proper columns for joins\\n\\nIf there are any of the above mistakes, rewrite the query. If there are no mistakes, just reproduce the original query.\\n\\nOutput the final SQL query only.\\n\\nSQL Query: '), llm=ChatTongyi(client=<class 'dashscope.aigc.generation.Generation'>, model_name='qwen-max-0428', dashscope_api_key=SecretStr('**********'))))]"
      ]
     },
     "execution_count": 14,
     "metadata": {},
     "output_type": "execute_result"
    }
   ],
   "source": [
    "tools"
   ]
  },
  {
   "cell_type": "code",
   "execution_count": 16,
   "id": "07215e78-d1c4-493d-b503-af2835cd5f72",
   "metadata": {
    "execution": {
     "iopub.execute_input": "2024-07-11T06:56:26.670408Z",
     "iopub.status.busy": "2024-07-11T06:56:26.670073Z",
     "iopub.status.idle": "2024-07-11T06:56:26.673709Z",
     "shell.execute_reply": "2024-07-11T06:56:26.673280Z",
     "shell.execute_reply.started": "2024-07-11T06:56:26.670390Z"
    },
    "tags": []
   },
   "outputs": [],
   "source": [
    "from langchain_core.messages import SystemMessage\n",
    "SQL_PREFIX = \"\"\"You are an agent designed to interact with a SQL database.\n",
    "Given an input question, create a syntactically correct SQLite query to run, then look at the results of the query and return the answer.\n",
    "Unless the user specifies a specific number of examples they wish to obtain, always limit your query to at most 5 results.\n",
    "You can order the results by a relevant column to return the most interesting examples in the database.\n",
    "Never query for all the columns from a specific table, only ask for the relevant columns given the question.\n",
    "You have access to tools for interacting with the database.\n",
    "Only use the below tools. Only use the information returned by the below tools to construct your final answer.\n",
    "You MUST double check your query before executing it. If you get an error while executing a query, rewrite the query and try again.\n",
    "DO NOT make any DML statements (INSERT, UPDATE, DELETE, DROP etc.) to the database.\n",
    "To start you should ALWAYS look at the tables in the database to see what you can query.\n",
    "Do NOT skip this step.\n",
    "Then you should query the schema of the most relevant tables.\"\"\"\n",
    "system_message = SystemMessage(content=SQL_PREFIX)"
   ]
  },
  {
   "cell_type": "code",
   "execution_count": 17,
   "id": "cc6f7bb0-e336-432e-8950-325ebcb99cb2",
   "metadata": {
    "execution": {
     "iopub.execute_input": "2024-07-11T06:56:45.659712Z",
     "iopub.status.busy": "2024-07-11T06:56:45.659397Z",
     "iopub.status.idle": "2024-07-11T06:56:45.664440Z",
     "shell.execute_reply": "2024-07-11T06:56:45.664007Z",
     "shell.execute_reply.started": "2024-07-11T06:56:45.659693Z"
    },
    "tags": []
   },
   "outputs": [],
   "source": [
    "from langchain_core.messages import HumanMessage\n",
    "from langgraph.prebuilt import create_react_agent\n",
    "agent_executor = create_react_agent(tongyi_chat, tools, messages_modifier=system_message)"
   ]
  },
  {
   "cell_type": "code",
   "execution_count": null,
   "id": "b1bd8d35-8d98-415a-b07d-b66f9d7c1af2",
   "metadata": {
    "tags": []
   },
   "outputs": [],
   "source": [
    "for s in agent_executor.stream(\n",
    "{\"messages\": [HumanMessage(content=\"Which country's customers spent the most?\")]}\n",
    "):\n",
    "    print(s)\n",
    "    print(\"----\")"
   ]
  },
  {
   "cell_type": "code",
   "execution_count": 29,
   "id": "dadb6476-a539-4f16-8c79-fb653a34374d",
   "metadata": {
    "ExecutionIndicator": {
     "show": true
    },
    "execution": {
     "iopub.execute_input": "2024-07-11T08:23:41.580861Z",
     "iopub.status.busy": "2024-07-11T08:23:41.580328Z",
     "iopub.status.idle": "2024-07-11T08:23:41.586199Z",
     "shell.execute_reply": "2024-07-11T08:23:41.585445Z",
     "shell.execute_reply.started": "2024-07-11T08:23:41.580824Z"
    },
    "tags": []
   },
   "outputs": [
    {
     "data": {
      "text/plain": [
       "{'agent': {'messages': [AIMessage(content='Customers from the United States spent the most, with a total of $523.06.', response_metadata={'model_name': 'qwen-max-0428', 'finish_reason': 'stop', 'request_id': '54fbb490-87b5-9a2f-a895-83dbaa3ae0c0', 'token_usage': {'input_tokens': 2099, 'output_tokens': 22, 'total_tokens': 2121}}, id='run-94972d9e-b0db-42fe-ba1a-5c8d05a41c53-0')]}}"
      ]
     },
     "execution_count": 29,
     "metadata": {},
     "output_type": "execute_result"
    }
   ],
   "source": [
    "s"
   ]
  }
 ],
 "metadata": {
  "kernelspec": {
   "display_name": "Python 3 (ipykernel)",
   "language": "python",
   "name": "python3"
  },
  "language_info": {
   "codemirror_mode": {
    "name": "ipython",
    "version": 3
   },
   "file_extension": ".py",
   "mimetype": "text/x-python",
   "name": "python",
   "nbconvert_exporter": "python",
   "pygments_lexer": "ipython3",
   "version": "3.10.14"
  }
 },
 "nbformat": 4,
 "nbformat_minor": 5
}
