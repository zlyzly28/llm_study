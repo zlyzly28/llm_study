{
 "cells": [
  {
   "cell_type": "code",
   "execution_count": 1,
   "id": "8afc87db-f47b-4f5a-86e8-a03f21c10314",
   "metadata": {
    "ExecutionIndicator": {
     "show": true
    },
    "execution": {
     "iopub.execute_input": "2024-07-11T01:03:08.558025Z",
     "iopub.status.busy": "2024-07-11T01:03:08.557708Z",
     "iopub.status.idle": "2024-07-11T01:03:09.907039Z",
     "shell.execute_reply": "2024-07-11T01:03:09.906549Z",
     "shell.execute_reply.started": "2024-07-11T01:03:08.558005Z"
    },
    "tags": []
   },
   "outputs": [],
   "source": [
    "from datasets import Dataset \n",
    "from ragas.metrics import faithfulness\n",
    "from ragas import evaluate\n",
    "import os\n",
    "from datasets import Dataset\n",
    "from langchain_community.embeddings import HuggingFaceBgeEmbeddings\n",
    "from langchain_community.chat_models import ChatZhipuAI\n",
    "from ragas.llms import LangchainLLMWrapper\n",
    "from ragas.embeddings import LangchainEmbeddingsWrapper\n",
    "import os\n",
    "os.environ[\"ZHIPUAI_API_KEY\"] = \"661a7aa0aeb8ca129eb4647461123230.bl9w581QKpnMfBvs\"\n",
    "chat = ChatZhipuAI(\n",
    "    model=\"glm-4-0520\",\n",
    "    temperature=0.5,\n",
    ")\n"
   ]
  },
  {
   "cell_type": "code",
   "execution_count": 17,
   "id": "97f3e7c9-9af8-45c8-bda9-4430cae7cc5a",
   "metadata": {
    "ExecutionIndicator": {
     "show": false
    },
    "execution": {
     "iopub.execute_input": "2024-07-08T10:23:14.611296Z",
     "iopub.status.busy": "2024-07-08T10:23:14.610736Z",
     "iopub.status.idle": "2024-07-08T10:23:14.617950Z",
     "shell.execute_reply": "2024-07-08T10:23:14.616094Z",
     "shell.execute_reply.started": "2024-07-08T10:23:14.611253Z"
    },
    "tags": []
   },
   "outputs": [],
   "source": [
    "from langchain_community.chat_models import ChatTongyi\n",
    "\n",
    "tongyi_chat = ChatTongyi(\n",
    "    model=\"qwen-max-0428\",\n",
    "    # top_p=\"...\",\n",
    "    api_key=\"\",\n",
    "    # other params...\n",
    ")"
   ]
  },
  {
   "cell_type": "code",
   "execution_count": 18,
   "id": "4b4ff7b2-1c06-4a40-be51-69efdd32e20a",
   "metadata": {
    "ExecutionIndicator": {
     "show": true
    },
    "execution": {
     "iopub.execute_input": "2024-07-08T10:23:15.895449Z",
     "iopub.status.busy": "2024-07-08T10:23:15.895132Z",
     "iopub.status.idle": "2024-07-08T10:23:16.871970Z",
     "shell.execute_reply": "2024-07-08T10:23:16.871518Z",
     "shell.execute_reply.started": "2024-07-08T10:23:15.895431Z"
    },
    "tags": []
   },
   "outputs": [
    {
     "data": {
      "text/plain": [
       "AIMessage(content='I enjoy programming.', response_metadata={'model_name': 'qwen-max-0428', 'finish_reason': 'stop', 'request_id': 'd60f23ba-5360-9039-a312-6e41c7399e12', 'token_usage': {'input_tokens': 30, 'output_tokens': 4, 'total_tokens': 34}}, id='run-8db69089-4e92-45af-90b9-d48480f297f8-0')"
      ]
     },
     "execution_count": 18,
     "metadata": {},
     "output_type": "execute_result"
    }
   ],
   "source": [
    "messages = [\n",
    "    (\"system\", \"你是一名专业的翻译家，可以将用户的中文翻译为英文。\"),\n",
    "    (\"human\", \"我喜欢编程。\"),\n",
    "]\n",
    "tongyi_chat.invoke(messages)"
   ]
  },
  {
   "cell_type": "code",
   "execution_count": 12,
   "id": "83c2f5d9-6149-4d9b-8b4a-9760e184d97a",
   "metadata": {
    "ExecutionIndicator": {
     "show": true
    },
    "execution": {
     "iopub.execute_input": "2024-07-08T10:12:48.751841Z",
     "iopub.status.busy": "2024-07-08T10:12:48.751347Z",
     "iopub.status.idle": "2024-07-08T10:12:48.760727Z",
     "shell.execute_reply": "2024-07-08T10:12:48.760221Z",
     "shell.execute_reply.started": "2024-07-08T10:12:48.751816Z"
    },
    "tags": []
   },
   "outputs": [],
   "source": [
    "from langchain_core.pydantic_v1 import BaseModel, Field\n",
    "from langchain_core.tools import tool\n",
    "\n",
    "# ✅ Pydantic class\n",
    "class multiply(BaseModel):\n",
    "    \"\"\"Return product of 'x' and 'y'.\"\"\"\n",
    "    x: float = Field(..., description=\"First factor\")\n",
    "    y: float = Field(..., description=\"Second factor\")\n",
    "    \n",
    "# ✅ LangChain tool\n",
    "@tool\n",
    "def exponentiate(x: float, y: float) -> float:\n",
    "    \"\"\"Raise 'x' to the 'y'.\"\"\"\n",
    "    return x**y\n",
    "    \n",
    "# ✅ Function\n",
    "\n",
    "def subtract(x: float, y: float) -> float:\n",
    "    \"\"\"Subtract 'x' from 'y'.\"\"\"\n",
    "    return y-x\n",
    "    \n",
    "# ✅ OpenAI-format dict\n",
    "# Could also pass in a JSON schema with \"title\" and \"description\" \n",
    "add = {\n",
    "  \"name\": \"add\",\n",
    "  \"description\": \"Add 'x' and 'y'.\",\n",
    "  \"parameters\": {\n",
    "    \"type\": \"object\",\n",
    "    \"properties\": {\n",
    "      \"x\": {\"type\": \"number\", \"description\": \"First number to add\"},\n",
    "      \"y\": {\"type\": \"number\", \"description\": \"Second number to add\"}\n",
    "    },\n",
    "    \"required\": [\"x\", \"y\"]\n",
    "  }\n",
    "}"
   ]
  },
  {
   "cell_type": "code",
   "execution_count": 23,
   "id": "e04b068c-53cf-4215-9afd-c00d01025409",
   "metadata": {
    "ExecutionIndicator": {
     "show": true
    },
    "execution": {
     "iopub.execute_input": "2024-07-08T10:33:05.331022Z",
     "iopub.status.busy": "2024-07-08T10:33:05.330553Z",
     "iopub.status.idle": "2024-07-08T10:33:05.335114Z",
     "shell.execute_reply": "2024-07-08T10:33:05.334493Z",
     "shell.execute_reply.started": "2024-07-08T10:33:05.330993Z"
    },
    "tags": []
   },
   "outputs": [],
   "source": [
    "llm_with_tools = tongyi_chat.bind_tools([exponentiate, add, subtract])"
   ]
  },
  {
   "cell_type": "code",
   "execution_count": null,
   "id": "7564494b-0806-4423-b5de-119cf1bfc045",
   "metadata": {
    "tags": []
   },
   "outputs": [],
   "source": [
    "llm_with_tools.kwargs"
   ]
  },
  {
   "cell_type": "code",
   "execution_count": 27,
   "id": "e1399888-f874-4bdb-ac6a-a8186ab0e80f",
   "metadata": {
    "ExecutionIndicator": {
     "show": false
    },
    "execution": {
     "iopub.execute_input": "2024-07-08T10:43:09.083400Z",
     "iopub.status.busy": "2024-07-08T10:43:09.083063Z",
     "iopub.status.idle": "2024-07-08T10:43:11.928751Z",
     "shell.execute_reply": "2024-07-08T10:43:11.928246Z",
     "shell.execute_reply.started": "2024-07-08T10:43:09.083380Z"
    },
    "tags": []
   },
   "outputs": [],
   "source": [
    "query = 'what is 3 ** 12?'\n",
    "tr = llm_with_tools.invoke(query).tool_calls"
   ]
  },
  {
   "cell_type": "code",
   "execution_count": 28,
   "id": "7d4a0645-7102-4d8c-97e4-aebbc10ddf20",
   "metadata": {
    "execution": {
     "iopub.execute_input": "2024-07-08T10:43:13.492462Z",
     "iopub.status.busy": "2024-07-08T10:43:13.492126Z",
     "iopub.status.idle": "2024-07-08T10:43:13.495343Z",
     "shell.execute_reply": "2024-07-08T10:43:13.494904Z",
     "shell.execute_reply.started": "2024-07-08T10:43:13.492444Z"
    },
    "tags": []
   },
   "outputs": [
    {
     "name": "stdout",
     "output_type": "stream",
     "text": [
      "{'name': 'exponentiate', 'args': {'x': 3, 'y': 12}, 'id': ''}\n"
     ]
    }
   ],
   "source": [
    "for tc in tr:\n",
    "    print(tc)"
   ]
  },
  {
   "cell_type": "code",
   "execution_count": 30,
   "id": "b76cdd06-cabb-4410-823d-ba271dfa8a2e",
   "metadata": {
    "ExecutionIndicator": {
     "show": true
    },
    "execution": {
     "iopub.execute_input": "2024-07-08T10:49:28.445051Z",
     "iopub.status.busy": "2024-07-08T10:49:28.444723Z",
     "iopub.status.idle": "2024-07-08T10:49:28.447968Z",
     "shell.execute_reply": "2024-07-08T10:49:28.447452Z",
     "shell.execute_reply.started": "2024-07-08T10:49:28.445033Z"
    },
    "tags": []
   },
   "outputs": [],
   "source": [
    "selected_tool = {\"add\":add, \"multiply\":multiply, \"exponentiate\": exponentiate}[tc['name'].lower()]"
   ]
  },
  {
   "cell_type": "code",
   "execution_count": 33,
   "id": "0c8839f6-5015-456d-8bdb-7d33d80c41d4",
   "metadata": {
    "ExecutionIndicator": {
     "show": true
    },
    "execution": {
     "iopub.execute_input": "2024-07-08T11:36:29.135031Z",
     "iopub.status.busy": "2024-07-08T11:36:29.134584Z",
     "iopub.status.idle": "2024-07-08T11:36:29.140280Z",
     "shell.execute_reply": "2024-07-08T11:36:29.139547Z",
     "shell.execute_reply.started": "2024-07-08T11:36:29.135003Z"
    },
    "tags": []
   },
   "outputs": [
    {
     "data": {
      "text/plain": [
       "531441.0"
      ]
     },
     "execution_count": 33,
     "metadata": {},
     "output_type": "execute_result"
    }
   ],
   "source": [
    "selected_tool.invoke(tc[\"args\"])"
   ]
  },
  {
   "cell_type": "code",
   "execution_count": 6,
   "id": "47ff7938-4201-4119-88e6-2c3ff6b87911",
   "metadata": {
    "execution": {
     "iopub.execute_input": "2024-07-11T01:19:28.517012Z",
     "iopub.status.busy": "2024-07-11T01:19:28.516704Z",
     "iopub.status.idle": "2024-07-11T01:19:28.603401Z",
     "shell.execute_reply": "2024-07-11T01:19:28.602914Z",
     "shell.execute_reply.started": "2024-07-11T01:19:28.516994Z"
    },
    "tags": []
   },
   "outputs": [],
   "source": [
    "from langchain.schema.runnable import RunnablePassthrough\n",
    "from langchain.schema.output_parser import StrOutputParser\n",
    "from langchain.chat_models import ChatOpenAI\n",
    "llm = ChatOpenAI(\n",
    "    temperature=0.6,\n",
    "    model=\"glm-4-0520\",\n",
    "    openai_api_key=\"661a7aa0aeb8ca129eb4647461123230.bl9w581QKpnMfBvs\",\n",
    "    openai_api_base=\"https://open.bigmodel.cn/api/paas/v4/\"\n",
    ")"
   ]
  },
  {
   "cell_type": "code",
   "execution_count": 9,
   "id": "da98b724-8700-433b-9e5e-414c0d7794e3",
   "metadata": {
    "ExecutionIndicator": {
     "show": true
    },
    "execution": {
     "iopub.execute_input": "2024-07-11T01:22:16.887796Z",
     "iopub.status.busy": "2024-07-11T01:22:16.887473Z",
     "iopub.status.idle": "2024-07-11T01:22:16.895039Z",
     "shell.execute_reply": "2024-07-11T01:22:16.894595Z",
     "shell.execute_reply.started": "2024-07-11T01:22:16.887777Z"
    },
    "tags": []
   },
   "outputs": [
    {
     "name": "stdout",
     "output_type": "stream",
     "text": [
      "--\n",
      "multiply\n",
      "Multiply two numbers together.\n",
      "{'x': {'title': 'X', 'type': 'number'}, 'y': {'title': 'Y', 'type': 'number'}}\n",
      "--\n",
      "add\n",
      "Add two numbers.\n",
      "{'x': {'title': 'X', 'type': 'integer'}, 'y': {'title': 'Y', 'type': 'integer'}}\n"
     ]
    }
   ],
   "source": [
    "from langchain_core.tools import tool\n",
    "\n",
    "\n",
    "@tool\n",
    "def multiply(x: float, y: float) -> float:\n",
    "    \"\"\"Multiply two numbers together.\"\"\"\n",
    "    return x * y\n",
    "\n",
    "\n",
    "@tool\n",
    "def add(x: int, y: int) -> int:\n",
    "    \"Add two numbers.\"\n",
    "    return x + y\n",
    "\n",
    "\n",
    "tools = [multiply, add]\n",
    "\n",
    "# Let's inspect the tools\n",
    "for t in tools:\n",
    "    print(\"--\")\n",
    "    print(t.name)\n",
    "    print(t.description)\n",
    "    print(t.args)"
   ]
  },
  {
   "cell_type": "code",
   "execution_count": 10,
   "id": "5b0b508b-f0cc-469a-a2d9-ca0b96263619",
   "metadata": {
    "ExecutionIndicator": {
     "show": true
    },
    "execution": {
     "iopub.execute_input": "2024-07-11T01:22:27.784763Z",
     "iopub.status.busy": "2024-07-11T01:22:27.784452Z",
     "iopub.status.idle": "2024-07-11T01:22:27.790229Z",
     "shell.execute_reply": "2024-07-11T01:22:27.789803Z",
     "shell.execute_reply.started": "2024-07-11T01:22:27.784745Z"
    },
    "tags": []
   },
   "outputs": [
    {
     "data": {
      "text/plain": [
       "20.0"
      ]
     },
     "execution_count": 10,
     "metadata": {},
     "output_type": "execute_result"
    }
   ],
   "source": [
    "multiply.invoke({\"x\": 4, \"y\": 5})"
   ]
  },
  {
   "cell_type": "code",
   "execution_count": 14,
   "id": "531f6485-56f3-45e5-9e0c-b2a68ea50121",
   "metadata": {
    "ExecutionIndicator": {
     "show": true
    },
    "execution": {
     "iopub.execute_input": "2024-07-11T01:24:46.832050Z",
     "iopub.status.busy": "2024-07-11T01:24:46.831739Z",
     "iopub.status.idle": "2024-07-11T01:24:46.835588Z",
     "shell.execute_reply": "2024-07-11T01:24:46.835195Z",
     "shell.execute_reply.started": "2024-07-11T01:24:46.832031Z"
    },
    "tags": []
   },
   "outputs": [
    {
     "data": {
      "text/plain": [
       "'multiply(x: float, y: float) -> float - Multiply two numbers together.\\nadd(x: int, y: int) -> int - Add two numbers.'"
      ]
     },
     "execution_count": 14,
     "metadata": {},
     "output_type": "execute_result"
    }
   ],
   "source": [
    "from langchain_core.output_parsers import JsonOutputParser\n",
    "from langchain_core.prompts import ChatPromptTemplate\n",
    "from langchain_core.tools import render_text_description\n",
    "\n",
    "rendered_tools = render_text_description(tools)\n",
    "rendered_tools"
   ]
  },
  {
   "cell_type": "code",
   "execution_count": 12,
   "id": "90d18f4e-ad9e-41e9-8dd1-c0014d38a81f",
   "metadata": {
    "execution": {
     "iopub.execute_input": "2024-07-11T01:23:23.313085Z",
     "iopub.status.busy": "2024-07-11T01:23:23.312749Z",
     "iopub.status.idle": "2024-07-11T01:23:23.316492Z",
     "shell.execute_reply": "2024-07-11T01:23:23.315915Z",
     "shell.execute_reply.started": "2024-07-11T01:23:23.313067Z"
    },
    "tags": []
   },
   "outputs": [],
   "source": [
    "system_prompt =  f\"\"\"\\\n",
    "You are an assistant that has access to the following set of tools. Here are the names and descriptions for each tool:\n",
    "\n",
    "{rendered_tools}\n",
    "\n",
    "Given the user input, return the name and input of the tool to use. Return your response as a JSON blob with 'name' and 'arguments' keys.\n",
    "\n",
    "The `arguments` should be a dictionary, with keys corresponding to the argument names and the values corresponding to the requested values.\n",
    "\"\"\"\n",
    "\n",
    "prompt = ChatPromptTemplate.from_messages(\n",
    " [(\"system\", system_prompt),  (\"user\",  \"{input}\")])"
   ]
  },
  {
   "cell_type": "code",
   "execution_count": 13,
   "id": "811fdb46-fe34-48c6-b144-83f6271437d0",
   "metadata": {
    "execution": {
     "iopub.execute_input": "2024-07-11T01:24:16.905674Z",
     "iopub.status.busy": "2024-07-11T01:24:16.905347Z",
     "iopub.status.idle": "2024-07-11T01:24:16.908784Z",
     "shell.execute_reply": "2024-07-11T01:24:16.908376Z",
     "shell.execute_reply.started": "2024-07-11T01:24:16.905654Z"
    },
    "tags": []
   },
   "outputs": [
    {
     "data": {
      "text/plain": [
       "\"You are an assistant that has access to the following set of tools. Here are the names and descriptions for each tool:\\n\\nmultiply(x: float, y: float) -> float - Multiply two numbers together.\\nadd(x: int, y: int) -> int - Add two numbers.\\n\\nGiven the user input, return the name and input of the tool to use. Return your response as a JSON blob with 'name' and 'arguments' keys.\\n\\nThe `arguments` should be a dictionary, with keys corresponding to the argument names and the values corresponding to the requested values.\\n\""
      ]
     },
     "execution_count": 13,
     "metadata": {},
     "output_type": "execute_result"
    }
   ],
   "source": [
    "system_prompt"
   ]
  },
  {
   "cell_type": "code",
   "execution_count": 15,
   "id": "a10b5a3b-2ed3-450c-90fc-928d097bd1d8",
   "metadata": {
    "execution": {
     "iopub.execute_input": "2024-07-11T01:25:19.194087Z",
     "iopub.status.busy": "2024-07-11T01:25:19.193756Z",
     "iopub.status.idle": "2024-07-11T01:25:21.859625Z",
     "shell.execute_reply": "2024-07-11T01:25:21.859015Z",
     "shell.execute_reply.started": "2024-07-11T01:25:19.194068Z"
    },
    "tags": []
   },
   "outputs": [
    {
     "name": "stdout",
     "output_type": "stream",
     "text": [
      "To calculate the square of 4, you would multiply 4 by 4. The tool to use for this operation is `multiply`. Here is the response in the requested format:\n",
      "\n",
      "```json\n",
      "{\n",
      "  \"name\": \"multiply\",\n",
      "  \"arguments\": {\n",
      "    \"x\": 4.0,\n",
      "    \"y\": 4.0\n",
      "  }\n",
      "}\n",
      "```\n"
     ]
    }
   ],
   "source": [
    "chain = prompt | llm\n",
    "message = chain.invoke({\"input\": \"4的平方是多少？\"})\n",
    "\n",
    "# Let's take a look at the output from the model\n",
    "# if the model is an LLM (not a chat model), the output will be a string.\n",
    "if isinstance(message, str):\n",
    "    print(message)\n",
    "else:  # Otherwise it's a chat model\n",
    "    print(message.content)"
   ]
  },
  {
   "cell_type": "code",
   "execution_count": 16,
   "id": "b43d57f2-dbbd-4464-a980-9b40eb041d47",
   "metadata": {
    "execution": {
     "iopub.execute_input": "2024-07-11T01:25:45.270646Z",
     "iopub.status.busy": "2024-07-11T01:25:45.270232Z",
     "iopub.status.idle": "2024-07-11T01:25:47.955931Z",
     "shell.execute_reply": "2024-07-11T01:25:47.955318Z",
     "shell.execute_reply.started": "2024-07-11T01:25:45.270624Z"
    },
    "tags": []
   },
   "outputs": [
    {
     "data": {
      "text/plain": [
       "{'name': 'multiply', 'arguments': {'x': 4.0, 'y': 4.0}}"
      ]
     },
     "execution_count": 16,
     "metadata": {},
     "output_type": "execute_result"
    }
   ],
   "source": [
    "from langchain_core.output_parsers import JsonOutputParser\n",
    "\n",
    "chain = prompt | llm | JsonOutputParser()\n",
    "chain.invoke({\"input\": \"4的平方是多少？\"})"
   ]
  },
  {
   "cell_type": "code",
   "execution_count": 17,
   "id": "b3e3d579-7243-4edf-92f5-7760af5e66df",
   "metadata": {
    "execution": {
     "iopub.execute_input": "2024-07-11T01:26:56.842009Z",
     "iopub.status.busy": "2024-07-11T01:26:56.841692Z",
     "iopub.status.idle": "2024-07-11T01:26:56.846223Z",
     "shell.execute_reply": "2024-07-11T01:26:56.845764Z",
     "shell.execute_reply.started": "2024-07-11T01:26:56.841991Z"
    },
    "tags": []
   },
   "outputs": [],
   "source": [
    "from typing import Any, Dict, Optional, TypedDict\n",
    "\n",
    "from langchain_core.runnables import RunnableConfig\n",
    "\n",
    "\n",
    "class ToolCallRequest(TypedDict):\n",
    "    \"\"\"A typed dict that shows the inputs into the invoke_tool function.\"\"\"\n",
    "\n",
    "    name: str\n",
    "    arguments: Dict[str, Any]\n",
    "\n",
    "\n",
    "def invoke_tool(\n",
    "    tool_call_request: ToolCallRequest, config: Optional[RunnableConfig] = None\n",
    "):\n",
    "    \"\"\"A function that we can use the perform a tool invocation.\n",
    "\n",
    "    Args:\n",
    "        tool_call_request: a dict that contains the keys name and arguments.\n",
    "            The name must match the name of a tool that exists.\n",
    "            The arguments are the arguments to that tool.\n",
    "        config: This is configuration information that LangChain uses that contains\n",
    "            things like callbacks, metadata, etc.See LCEL documentation about RunnableConfig.\n",
    "\n",
    "    Returns:\n",
    "        output from the requested tool\n",
    "    \"\"\"\n",
    "    tool_name_to_tool = {tool.name: tool for tool in tools}\n",
    "    name = tool_call_request[\"name\"]\n",
    "    requested_tool = tool_name_to_tool[name]\n",
    "    return requested_tool.invoke(tool_call_request[\"arguments\"], config=config)"
   ]
  },
  {
   "cell_type": "code",
   "execution_count": 18,
   "id": "9bf8138f-31cd-4251-835d-d2141fa4c648",
   "metadata": {
    "execution": {
     "iopub.execute_input": "2024-07-11T01:27:10.301013Z",
     "iopub.status.busy": "2024-07-11T01:27:10.300637Z",
     "iopub.status.idle": "2024-07-11T01:27:10.306906Z",
     "shell.execute_reply": "2024-07-11T01:27:10.306183Z",
     "shell.execute_reply.started": "2024-07-11T01:27:10.300990Z"
    },
    "tags": []
   },
   "outputs": [
    {
     "data": {
      "text/plain": [
       "15.0"
      ]
     },
     "execution_count": 18,
     "metadata": {},
     "output_type": "execute_result"
    }
   ],
   "source": [
    "invoke_tool({\"name\": \"multiply\", \"arguments\": {\"x\": 3, \"y\": 5}})"
   ]
  },
  {
   "cell_type": "code",
   "execution_count": 19,
   "id": "009e5038-f993-4bb2-852c-2149f58f4124",
   "metadata": {
    "execution": {
     "iopub.execute_input": "2024-07-11T01:27:30.240687Z",
     "iopub.status.busy": "2024-07-11T01:27:30.240351Z",
     "iopub.status.idle": "2024-07-11T01:27:31.690703Z",
     "shell.execute_reply": "2024-07-11T01:27:31.687490Z",
     "shell.execute_reply.started": "2024-07-11T01:27:30.240667Z"
    },
    "tags": []
   },
   "outputs": [
    {
     "data": {
      "text/plain": [
       "95"
      ]
     },
     "execution_count": 19,
     "metadata": {},
     "output_type": "execute_result"
    }
   ],
   "source": [
    "chain = prompt | llm | JsonOutputParser() | invoke_tool\n",
    "chain.invoke({\"input\": \"6+89=？\"})"
   ]
  },
  {
   "cell_type": "code",
   "execution_count": 20,
   "id": "2c3a9a3f-8b61-4896-9c5d-c16521f05d43",
   "metadata": {
    "execution": {
     "iopub.execute_input": "2024-07-11T01:30:02.583643Z",
     "iopub.status.busy": "2024-07-11T01:30:02.583295Z",
     "iopub.status.idle": "2024-07-11T01:30:18.886309Z",
     "shell.execute_reply": "2024-07-11T01:30:18.885784Z",
     "shell.execute_reply.started": "2024-07-11T01:30:02.583625Z"
    },
    "tags": []
   },
   "outputs": [],
   "source": [
    "from langchain.document_loaders import PyPDFLoader\n",
    "from langchain_community.document_loaders import TextLoader\n",
    "from langchain_community.vectorstores import FAISS\n",
    "from langchain_openai import OpenAIEmbeddings\n",
    "from langchain_text_splitters import RecursiveCharacterTextSplitter\n",
    "\n",
    "documents = []\n",
    "dc_name = [\"soybean_konw.pdf\", \"soybean2.pdf\"]\n",
    "for tmp_name in dc_name:\n",
    "    # print(len(PyPDFLoader(tmp_name).load()))\n",
    "    documents += PyPDFLoader(tmp_name).load()\n",
    "\n",
    "text_splitter = RecursiveCharacterTextSplitter(chunk_size=500, chunk_overlap=200)\n",
    "texts = text_splitter.split_documents(documents[:])\n",
    "for idx, text in enumerate(texts):\n",
    "    text.metadata[\"id\"] = idx\n",
    "from langchain_chroma import Chroma\n",
    "from langchain.schema import Document\n",
    "from langchain_community.embeddings import HuggingFaceBgeEmbeddings\n",
    "\n",
    "top_k = 10\n",
    "\n",
    "model_name = '/mnt/workspace/.cache/modelscope/hub/maple77/zpoint_large_embedding_zh'\n",
    "model_kwargs = {'device': 'cpu'}\n",
    "encode_kwargs = {'normalize_embeddings': True}\n",
    "hf = HuggingFaceBgeEmbeddings(\n",
    "    model_name=model_name,\n",
    "    model_kwargs=model_kwargs,\n",
    "    encode_kwargs=encode_kwargs\n",
    ")\n",
    "vectorstore = Chroma(persist_directory=\"soybean_db2\", embedding_function=hf)\n",
    "retriever = vectorstore.as_retriever(\n",
    "    search_type=\"similarity\",\n",
    "    search_kwargs={\"k\": top_k}\n",
    ")"
   ]
  },
  {
   "cell_type": "code",
   "execution_count": 21,
   "id": "a4b239cd-e274-4319-8515-2a1f2fea053c",
   "metadata": {
    "execution": {
     "iopub.execute_input": "2024-07-11T01:32:20.713798Z",
     "iopub.status.busy": "2024-07-11T01:32:20.713452Z",
     "iopub.status.idle": "2024-07-11T01:32:20.716890Z",
     "shell.execute_reply": "2024-07-11T01:32:20.716372Z",
     "shell.execute_reply.started": "2024-07-11T01:32:20.713772Z"
    },
    "tags": []
   },
   "outputs": [],
   "source": [
    "from langchain.tools.retriever import create_retriever_tool\n",
    "retriever_tool = create_retriever_tool(\n",
    "    retriever,\n",
    "    \"soybean_info_search\",\n",
    "    \"search for information about soybean\"\n",
    ")"
   ]
  },
  {
   "cell_type": "code",
   "execution_count": 22,
   "id": "7818e302-958f-431f-af22-d8a4b542f577",
   "metadata": {
    "execution": {
     "iopub.execute_input": "2024-07-11T01:32:50.249760Z",
     "iopub.status.busy": "2024-07-11T01:32:50.249435Z",
     "iopub.status.idle": "2024-07-11T01:32:50.260615Z",
     "shell.execute_reply": "2024-07-11T01:32:50.260031Z",
     "shell.execute_reply.started": "2024-07-11T01:32:50.249740Z"
    },
    "tags": []
   },
   "outputs": [
    {
     "name": "stdout",
     "output_type": "stream",
     "text": [
      "--\n",
      "multiply\n",
      "Multiply two numbers together.\n",
      "{'x': {'title': 'X', 'type': 'number'}, 'y': {'title': 'Y', 'type': 'number'}}\n",
      "--\n",
      "add\n",
      "Add two numbers.\n",
      "{'x': {'title': 'X', 'type': 'integer'}, 'y': {'title': 'Y', 'type': 'integer'}}\n",
      "--\n",
      "soybean_info_search\n",
      "search for information about soybean\n",
      "{'query': {'title': 'Query', 'description': 'query to look up in retriever', 'type': 'string'}}\n"
     ]
    }
   ],
   "source": [
    "from langchain_core.tools import tool\n",
    "\n",
    "\n",
    "@tool\n",
    "def multiply(x: float, y: float) -> float:\n",
    "    \"\"\"Multiply two numbers together.\"\"\"\n",
    "    return x * y\n",
    "\n",
    "\n",
    "@tool\n",
    "def add(x: int, y: int) -> int:\n",
    "    \"Add two numbers.\"\n",
    "    return x + y\n",
    "\n",
    "\n",
    "tools = [multiply, add, retriever_tool]\n",
    "\n",
    "# Let's inspect the tools\n",
    "for t in tools:\n",
    "    print(\"--\")\n",
    "    print(t.name)\n",
    "    print(t.description)\n",
    "    print(t.args)"
   ]
  },
  {
   "cell_type": "code",
   "execution_count": 23,
   "id": "0c599488-caf1-495d-bdbc-271c78da1031",
   "metadata": {
    "execution": {
     "iopub.execute_input": "2024-07-11T01:33:44.816420Z",
     "iopub.status.busy": "2024-07-11T01:33:44.815951Z",
     "iopub.status.idle": "2024-07-11T01:33:44.871744Z",
     "shell.execute_reply": "2024-07-11T01:33:44.871072Z",
     "shell.execute_reply.started": "2024-07-11T01:33:44.816381Z"
    },
    "tags": []
   },
   "outputs": [
    {
     "ename": "NotImplementedError",
     "evalue": "",
     "output_type": "error",
     "traceback": [
      "\u001b[0;31m---------------------------------------------------------------------------\u001b[0m",
      "\u001b[0;31mNotImplementedError\u001b[0m                       Traceback (most recent call last)",
      "Cell \u001b[0;32mIn[23], line 1\u001b[0m\n\u001b[0;32m----> 1\u001b[0m \u001b[43mllm\u001b[49m\u001b[38;5;241;43m.\u001b[39;49m\u001b[43mbind_tools\u001b[49m\u001b[43m(\u001b[49m\u001b[43mtools\u001b[49m\u001b[43m)\u001b[49m\n",
      "File \u001b[0;32m/usr/local/lib/python3.10/site-packages/langchain_core/language_models/chat_models.py:1033\u001b[0m, in \u001b[0;36mBaseChatModel.bind_tools\u001b[0;34m(self, tools, **kwargs)\u001b[0m\n\u001b[1;32m   1028\u001b[0m \u001b[38;5;28;01mdef\u001b[39;00m \u001b[38;5;21mbind_tools\u001b[39m(\n\u001b[1;32m   1029\u001b[0m     \u001b[38;5;28mself\u001b[39m,\n\u001b[1;32m   1030\u001b[0m     tools: Sequence[Union[Dict[\u001b[38;5;28mstr\u001b[39m, Any], Type[BaseModel], Callable, BaseTool]],\n\u001b[1;32m   1031\u001b[0m     \u001b[38;5;241m*\u001b[39m\u001b[38;5;241m*\u001b[39mkwargs: Any,\n\u001b[1;32m   1032\u001b[0m ) \u001b[38;5;241m-\u001b[39m\u001b[38;5;241m>\u001b[39m Runnable[LanguageModelInput, BaseMessage]:\n\u001b[0;32m-> 1033\u001b[0m     \u001b[38;5;28;01mraise\u001b[39;00m \u001b[38;5;167;01mNotImplementedError\u001b[39;00m()\n",
      "\u001b[0;31mNotImplementedError\u001b[0m: "
     ]
    }
   ],
   "source": [
    "llm.bind_tools(tools)"
   ]
  }
 ],
 "metadata": {
  "kernelspec": {
   "display_name": "Python 3 (ipykernel)",
   "language": "python",
   "name": "python3"
  },
  "language_info": {
   "codemirror_mode": {
    "name": "ipython",
    "version": 3
   },
   "file_extension": ".py",
   "mimetype": "text/x-python",
   "name": "python",
   "nbconvert_exporter": "python",
   "pygments_lexer": "ipython3",
   "version": "3.10.14"
  }
 },
 "nbformat": 4,
 "nbformat_minor": 5
}
