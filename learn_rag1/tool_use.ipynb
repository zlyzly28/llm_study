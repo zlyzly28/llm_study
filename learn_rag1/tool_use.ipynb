{
 "cells": [
  {
   "cell_type": "code",
   "execution_count": 10,
   "id": "8afc87db-f47b-4f5a-86e8-a03f21c10314",
   "metadata": {
    "ExecutionIndicator": {
     "show": true
    },
    "execution": {
     "iopub.execute_input": "2024-07-08T10:12:29.021672Z",
     "iopub.status.busy": "2024-07-08T10:12:29.020977Z",
     "iopub.status.idle": "2024-07-08T10:12:29.028040Z",
     "shell.execute_reply": "2024-07-08T10:12:29.027062Z",
     "shell.execute_reply.started": "2024-07-08T10:12:29.021623Z"
    },
    "tags": []
   },
   "outputs": [],
   "source": [
    "from datasets import Dataset \n",
    "from ragas.metrics import faithfulness\n",
    "from ragas import evaluate\n",
    "import os\n",
    "from datasets import Dataset\n",
    "from langchain_community.embeddings import HuggingFaceBgeEmbeddings\n",
    "from langchain_community.chat_models import ChatZhipuAI\n",
    "from ragas.llms import LangchainLLMWrapper\n",
    "from ragas.embeddings import LangchainEmbeddingsWrapper\n",
    "import os\n",
    "os.environ[\"ZHIPUAI_API_KEY\"] = \"661a7aa0aeb8ca129eb4647461123230.bl9w581QKpnMfBvs\"\n",
    "chat = ChatZhipuAI(\n",
    "    model=\"glm-4-0520\",\n",
    "    temperature=0.5,\n",
    ")\n"
   ]
  },
  {
   "cell_type": "code",
   "execution_count": 17,
   "id": "97f3e7c9-9af8-45c8-bda9-4430cae7cc5a",
   "metadata": {
    "ExecutionIndicator": {
     "show": true
    },
    "execution": {
     "iopub.execute_input": "2024-07-08T10:23:14.611296Z",
     "iopub.status.busy": "2024-07-08T10:23:14.610736Z",
     "iopub.status.idle": "2024-07-08T10:23:14.617950Z",
     "shell.execute_reply": "2024-07-08T10:23:14.616094Z",
     "shell.execute_reply.started": "2024-07-08T10:23:14.611253Z"
    },
    "tags": []
   },
   "outputs": [],
   "source": [
    "from langchain_community.chat_models import ChatTongyi\n",
    "\n",
    "tongyi_chat = ChatTongyi(\n",
    "    model=\"qwen-max-0428\",\n",
    "    # top_p=\"...\",\n",
    "    api_key=\"sk-a3905c2ac95d450d954b4a397244a7d9\",\n",
    "    # other params...\n",
    ")"
   ]
  },
  {
   "cell_type": "code",
   "execution_count": 18,
   "id": "4b4ff7b2-1c06-4a40-be51-69efdd32e20a",
   "metadata": {
    "ExecutionIndicator": {
     "show": true
    },
    "execution": {
     "iopub.execute_input": "2024-07-08T10:23:15.895449Z",
     "iopub.status.busy": "2024-07-08T10:23:15.895132Z",
     "iopub.status.idle": "2024-07-08T10:23:16.871970Z",
     "shell.execute_reply": "2024-07-08T10:23:16.871518Z",
     "shell.execute_reply.started": "2024-07-08T10:23:15.895431Z"
    },
    "tags": []
   },
   "outputs": [
    {
     "data": {
      "text/plain": [
       "AIMessage(content='I enjoy programming.', response_metadata={'model_name': 'qwen-max-0428', 'finish_reason': 'stop', 'request_id': 'd60f23ba-5360-9039-a312-6e41c7399e12', 'token_usage': {'input_tokens': 30, 'output_tokens': 4, 'total_tokens': 34}}, id='run-8db69089-4e92-45af-90b9-d48480f297f8-0')"
      ]
     },
     "execution_count": 18,
     "metadata": {},
     "output_type": "execute_result"
    }
   ],
   "source": [
    "messages = [\n",
    "    (\"system\", \"你是一名专业的翻译家，可以将用户的中文翻译为英文。\"),\n",
    "    (\"human\", \"我喜欢编程。\"),\n",
    "]\n",
    "tongyi_chat.invoke(messages)"
   ]
  },
  {
   "cell_type": "code",
   "execution_count": 12,
   "id": "83c2f5d9-6149-4d9b-8b4a-9760e184d97a",
   "metadata": {
    "ExecutionIndicator": {
     "show": true
    },
    "execution": {
     "iopub.execute_input": "2024-07-08T10:12:48.751841Z",
     "iopub.status.busy": "2024-07-08T10:12:48.751347Z",
     "iopub.status.idle": "2024-07-08T10:12:48.760727Z",
     "shell.execute_reply": "2024-07-08T10:12:48.760221Z",
     "shell.execute_reply.started": "2024-07-08T10:12:48.751816Z"
    },
    "tags": []
   },
   "outputs": [],
   "source": [
    "from langchain_core.pydantic_v1 import BaseModel, Field\n",
    "from langchain_core.tools import tool\n",
    "\n",
    "# ✅ Pydantic class\n",
    "class multiply(BaseModel):\n",
    "    \"\"\"Return product of 'x' and 'y'.\"\"\"\n",
    "    x: float = Field(..., description=\"First factor\")\n",
    "    y: float = Field(..., description=\"Second factor\")\n",
    "    \n",
    "# ✅ LangChain tool\n",
    "@tool\n",
    "def exponentiate(x: float, y: float) -> float:\n",
    "    \"\"\"Raise 'x' to the 'y'.\"\"\"\n",
    "    return x**y\n",
    "    \n",
    "# ✅ Function\n",
    "\n",
    "def subtract(x: float, y: float) -> float:\n",
    "    \"\"\"Subtract 'x' from 'y'.\"\"\"\n",
    "    return y-x\n",
    "    \n",
    "# ✅ OpenAI-format dict\n",
    "# Could also pass in a JSON schema with \"title\" and \"description\" \n",
    "add = {\n",
    "  \"name\": \"add\",\n",
    "  \"description\": \"Add 'x' and 'y'.\",\n",
    "  \"parameters\": {\n",
    "    \"type\": \"object\",\n",
    "    \"properties\": {\n",
    "      \"x\": {\"type\": \"number\", \"description\": \"First number to add\"},\n",
    "      \"y\": {\"type\": \"number\", \"description\": \"Second number to add\"}\n",
    "    },\n",
    "    \"required\": [\"x\", \"y\"]\n",
    "  }\n",
    "}"
   ]
  },
  {
   "cell_type": "code",
   "execution_count": 23,
   "id": "e04b068c-53cf-4215-9afd-c00d01025409",
   "metadata": {
    "ExecutionIndicator": {
     "show": true
    },
    "execution": {
     "iopub.execute_input": "2024-07-08T10:33:05.331022Z",
     "iopub.status.busy": "2024-07-08T10:33:05.330553Z",
     "iopub.status.idle": "2024-07-08T10:33:05.335114Z",
     "shell.execute_reply": "2024-07-08T10:33:05.334493Z",
     "shell.execute_reply.started": "2024-07-08T10:33:05.330993Z"
    },
    "tags": []
   },
   "outputs": [],
   "source": [
    "llm_with_tools = tongyi_chat.bind_tools([exponentiate, add, subtract])"
   ]
  },
  {
   "cell_type": "code",
   "execution_count": null,
   "id": "7564494b-0806-4423-b5de-119cf1bfc045",
   "metadata": {
    "tags": []
   },
   "outputs": [],
   "source": [
    "llm_with_tools.kwargs"
   ]
  },
  {
   "cell_type": "code",
   "execution_count": 27,
   "id": "e1399888-f874-4bdb-ac6a-a8186ab0e80f",
   "metadata": {
    "ExecutionIndicator": {
     "show": false
    },
    "execution": {
     "iopub.execute_input": "2024-07-08T10:43:09.083400Z",
     "iopub.status.busy": "2024-07-08T10:43:09.083063Z",
     "iopub.status.idle": "2024-07-08T10:43:11.928751Z",
     "shell.execute_reply": "2024-07-08T10:43:11.928246Z",
     "shell.execute_reply.started": "2024-07-08T10:43:09.083380Z"
    },
    "tags": []
   },
   "outputs": [],
   "source": [
    "query = 'what is 3 ** 12?'\n",
    "tr = llm_with_tools.invoke(query).tool_calls"
   ]
  },
  {
   "cell_type": "code",
   "execution_count": 28,
   "id": "7d4a0645-7102-4d8c-97e4-aebbc10ddf20",
   "metadata": {
    "execution": {
     "iopub.execute_input": "2024-07-08T10:43:13.492462Z",
     "iopub.status.busy": "2024-07-08T10:43:13.492126Z",
     "iopub.status.idle": "2024-07-08T10:43:13.495343Z",
     "shell.execute_reply": "2024-07-08T10:43:13.494904Z",
     "shell.execute_reply.started": "2024-07-08T10:43:13.492444Z"
    },
    "tags": []
   },
   "outputs": [
    {
     "name": "stdout",
     "output_type": "stream",
     "text": [
      "{'name': 'exponentiate', 'args': {'x': 3, 'y': 12}, 'id': ''}\n"
     ]
    }
   ],
   "source": [
    "for tc in tr:\n",
    "    print(tc)"
   ]
  },
  {
   "cell_type": "code",
   "execution_count": 30,
   "id": "b76cdd06-cabb-4410-823d-ba271dfa8a2e",
   "metadata": {
    "ExecutionIndicator": {
     "show": true
    },
    "execution": {
     "iopub.execute_input": "2024-07-08T10:49:28.445051Z",
     "iopub.status.busy": "2024-07-08T10:49:28.444723Z",
     "iopub.status.idle": "2024-07-08T10:49:28.447968Z",
     "shell.execute_reply": "2024-07-08T10:49:28.447452Z",
     "shell.execute_reply.started": "2024-07-08T10:49:28.445033Z"
    },
    "tags": []
   },
   "outputs": [],
   "source": [
    "selected_tool = {\"add\":add, \"multiply\":multiply, \"exponentiate\": exponentiate}[tc['name'].lower()]"
   ]
  },
  {
   "cell_type": "code",
   "execution_count": 33,
   "id": "0c8839f6-5015-456d-8bdb-7d33d80c41d4",
   "metadata": {
    "ExecutionIndicator": {
     "show": true
    },
    "execution": {
     "iopub.execute_input": "2024-07-08T11:36:29.135031Z",
     "iopub.status.busy": "2024-07-08T11:36:29.134584Z",
     "iopub.status.idle": "2024-07-08T11:36:29.140280Z",
     "shell.execute_reply": "2024-07-08T11:36:29.139547Z",
     "shell.execute_reply.started": "2024-07-08T11:36:29.135003Z"
    },
    "tags": []
   },
   "outputs": [
    {
     "data": {
      "text/plain": [
       "531441.0"
      ]
     },
     "execution_count": 33,
     "metadata": {},
     "output_type": "execute_result"
    }
   ],
   "source": [
    "selected_tool.invoke(tc[\"args\"])"
   ]
  }
 ],
 "metadata": {
  "kernelspec": {
   "display_name": "Python 3 (ipykernel)",
   "language": "python",
   "name": "python3"
  },
  "language_info": {
   "codemirror_mode": {
    "name": "ipython",
    "version": 3
   },
   "file_extension": ".py",
   "mimetype": "text/x-python",
   "name": "python",
   "nbconvert_exporter": "python",
   "pygments_lexer": "ipython3",
   "version": "3.10.14"
  }
 },
 "nbformat": 4,
 "nbformat_minor": 5
}
