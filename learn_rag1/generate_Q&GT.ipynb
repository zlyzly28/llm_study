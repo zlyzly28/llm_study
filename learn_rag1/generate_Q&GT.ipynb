{
 "cells": [
  {
   "cell_type": "code",
   "execution_count": 6,
   "id": "cc81a148-9269-4eb3-b06e-7b959f1eaaea",
   "metadata": {
    "ExecutionIndicator": {
     "show": true
    },
    "execution": {
     "iopub.execute_input": "2024-07-03T07:02:27.785593Z",
     "iopub.status.busy": "2024-07-03T07:02:27.785266Z",
     "iopub.status.idle": "2024-07-03T07:02:28.774806Z",
     "shell.execute_reply": "2024-07-03T07:02:28.774298Z",
     "shell.execute_reply.started": "2024-07-03T07:02:27.785572Z"
    },
    "tags": []
   },
   "outputs": [],
   "source": [
    "from langchain.document_loaders import PyPDFLoader\n",
    "from langchain_community.document_loaders import TextLoader\n",
    "from langchain_community.vectorstores import FAISS\n",
    "from langchain_openai import OpenAIEmbeddings\n",
    "from langchain_text_splitters import RecursiveCharacterTextSplitter\n",
    "\n",
    "documents = []\n",
    "dc_name = [\"soybean_konw.pdf\", \"soybean2.pdf\"]\n",
    "for tmp_name in dc_name:\n",
    "    # print(len(PyPDFLoader(tmp_name).load()))\n",
    "    documents += PyPDFLoader(tmp_name).load()\n",
    "\n",
    "text_splitter = RecursiveCharacterTextSplitter(chunk_size=500, chunk_overlap=200)\n",
    "texts = text_splitter.split_documents(documents[:])\n",
    "for idx, text in enumerate(texts):\n",
    "    text.metadata[\"id\"] = idx\n"
   ]
  },
  {
   "cell_type": "code",
   "execution_count": 9,
   "id": "9c82bbb1-0aa7-4b70-ae05-429974bdb4a0",
   "metadata": {
    "ExecutionIndicator": {
     "show": true
    },
    "execution": {
     "iopub.execute_input": "2024-07-03T07:07:31.918579Z",
     "iopub.status.busy": "2024-07-03T07:07:31.918265Z",
     "iopub.status.idle": "2024-07-03T07:07:32.071861Z",
     "shell.execute_reply": "2024-07-03T07:07:32.071404Z",
     "shell.execute_reply.started": "2024-07-03T07:07:31.918559Z"
    },
    "tags": []
   },
   "outputs": [
    {
     "name": "stderr",
     "output_type": "stream",
     "text": [
      "/usr/local/lib/python3.10/site-packages/langchain_core/_api/deprecation.py:139: LangChainDeprecationWarning: The class `ChatOpenAI` was deprecated in LangChain 0.0.10 and will be removed in 0.3.0. An updated version of the class exists in the langchain-openai package and should be used instead. To use it run `pip install -U langchain-openai` and import as `from langchain_openai import ChatOpenAI`.\n",
      "  warn_deprecated(\n"
     ]
    }
   ],
   "source": [
    "from langchain.schema.runnable import RunnablePassthrough\n",
    "from langchain.schema.output_parser import StrOutputParser\n",
    "from langchain.chat_models import ChatOpenAI\n",
    "\n",
    "llm = ChatOpenAI(\n",
    "    temperature=0.6,\n",
    "    model=\"glm-4-0520\",\n",
    "    openai_api_key=\"661a7aa0aeb8ca129eb4647461123230.bl9w581QKpnMfBvs\",\n",
    "    openai_api_base=\"https://open.bigmodel.cn/api/paas/v4/\"\n",
    ")\n"
   ]
  },
  {
   "cell_type": "code",
   "execution_count": 10,
   "id": "f6bad46e-1eba-4db4-b811-0d3d1cb22712",
   "metadata": {
    "execution": {
     "iopub.execute_input": "2024-07-03T07:12:52.043385Z",
     "iopub.status.busy": "2024-07-03T07:12:52.043082Z",
     "iopub.status.idle": "2024-07-03T07:12:52.047558Z",
     "shell.execute_reply": "2024-07-03T07:12:52.047124Z",
     "shell.execute_reply.started": "2024-07-03T07:12:52.043366Z"
    },
    "tags": []
   },
   "outputs": [],
   "source": [
    "from typing import List\n",
    "from typing import Literal, Optional, Tuple\n",
    "from langchain_core.output_parsers import PydanticOutputParser\n",
    "from langchain_core.prompts import ChatPromptTemplate\n",
    "from langchain_core.pydantic_v1 import BaseModel, Field\n",
    "\n",
    "\n",
    "class Soybean_Q_GT(BaseModel):\n",
    "\n",
    "    question: str = Field(\n",
    "        ..., description=\"Given contextual information, not prior knowledge. Generate questions based only on the following queries.\"\n",
    "    )\n",
    "    ground_truth: str = Field(\n",
    "        ..., description=\"Given contextual information, not prior knowledge. Give the corresponding answers only according to the questions generated above.\"\n",
    "    )\n",
    "\n",
    "# Set up a parser\n",
    "parser = PydanticOutputParser(pydantic_object=Soybean_Q_GT)"
   ]
  },
  {
   "cell_type": "code",
   "execution_count": 35,
   "id": "f03d3fb9-238b-4e35-a4ed-cd05afb03e8a",
   "metadata": {
    "ExecutionIndicator": {
     "show": true
    },
    "execution": {
     "iopub.execute_input": "2024-07-03T07:50:11.422779Z",
     "iopub.status.busy": "2024-07-03T07:50:11.422456Z",
     "iopub.status.idle": "2024-07-03T07:50:11.426407Z",
     "shell.execute_reply": "2024-07-03T07:50:11.425976Z",
     "shell.execute_reply.started": "2024-07-03T07:50:11.422760Z"
    },
    "tags": []
   },
   "outputs": [],
   "source": [
    "from langchain import PromptTemplate\n",
    "# Prompt\n",
    "prompt = ChatPromptTemplate.from_messages(\n",
    "    [\n",
    "        (\n",
    "            \"system\",\n",
    "            \"Answer the user query. Wrap the output in `json` tags\\n{format_instructions}\",\n",
    "        ),\n",
    "        (\n",
    "            \"human\", \n",
    "            \"\"\"\n",
    "            Context information is below.\n",
    "            ---------------------\n",
    "            {context}\n",
    "            ---------------------\n",
    "            Given contextual information, not prior knowledge.Ask questions and find out the truth in the context below.\n",
    "            You're a college professor. Your task is to set a question for the upcoming Chinese test and give the corresponding standard answer. The questions should be diverse throughout the exam.\n",
    "            Questions must be written in Chinese. The questions are concise and the standard answers are as varied as possible.\n",
    "            No more than 30 Chinese characters. Punctuation marks such as \"this\", \"that\", \"according to\", \"according to\" should not be used. Abbreviations can be used for titles and technical terms.\n",
    "            \"\"\"\n",
    "        ),\n",
    "    ]\n",
    ").partial(format_instructions=parser.get_format_instructions())\n"
   ]
  },
  {
   "cell_type": "code",
   "execution_count": 36,
   "id": "921bd98d-42c7-4988-b38e-7ea358db71b7",
   "metadata": {
    "execution": {
     "iopub.execute_input": "2024-07-03T07:50:15.578397Z",
     "iopub.status.busy": "2024-07-03T07:50:15.578088Z",
     "iopub.status.idle": "2024-07-03T07:50:15.581331Z",
     "shell.execute_reply": "2024-07-03T07:50:15.580907Z",
     "shell.execute_reply.started": "2024-07-03T07:50:15.578378Z"
    },
    "tags": []
   },
   "outputs": [],
   "source": [
    "rag_chain = (\n",
    "    {\"context\": RunnablePassthrough()} \n",
    "    | prompt \n",
    "    | llm\n",
    "    | parser \n",
    ")\n"
   ]
  },
  {
   "cell_type": "code",
   "execution_count": null,
   "id": "4071f8ec-d86a-407b-80b4-279d2c501bcc",
   "metadata": {
    "tags": []
   },
   "outputs": [],
   "source": [
    "query = \"北豆40，为产于黑龙江省的大豆种子。是由黑龙江省农垦总局红兴隆科学研究所与黑龙江省农垦科研育种中心共同研发的产品。品种特性该品种平均生育期120天，长叶、紫花、亚有限结荚习性。株高85.8厘米，单株有效荚数34.4个，百粒重19.0克。籽粒圆形，种皮黄色，黄脐。接种鉴定，中抗大豆灰斑病，中抗SMVⅠ号株系，中感SMVⅢ号株系。粗蛋白质含量40.78%，粗脂肪含量21.99%。产量表现2006年参加北方春大豆中早熟组品种区域试验，亩产210.6千克，比对照绥农14增产4.0%，极显著；2007年续试，亩产181.2千克，比对照增产6.5%，极显著；两年区域试验亩产195.9千克，比对照增产5.2%。2007年生产试验，亩产166.8千克，比对照增产5.2%。栽培技术要点地温稳定通过7～8℃开始播种，适宜种植密度为每亩1.6万～1.7万株；以深秋施肥为好，每亩施纯量化肥8～10千克，氮、磷、钾比例1∶1.15～1.5∶0.8。该品种符合国家大豆品种审定标准，通过审定。适宜在黑龙江省第二积温带和第三积温带上限，吉林省东部地区春播种植。\"\n",
    "\n",
    "print(prompt.invoke(query).to_string())\n",
    "z = rag_chain.invoke({\"context\": query})\n",
    "z"
   ]
  },
  {
   "cell_type": "code",
   "execution_count": 37,
   "id": "c71c3f06-555a-4445-bd6f-70cf2800630c",
   "metadata": {
    "ExecutionIndicator": {
     "show": true
    },
    "execution": {
     "iopub.execute_input": "2024-07-03T07:50:19.302862Z",
     "iopub.status.busy": "2024-07-03T07:50:19.302545Z",
     "iopub.status.idle": "2024-07-03T07:50:19.306739Z",
     "shell.execute_reply": "2024-07-03T07:50:19.306277Z",
     "shell.execute_reply.started": "2024-07-03T07:50:19.302842Z"
    },
    "tags": []
   },
   "outputs": [],
   "source": [
    "content = [texts[i].page_content for i in range(len(texts))]\n",
    "idk = [texts[i].metadata['id'] for i in range(len(texts))]\n",
    "source = [texts[i].metadata['source'] for i in range(len(texts))]\n",
    "page = [texts[i].metadata['page'] for i in range(len(texts))]"
   ]
  },
  {
   "cell_type": "code",
   "execution_count": 38,
   "id": "e57ee08a-3b8b-4fe8-b535-b0ff695c60e4",
   "metadata": {
    "ExecutionIndicator": {
     "show": true
    },
    "execution": {
     "iopub.execute_input": "2024-07-03T07:50:37.128251Z",
     "iopub.status.busy": "2024-07-03T07:50:37.127933Z",
     "iopub.status.idle": "2024-07-03T07:51:32.233368Z",
     "shell.execute_reply": "2024-07-03T07:51:32.232873Z",
     "shell.execute_reply.started": "2024-07-03T07:50:37.128232Z"
    },
    "tags": []
   },
   "outputs": [
    {
     "name": "stdout",
     "output_type": "stream",
     "text": [
      "609\n"
     ]
    }
   ],
   "source": [
    "question_gt = rag_chain.batch(content[:])\n",
    "print(len(question_gt))"
   ]
  },
  {
   "cell_type": "code",
   "execution_count": 39,
   "id": "df316738-de08-4bc4-b268-bbe360eaf675",
   "metadata": {
    "execution": {
     "iopub.execute_input": "2024-07-03T07:51:32.234501Z",
     "iopub.status.busy": "2024-07-03T07:51:32.234267Z",
     "iopub.status.idle": "2024-07-03T07:51:32.237350Z",
     "shell.execute_reply": "2024-07-03T07:51:32.236936Z",
     "shell.execute_reply.started": "2024-07-03T07:51:32.234485Z"
    },
    "tags": []
   },
   "outputs": [],
   "source": [
    "question_list, ground_th_list = [], []\n",
    "for j in question_gt:\n",
    "    question_list.append(j.question)\n",
    "    ground_th_list.append(j.ground_truth)"
   ]
  },
  {
   "cell_type": "code",
   "execution_count": 40,
   "id": "9312be52-3204-4add-85d4-062fe819334f",
   "metadata": {
    "ExecutionIndicator": {
     "show": true
    },
    "execution": {
     "iopub.execute_input": "2024-07-03T07:51:32.238195Z",
     "iopub.status.busy": "2024-07-03T07:51:32.237984Z",
     "iopub.status.idle": "2024-07-03T07:51:32.244337Z",
     "shell.execute_reply": "2024-07-03T07:51:32.243929Z",
     "shell.execute_reply.started": "2024-07-03T07:51:32.238180Z"
    },
    "tags": []
   },
   "outputs": [
    {
     "name": "stdout",
     "output_type": "stream",
     "text": [
      "      id            source  page  \\\n",
      "0      0  soybean_konw.pdf     0   \n",
      "1      1  soybean_konw.pdf     0   \n",
      "2      2  soybean_konw.pdf     0   \n",
      "3      3  soybean_konw.pdf     0   \n",
      "4      4  soybean_konw.pdf     0   \n",
      "..   ...               ...   ...   \n",
      "604  604      soybean2.pdf    14   \n",
      "605  605      soybean2.pdf    14   \n",
      "606  606      soybean2.pdf    14   \n",
      "607  607      soybean2.pdf    15   \n",
      "608  608      soybean2.pdf    15   \n",
      "\n",
      "                                              question  \\\n",
      "0                                          请简述本文的发表时间。   \n",
      "1                                      本文第一作者的工作单位是什么？   \n",
      "2                                     该文章发表在哪个期刊的哪个部分？   \n",
      "3                             《大豆产量形成生理学》一文的发表时间是什么时候？   \n",
      "4                                     作者们致力于什么方面的作物改良？   \n",
      "..                                                 ...   \n",
      "604           《自然》期刊中哪一年发表了Williams和Hinton关于反向传播误差的文章？   \n",
      "605                           《欧洲期刊》中关于无人机的研究主要包括哪些方面？   \n",
      "606                            无人机获取的高分辨率图像通常用于哪方面的量化？   \n",
      "607                               微高光谱成像仪与热成像相机用于什么检测？   \n",
      "608  《ISPRS Journal of Photogrammetry and Remote Se...   \n",
      "\n",
      "                                          ground_truth  \\\n",
      "0                                          2021年11月15日   \n",
      "1                                                 BASF   \n",
      "2    Frontiers in Plant Science的Crop and Product Ph...   \n",
      "3                                                2021年   \n",
      "4                                               提高作物产量   \n",
      "..                                                 ...   \n",
      "604                                              1986年   \n",
      "605                             无人机在树高量化中的应用和三维照片重建方法。   \n",
      "606                                  三维照片重建方法在农业领域的应用。   \n",
      "607                                          用于遥感环境检测。   \n",
      "608                                               学术期刊   \n",
      "\n",
      "                                               context  \n",
      "0    fpls-12-719706 November 9, 2021 Time: 12:48 # ...  \n",
      "1    Heart, Italy\\n*Correspondence:\\nJonathan T. Vo...  \n",
      "2    This article was submitted to\\nCrop and Produc...  \n",
      "3    Yield Formation Physiology –\\nA Foundation for...  \n",
      "4    Improvement\\nJonathan T. Vogel *, Weidong Liu,...  \n",
      "..                                                 ...  \n",
      "604  Williams, D., Hinton, G., 1986. Learning repre...  \n",
      "605  Zaman-Allah, M., Vergara, O., Araus, J., Tarek...  \n",
      "606  quantiﬁcation using very high resolution image...  \n",
      "607  detection using a micro-hyperspectral imager a...  \n",
      "608  unmanned aerial vehicle (UAV). Agric. For. Met...  \n",
      "\n",
      "[609 rows x 6 columns]\n"
     ]
    }
   ],
   "source": [
    "import pandas as pd\n",
    "\n",
    "# 示例字典\n",
    "data_dict = {\n",
    "    'id': idk,\n",
    "    'source': source,\n",
    "    'page': page,\n",
    "    'question': question_list,\n",
    "    'ground_truth': ground_th_list,\n",
    "    'context': content[:]\n",
    "}\n",
    "\n",
    "# 将字典转换为Pandas DataFrame\n",
    "df = pd.DataFrame(data_dict)\n",
    "\n",
    "# 打印DataFrame\n",
    "print(df)"
   ]
  },
  {
   "cell_type": "code",
   "execution_count": 42,
   "id": "9885d7ab-9bae-4a96-9bc6-f5bb188aacdc",
   "metadata": {
    "execution": {
     "iopub.execute_input": "2024-07-03T07:53:36.868170Z",
     "iopub.status.busy": "2024-07-03T07:53:36.867835Z",
     "iopub.status.idle": "2024-07-03T07:53:36.944611Z",
     "shell.execute_reply": "2024-07-03T07:53:36.944066Z",
     "shell.execute_reply.started": "2024-07-03T07:53:36.868143Z"
    },
    "tags": []
   },
   "outputs": [],
   "source": [
    "df.to_excel('soybean_q_gt_609.xlsx', index=False)"
   ]
  }
 ],
 "metadata": {
  "kernelspec": {
   "display_name": "Python 3 (ipykernel)",
   "language": "python",
   "name": "python3"
  },
  "language_info": {
   "codemirror_mode": {
    "name": "ipython",
    "version": 3
   },
   "file_extension": ".py",
   "mimetype": "text/x-python",
   "name": "python",
   "nbconvert_exporter": "python",
   "pygments_lexer": "ipython3",
   "version": "3.10.14"
  }
 },
 "nbformat": 4,
 "nbformat_minor": 5
}
