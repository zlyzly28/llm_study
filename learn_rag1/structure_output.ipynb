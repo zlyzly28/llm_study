{
 "cells": [
  {
   "cell_type": "code",
   "execution_count": 6,
   "id": "777883ae-2e37-4e9c-81e1-8d0c62bd36ce",
   "metadata": {
    "execution": {
     "iopub.execute_input": "2024-07-02T08:46:05.649105Z",
     "iopub.status.busy": "2024-07-02T08:46:05.648791Z",
     "iopub.status.idle": "2024-07-02T08:46:05.748263Z",
     "shell.execute_reply": "2024-07-02T08:46:05.747806Z",
     "shell.execute_reply.started": "2024-07-02T08:46:05.649086Z"
    },
    "tags": []
   },
   "outputs": [],
   "source": [
    "from langchain.schema.runnable import RunnablePassthrough\n",
    "from langchain.schema.output_parser import StrOutputParser\n",
    "from langchain.chat_models import ChatOpenAI\n",
    "\n",
    "llm = ChatOpenAI(\n",
    "    temperature=0.6,\n",
    "    model=\"glm-4-0520\",\n",
    "    openai_api_key=\"661a7aa0aeb8ca129eb4647461123230.bl9w581QKpnMfBvs\",\n",
    "    openai_api_base=\"https://open.bigmodel.cn/api/paas/v4/\"\n",
    ")\n"
   ]
  },
  {
   "cell_type": "code",
   "execution_count": 6,
   "id": "6b95f0d9-97a1-4a5d-95b2-bdae7e5848fc",
   "metadata": {
    "ExecutionIndicator": {
     "show": true
    },
    "execution": {
     "iopub.execute_input": "2024-07-01T10:17:24.028177Z",
     "iopub.status.busy": "2024-07-01T10:17:24.027852Z",
     "iopub.status.idle": "2024-07-01T10:17:24.031909Z",
     "shell.execute_reply": "2024-07-01T10:17:24.031462Z",
     "shell.execute_reply.started": "2024-07-01T10:17:24.028158Z"
    },
    "tags": []
   },
   "outputs": [],
   "source": [
    "from typing import Literal\n",
    "\n",
    "from langchain_core.prompts import ChatPromptTemplate\n",
    "from langchain_core.pydantic_v1 import BaseModel, Field\n",
    "\n",
    "# Data model\n",
    "class RouteQuery(BaseModel):\n",
    "    \"\"\"Route a user query to the most relevant datasource.\"\"\"\n",
    "\n",
    "    datasource: Literal[\"python_docs\", \"js_docs\", \"golang_docs\"] = Field(\n",
    "        ...,\n",
    "        description=\"Given a user question choose which datasource would be most relevant for answering their question\",\n",
    "    )\n",
    "\n",
    "# LLM with function call\n"
   ]
  },
  {
   "cell_type": "code",
   "execution_count": 19,
   "id": "0842f530-0a7c-48df-b1c5-46789e2b013e",
   "metadata": {
    "ExecutionIndicator": {
     "show": true
    },
    "execution": {
     "iopub.execute_input": "2024-07-01T10:33:08.865754Z",
     "iopub.status.busy": "2024-07-01T10:33:08.865392Z",
     "iopub.status.idle": "2024-07-01T10:33:08.870830Z",
     "shell.execute_reply": "2024-07-01T10:33:08.870370Z",
     "shell.execute_reply.started": "2024-07-01T10:33:08.865733Z"
    },
    "tags": []
   },
   "outputs": [],
   "source": [
    "from typing import List\n",
    "\n",
    "from langchain_core.output_parsers import PydanticOutputParser\n",
    "from langchain_core.prompts import ChatPromptTemplate\n",
    "from langchain_core.pydantic_v1 import BaseModel, Field\n",
    "\n",
    "\n",
    "class Person(BaseModel):\n",
    "    \"\"\"Information about a person.\"\"\"\n",
    "\n",
    "    name: str = Field(..., description=\"The name of the person\")\n",
    "    height_in_meters: float = Field(\n",
    "        ..., description=\"The height of the person expressed in meters.\"\n",
    "    )\n",
    "\n",
    "\n",
    "# Set up a parser\n",
    "parser = PydanticOutputParser(pydantic_object=Person)\n",
    "\n",
    "# Prompt\n",
    "prompt = ChatPromptTemplate.from_messages(\n",
    "    [\n",
    "        (\n",
    "            \"system\",\n",
    "            \"Answer the user query. Wrap the output in `json` tags\\n{format_instructions}\",\n",
    "        ),\n",
    "        (\"human\", \"{query}\"),\n",
    "    ]\n",
    ").partial(format_instructions=parser.get_format_instructions())"
   ]
  },
  {
   "cell_type": "code",
   "execution_count": null,
   "id": "c10ff38a-089a-4815-a8b3-9cb3e23f90fc",
   "metadata": {
    "tags": []
   },
   "outputs": [],
   "source": [
    "PydanticOutputParser(pydantic_object=Person).get_format_instructions()"
   ]
  },
  {
   "cell_type": "code",
   "execution_count": null,
   "id": "0f0b7379-9ff2-40d1-a460-544844a02601",
   "metadata": {
    "tags": []
   },
   "outputs": [],
   "source": [
    "query = \"Anna is 23 years old and she is 6 feet tall\"\n",
    "\n",
    "print(prompt.invoke(query).to_string())"
   ]
  },
  {
   "cell_type": "code",
   "execution_count": 13,
   "id": "b659ceac-f249-4665-baed-a3adc6cd7ec4",
   "metadata": {
    "ExecutionIndicator": {
     "show": true
    },
    "execution": {
     "iopub.execute_input": "2024-07-01T10:32:17.259015Z",
     "iopub.status.busy": "2024-07-01T10:32:17.258621Z",
     "iopub.status.idle": "2024-07-01T10:32:18.650796Z",
     "shell.execute_reply": "2024-07-01T10:32:18.650294Z",
     "shell.execute_reply.started": "2024-07-01T10:32:17.258984Z"
    },
    "tags": []
   },
   "outputs": [],
   "source": [
    "chain = prompt | llm | parser\n",
    "\n",
    "z = chain.invoke({\"query\": query})"
   ]
  },
  {
   "cell_type": "code",
   "execution_count": null,
   "id": "c6d240e3-77d7-46d8-9ee1-30ad19a8a038",
   "metadata": {},
   "outputs": [],
   "source": []
  },
  {
   "cell_type": "code",
   "execution_count": 1,
   "id": "e389c1d8-01da-474e-801c-ec53272fb684",
   "metadata": {
    "ExecutionIndicator": {
     "show": false
    },
    "execution": {
     "iopub.execute_input": "2024-07-02T07:50:49.256039Z",
     "iopub.status.busy": "2024-07-02T07:50:49.255722Z",
     "iopub.status.idle": "2024-07-02T07:50:49.635093Z",
     "shell.execute_reply": "2024-07-02T07:50:49.634643Z",
     "shell.execute_reply.started": "2024-07-02T07:50:49.256015Z"
    },
    "tags": []
   },
   "outputs": [],
   "source": [
    "from typing import List\n",
    "from typing import Literal, Optional, Tuple\n",
    "from langchain_core.output_parsers import PydanticOutputParser\n",
    "from langchain_core.prompts import ChatPromptTemplate\n",
    "from langchain_core.pydantic_v1 import BaseModel, Field\n",
    "\n",
    "\n",
    "class Soybean_varinfor(BaseModel):\n",
    "    \"\"\"Information about a person.\"\"\"\n",
    "\n",
    "    name: str = Field(\n",
    "        ..., description=\"大豆的品种名称\"\n",
    "    )\n",
    "    yield_soy: float = Field(\n",
    "        ..., description=\"大豆的产量信息(kg/ha)\"\n",
    "    )\n",
    "    shengyuqi: int = Field(\n",
    "        ...,\n",
    "        description=\"根据用户提出的问题，回答品种平均生育期(天)\",\n",
    "    )\n",
    "    pingzhong: Literal[\"大豆\", \"牧草\", \"玉米\"] = Field(\n",
    "        ...,\n",
    "        description=\"根据用户提出的问题，选择最相关的农业作物类型来源以回答他们的问题\",\n",
    "    )\n",
    "    yield_ofsoy_100: Optional[float] = Field(\n",
    "        None,\n",
    "        description=\"百粒重（克）\",\n",
    "    )\n",
    "    \n",
    "\n",
    "# Set up a parser\n",
    "parser = PydanticOutputParser(pydantic_object=Soybean_varinfor)\n",
    "\n",
    "# Prompt\n",
    "prompt = ChatPromptTemplate.from_messages(\n",
    "    [\n",
    "        (\n",
    "            \"system\",\n",
    "            \"Answer the user query. Wrap the output in `json` tags\\n{format_instructions}\",\n",
    "        ),\n",
    "        (\"human\", \"{query}\"),\n",
    "    ]\n",
    ").partial(format_instructions=parser.get_format_instructions())\n"
   ]
  },
  {
   "cell_type": "code",
   "execution_count": 2,
   "id": "c86f1c39-882f-4447-b90d-b58564c6cc14",
   "metadata": {
    "execution": {
     "iopub.execute_input": "2024-07-02T08:27:22.308903Z",
     "iopub.status.busy": "2024-07-02T08:27:22.308570Z",
     "iopub.status.idle": "2024-07-02T08:27:22.316737Z",
     "shell.execute_reply": "2024-07-02T08:27:22.316305Z",
     "shell.execute_reply.started": "2024-07-02T08:27:22.308884Z"
    },
    "tags": []
   },
   "outputs": [
    {
     "name": "stdout",
     "output_type": "stream",
     "text": [
      "System: Answer the user query. Wrap the output in `json` tags\n",
      "The output should be formatted as a JSON instance that conforms to the JSON schema below.\n",
      "\n",
      "As an example, for the schema {\"properties\": {\"foo\": {\"title\": \"Foo\", \"description\": \"a list of strings\", \"type\": \"array\", \"items\": {\"type\": \"string\"}}}, \"required\": [\"foo\"]}\n",
      "the object {\"foo\": [\"bar\", \"baz\"]} is a well-formatted instance of the schema. The object {\"properties\": {\"foo\": [\"bar\", \"baz\"]}} is not well-formatted.\n",
      "\n",
      "Here is the output schema:\n",
      "```\n",
      "{\"description\": \"Information about a person.\", \"properties\": {\"name\": {\"title\": \"Name\", \"description\": \"\\u5927\\u8c46\\u7684\\u54c1\\u79cd\\u540d\\u79f0\", \"type\": \"string\"}, \"yield_soy\": {\"title\": \"Yield Soy\", \"description\": \"\\u5927\\u8c46\\u7684\\u4ea7\\u91cf\\u4fe1\\u606f(kg/ha)\", \"type\": \"number\"}, \"shengyuqi\": {\"title\": \"Shengyuqi\", \"description\": \"\\u6839\\u636e\\u7528\\u6237\\u63d0\\u51fa\\u7684\\u95ee\\u9898\\uff0c\\u56de\\u7b54\\u54c1\\u79cd\\u5e73\\u5747\\u751f\\u80b2\\u671f(\\u5929)\", \"type\": \"integer\"}, \"pingzhong\": {\"title\": \"Pingzhong\", \"description\": \"\\u6839\\u636e\\u7528\\u6237\\u63d0\\u51fa\\u7684\\u95ee\\u9898\\uff0c\\u9009\\u62e9\\u6700\\u76f8\\u5173\\u7684\\u519c\\u4e1a\\u4f5c\\u7269\\u7c7b\\u578b\\u6765\\u6e90\\u4ee5\\u56de\\u7b54\\u4ed6\\u4eec\\u7684\\u95ee\\u9898\", \"enum\": [\"\\u5927\\u8c46\", \"\\u7267\\u8349\", \"\\u7389\\u7c73\"], \"type\": \"string\"}, \"yield_ofsoy_100\": {\"title\": \"Yield Ofsoy 100\", \"description\": \"\\u767e\\u7c92\\u91cd\\uff08\\u514b\\uff09\", \"type\": \"number\"}}, \"required\": [\"name\", \"yield_soy\", \"shengyuqi\", \"pingzhong\"]}\n",
      "```\n",
      "Human: 北豆40，为产于黑龙江省的大豆种子。是由黑龙江省农垦总局红兴隆科学研究所与黑龙江省农垦科研育种中心共同研发的产品。品种特性该品种平均生育期120天，长叶、紫花、亚有限结荚习性。株高85.8厘米，单株有效荚数34.4个，百粒重19.0克。籽粒圆形，种皮黄色，黄脐。接种鉴定，中抗大豆灰斑病，中抗SMVⅠ号株系，中感SMVⅢ号株系。粗蛋白质含量40.78%，粗脂肪含量21.99%。产量表现2006年参加北方春大豆中早熟组品种区域试验，亩产210.6千克，比对照绥农14增产4.0%，极显著；2007年续试，亩产181.2千克，比对照增产6.5%，极显著；两年区域试验亩产195.9千克，比对照增产5.2%。2007年生产试验，亩产166.8千克，比对照增产5.2%。栽培技术要点地温稳定通过7～8℃开始播种，适宜种植密度为每亩1.6万～1.7万株；以深秋施肥为好，每亩施纯量化肥8～10千克，氮、磷、钾比例1∶1.15～1.5∶0.8。该品种符合国家大豆品种审定标准，通过审定。适宜在黑龙江省第二积温带和第三积温带上限，吉林省东部地区春播种植。\n"
     ]
    }
   ],
   "source": [
    "query = \"北豆40，为产于黑龙江省的大豆种子。是由黑龙江省农垦总局红兴隆科学研究所与黑龙江省农垦科研育种中心共同研发的产品。品种特性该品种平均生育期120天，长叶、紫花、亚有限结荚习性。株高85.8厘米，单株有效荚数34.4个，百粒重19.0克。籽粒圆形，种皮黄色，黄脐。接种鉴定，中抗大豆灰斑病，中抗SMVⅠ号株系，中感SMVⅢ号株系。粗蛋白质含量40.78%，粗脂肪含量21.99%。产量表现2006年参加北方春大豆中早熟组品种区域试验，亩产210.6千克，比对照绥农14增产4.0%，极显著；2007年续试，亩产181.2千克，比对照增产6.5%，极显著；两年区域试验亩产195.9千克，比对照增产5.2%。2007年生产试验，亩产166.8千克，比对照增产5.2%。栽培技术要点地温稳定通过7～8℃开始播种，适宜种植密度为每亩1.6万～1.7万株；以深秋施肥为好，每亩施纯量化肥8～10千克，氮、磷、钾比例1∶1.15～1.5∶0.8。该品种符合国家大豆品种审定标准，通过审定。适宜在黑龙江省第二积温带和第三积温带上限，吉林省东部地区春播种植。\"\n",
    "\n",
    "print(prompt.invoke(query).to_string())"
   ]
  },
  {
   "cell_type": "code",
   "execution_count": 5,
   "id": "c8a6c65c-65da-44fd-af9a-5a9882bee4db",
   "metadata": {
    "ExecutionIndicator": {
     "show": true
    },
    "execution": {
     "iopub.execute_input": "2024-07-02T08:27:33.734629Z",
     "iopub.status.busy": "2024-07-02T08:27:33.734306Z",
     "iopub.status.idle": "2024-07-02T08:27:36.757825Z",
     "shell.execute_reply": "2024-07-02T08:27:36.757390Z",
     "shell.execute_reply.started": "2024-07-02T08:27:33.734611Z"
    },
    "tags": []
   },
   "outputs": [
    {
     "data": {
      "text/plain": [
       "Soybean_varinfor(name='北豆40', yield_soy=195.9, shengyuqi=120, pingzhong='大豆', yield_ofsoy_100=19.0)"
      ]
     },
     "execution_count": 5,
     "metadata": {},
     "output_type": "execute_result"
    }
   ],
   "source": [
    "chain = prompt | llm | parser\n",
    "\n",
    "z = chain.invoke({\"query\": query})\n",
    "z"
   ]
  },
  {
   "cell_type": "code",
   "execution_count": null,
   "id": "a01bca9c-e47e-4cd9-85ad-765500087bb7",
   "metadata": {},
   "outputs": [],
   "source": []
  }
 ],
 "metadata": {
  "kernelspec": {
   "display_name": "Python 3 (ipykernel)",
   "language": "python",
   "name": "python3"
  },
  "language_info": {
   "codemirror_mode": {
    "name": "ipython",
    "version": 3
   },
   "file_extension": ".py",
   "mimetype": "text/x-python",
   "name": "python",
   "nbconvert_exporter": "python",
   "pygments_lexer": "ipython3",
   "version": "3.10.14"
  }
 },
 "nbformat": 4,
 "nbformat_minor": 5
}
