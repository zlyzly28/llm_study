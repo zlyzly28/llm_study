{
 "cells": [
  {
   "cell_type": "code",
   "execution_count": null,
   "id": "fc137168-857f-42a5-98af-4439984bda0f",
   "metadata": {
    "tags": []
   },
   "outputs": [],
   "source": [
    "!pip install langchain openai arxiv pymupdf ragas==0.1.9\n",
    "!pip install llama-index llama-index-llms-huggingface ipywidgets\n",
    "!pip install transformers -U\n",
    "!pip install sentence_transformers\n",
    "!pip install unstructured\n",
    "!pip install pdfminer\n",
    "!pip install pypdf PyPDFLoader\n",
    "!pip install rapidocr-onnxruntime\n",
    "!pip install langchain_chroma\n",
    "!pip install pdfplumber\n",
    "!pip install langchain unstructured[all-docs] pydantic lxml langchainhub\n",
    "!pip install --upgrade httpx httpx-sse PyJWT\n",
    "!pip install rank_bm25\n",
    "!pip install dashscope\n",
    "! pip install langchain_community tiktoken langchain-openai langchainhub chromadb langchain langgraph tavily-python"
   ]
  },
  {
   "cell_type": "code",
   "execution_count": null,
   "id": "1785bc61-5296-4b00-8fb0-4a345bb32263",
   "metadata": {
    "tags": []
   },
   "outputs": [],
   "source": [
    "from modelscope import snapshot_download\n",
    "model_dir = snapshot_download(\"maple77/zpoint_large_embedding_zh\")\n",
    "model_dir = snapshot_download(\"Xorbits/bge-reranker-base\")"
   ]
  },
  {
   "cell_type": "code",
   "execution_count": 10,
   "id": "fe727221-3876-4cb2-8f99-e1d8d9a2bf3a",
   "metadata": {
    "execution": {
     "iopub.execute_input": "2024-07-12T06:50:09.984180Z",
     "iopub.status.busy": "2024-07-12T06:50:09.983830Z",
     "iopub.status.idle": "2024-07-12T06:50:24.766564Z",
     "shell.execute_reply": "2024-07-12T06:50:24.766036Z",
     "shell.execute_reply.started": "2024-07-12T06:50:09.984160Z"
    },
    "tags": []
   },
   "outputs": [],
   "source": [
    "import zipfile\n",
    "import os\n",
    "\n",
    "def compress_folder(folder_path, output_zip_path):\n",
    "    \"\"\"\n",
    "    压缩指定文件夹到zip文件\n",
    "    :param folder_path: 要压缩的文件夹路径\n",
    "    :param output_zip_path: 输出的zip文件路径\n",
    "    \"\"\"\n",
    "    with zipfile.ZipFile(output_zip_path, 'w', zipfile.ZIP_DEFLATED) as zipf:\n",
    "        for root, dirs, files in os.walk(folder_path):\n",
    "            # 去掉文件夹路径中的最前面的部分，只保留相对路径\n",
    "            for file in files:\n",
    "                zipf.write(os.path.join(root, file), os.path.relpath(os.path.join(root, file), folder_path))\n",
    "\n",
    "# 使用方法\n",
    "folder_to_compress = 'soybean_database'  # 比如 'C:/my_folder'\n",
    "zip_file_path = 'soybean_database.zip'  # 比如 'compressed_files.zip'\n",
    "\n",
    "compress_folder(folder_to_compress, zip_file_path)"
   ]
  }
 ],
 "metadata": {
  "kernelspec": {
   "display_name": "Python 3 (ipykernel)",
   "language": "python",
   "name": "python3"
  },
  "language_info": {
   "codemirror_mode": {
    "name": "ipython",
    "version": 3
   },
   "file_extension": ".py",
   "mimetype": "text/x-python",
   "name": "python",
   "nbconvert_exporter": "python",
   "pygments_lexer": "ipython3",
   "version": "3.10.14"
  }
 },
 "nbformat": 4,
 "nbformat_minor": 5
}
