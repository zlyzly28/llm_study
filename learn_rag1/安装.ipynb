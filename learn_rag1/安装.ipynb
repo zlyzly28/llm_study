{
 "cells": [
  {
   "cell_type": "code",
   "execution_count": null,
   "id": "fc137168-857f-42a5-98af-4439984bda0f",
   "metadata": {},
   "outputs": [],
   "source": [
    "!pip install langchain openai arxiv pymupdf ragas==0.1.9\n",
    "!pip install llama-index llama-index-llms-huggingface ipywidgets\n",
    "!pip install transformers -U\n",
    "!pip install sentence_transformers\n",
    "!pip install unstructured\n",
    "!pip install pdfminer\n",
    "!pip install pypdf PyPDFLoader\n",
    "!pip install rapidocr-onnxruntime\n",
    "!pip install langchain_chroma\n",
    "!pip install pdfplumber\n",
    "!pip install langchain unstructured[all-docs] pydantic lxml langchainhub\n",
    "!pip install --upgrade httpx httpx-sse PyJWT\n",
    "!pip install rank_bm25\n",
    "!pip install dashscope\n",
    "! pip install langchain_community tiktoken langchain-openai langchainhub chromadb langchain langgraph tavily-python"
   ]
  },
  {
   "cell_type": "code",
   "execution_count": null,
   "id": "1785bc61-5296-4b00-8fb0-4a345bb32263",
   "metadata": {
    "tags": []
   },
   "outputs": [],
   "source": [
    "from modelscope import snapshot_download\n",
    "model_dir = snapshot_download(\"maple77/zpoint_large_embedding_zh\")\n",
    "model_dir = snapshot_download(\"Xorbits/bge-reranker-base\")"
   ]
  }
 ],
 "metadata": {
  "kernelspec": {
   "display_name": "Python 3 (ipykernel)",
   "language": "python",
   "name": "python3"
  },
  "language_info": {
   "codemirror_mode": {
    "name": "ipython",
    "version": 3
   },
   "file_extension": ".py",
   "mimetype": "text/x-python",
   "name": "python",
   "nbconvert_exporter": "python",
   "pygments_lexer": "ipython3",
   "version": "3.10.14"
  }
 },
 "nbformat": 4,
 "nbformat_minor": 5
}
