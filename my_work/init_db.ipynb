{
 "cells": [
  {
   "cell_type": "code",
   "execution_count": 1,
   "id": "5af9e8d2-9bea-4e31-af07-03851722d65b",
   "metadata": {
    "ExecutionIndicator": {
     "show": true
    },
    "execution": {
     "iopub.execute_input": "2024-07-31T03:32:16.529884Z",
     "iopub.status.busy": "2024-07-31T03:32:16.529740Z",
     "iopub.status.idle": "2024-07-31T03:32:16.577313Z",
     "shell.execute_reply": "2024-07-31T03:32:16.576875Z",
     "shell.execute_reply.started": "2024-07-31T03:32:16.529867Z"
    },
    "tags": []
   },
   "outputs": [],
   "source": [
    "lines = []\n",
    "with open('data/all_text.txt', 'r', encoding='utf-8') as file:\n",
    "    for line in file:\n",
    "        lines.append(line.strip())"
   ]
  },
  {
   "cell_type": "code",
   "execution_count": 2,
   "id": "459ffe9c-249b-4263-873c-b716547d4adb",
   "metadata": {
    "ExecutionIndicator": {
     "show": true
    },
    "execution": {
     "iopub.execute_input": "2024-07-31T03:32:18.052199Z",
     "iopub.status.busy": "2024-07-31T03:32:18.051877Z",
     "iopub.status.idle": "2024-07-31T03:32:18.552667Z",
     "shell.execute_reply": "2024-07-31T03:32:18.552097Z",
     "shell.execute_reply.started": "2024-07-31T03:32:18.052180Z"
    },
    "tags": []
   },
   "outputs": [],
   "source": [
    "import re\n",
    "def remove_urls(text):\n",
    "    url_pattern = r'http[s]?://(?:[a-zA-Z]|[0-9]|[$-_@.&+]|[!*\\\\(\\\\),]|(?:%[0-9a-fA-F][0-9a-fA-F]))+'\n",
    "\n",
    "    # 使用 re.sub() 函数替换所有匹配的 URL 为 \"\"\n",
    "    text_without_urls = re.sub(url_pattern, '', text)\n",
    "    specific_text_pattern = re.compile(r'扫描下方二维码关注公众号|提取码|关注|科学上网|回复关键词|侵权|版权|致谢|引用|LICENSE'\n",
    "                                   r'|组队打卡|任务打卡|组队学习的那些事|学习周期|开源内容|打卡|组队学习|链接')\n",
    "    text_without_urls = re.sub(specific_text_pattern, '', text)\n",
    "    return text_without_urls\n",
    "from langchain.schema import Document\n",
    "docs = []\n",
    "for idx, line in enumerate(lines):\n",
    "    line = remove_urls(line.strip(\"\\n\").strip())\n",
    "    words = line.split(\"\\t\")\n",
    "    docs.append(Document(page_content=words[0], metadata={\"id\": idx, \"source\": \"all_text.txt\"}))"
   ]
  },
  {
   "cell_type": "code",
   "execution_count": null,
   "id": "8bc0dc0e-58cc-4b48-9133-88d4c3638e86",
   "metadata": {
    "tags": []
   },
   "outputs": [],
   "source": [
    "docs"
   ]
  },
  {
   "cell_type": "code",
   "execution_count": 4,
   "id": "6725cfc9-2cf4-4e36-8524-f547288e9203",
   "metadata": {
    "ExecutionIndicator": {
     "show": true
    },
    "execution": {
     "iopub.execute_input": "2024-07-31T03:32:24.121647Z",
     "iopub.status.busy": "2024-07-31T03:32:24.121283Z",
     "iopub.status.idle": "2024-07-31T03:32:29.676311Z",
     "shell.execute_reply": "2024-07-31T03:32:29.675733Z",
     "shell.execute_reply.started": "2024-07-31T03:32:24.121629Z"
    },
    "tags": []
   },
   "outputs": [
    {
     "name": "stderr",
     "output_type": "stream",
     "text": [
      "/usr/local/lib/python3.10/site-packages/sentence_transformers/cross_encoder/CrossEncoder.py:11: TqdmExperimentalWarning: Using `tqdm.autonotebook.tqdm` in notebook mode. Use `tqdm.tqdm` instead to force console mode (e.g. in jupyter console)\n",
      "  from tqdm.autonotebook import tqdm, trange\n",
      "/usr/local/lib/python3.10/site-packages/_distutils_hack/__init__.py:55: UserWarning: Reliance on distutils from stdlib is deprecated. Users must rely on setuptools to provide the distutils module. Avoid importing distutils or import setuptools first, and avoid setting SETUPTOOLS_USE_DISTUTILS=stdlib. Register concerns at https://github.com/pypa/setuptools/issues/new?template=distutils-deprecation.yml\n",
      "  warnings.warn(\n"
     ]
    }
   ],
   "source": [
    "from langchain_chroma import Chroma\n",
    "from langchain.schema import Document\n",
    "from langchain_community.embeddings import HuggingFaceBgeEmbeddings\n",
    "\n",
    "top_k = 20\n",
    "import torch\n",
    "\n",
    "# 检查 CUDA 是否可用\n",
    "device = torch.device(\"cuda\" if torch.cuda.is_available() else \"cpu\")\n",
    "\n",
    "model_name = '/mnt/workspace/.cache/modelscope/hub/maidalun/bce-embedding-base_v1'\n",
    "model_kwargs = {'device': device}\n",
    "encode_kwargs = {'normalize_embeddings': True}\n",
    "hf = HuggingFaceBgeEmbeddings(\n",
    "    model_name=model_name,\n",
    "    model_kwargs=model_kwargs,\n",
    "    encode_kwargs=encode_kwargs\n",
    ")"
   ]
  },
  {
   "cell_type": "code",
   "execution_count": null,
   "id": "f5503865-8c13-481d-a57e-ace1e6b6f310",
   "metadata": {
    "execution": {
     "iopub.execute_input": "2024-07-31T03:33:05.086002Z",
     "iopub.status.busy": "2024-07-31T03:33:05.085446Z"
    },
    "tags": []
   },
   "outputs": [],
   "source": [
    "vectorstore = Chroma.from_documents(documents=docs[:], embedding=hf, persist_directory=\"db_car_chroma_bce\")"
   ]
  },
  {
   "cell_type": "code",
   "execution_count": null,
   "id": "512c08cc-6ea1-43ce-b6f8-e7feab64664c",
   "metadata": {},
   "outputs": [],
   "source": [
    "retriever = vectorstore.as_retriever(\n",
    "    search_type=\"similarity\",\n",
    "    search_kwargs={\"k\": top_k}\n",
    ")\n",
    "question = \"怎样加热座椅？\"\n",
    "retri_re = retriever.invoke(question)"
   ]
  },
  {
   "cell_type": "code",
   "execution_count": null,
   "id": "bc44f708-c308-4340-b737-0eb6f3b66939",
   "metadata": {
    "execution": {
     "iopub.execute_input": "2024-07-31T03:23:41.042498Z",
     "iopub.status.busy": "2024-07-31T03:23:41.041912Z"
    },
    "tags": []
   },
   "outputs": [],
   "source": [
    "from langchain_community.vectorstores import FAISS\n",
    "db = FAISS.from_documents(docs, hf)"
   ]
  },
  {
   "cell_type": "code",
   "execution_count": null,
   "id": "1da7f37b-753c-4807-a578-3576b5bf5b8d",
   "metadata": {},
   "outputs": [],
   "source": [
    "db.save_local(\"db_car_faiss_bce\")\n",
    "\n",
    "new_db = FAISS.load_local(\"faiss_index\", hf)\n",
    "\n",
    "docs = new_db.similarity_search(\"怎样加热座椅？\")"
   ]
  }
 ],
 "metadata": {
  "kernelspec": {
   "display_name": "Python 3 (ipykernel)",
   "language": "python",
   "name": "python3"
  },
  "language_info": {
   "codemirror_mode": {
    "name": "ipython",
    "version": 3
   },
   "file_extension": ".py",
   "mimetype": "text/x-python",
   "name": "python",
   "nbconvert_exporter": "python",
   "pygments_lexer": "ipython3",
   "version": "3.10.14"
  }
 },
 "nbformat": 4,
 "nbformat_minor": 5
}
